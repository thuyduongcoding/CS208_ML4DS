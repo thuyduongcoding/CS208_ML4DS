{
 "cells": [
  {
   "cell_type": "markdown",
   "metadata": {
    "id": "HFyFIqvM9fvK"
   },
   "source": [
    "# Assignment 3: Decision Tree and Random Forest {-}\n",
    "\n",
    "This assignment aims at familiarizing you with training and testing Decision Tree and Random Forest classification model. Here are the BASIC requirements of the assignment:\n",
    "\n",
    "- Load the data.\n",
    "- Analyze the data.\n",
    "- Check if the data is imbalanced, possibly apply SMOTE to oversample or undersample data classes.\n",
    "- Use GridSearchCV to find the best Decision Tree and Random Forest.\n",
    "- Show the most important features.\n",
    "- Visualize the tree.\n",
    "\n",
    "\n",
    "The dataset you will be working on is 'data-employee-recruitment.csv'. It is composed of attributes such as employee gender, education level, company size, etc., to develop an employee recruitment prediction model.\n",
    "\n",
    "### Submission {-}\n",
    "The structure of submission folder should be organized as follows:\n",
    "\n",
    "- ./\\<StudentID>-assignment3-notebook.ipynb: Jupyter notebook containing source code.\n",
    "\n",
    "The submission folder is named ML4DS-\\<StudentID>-Assignment3 (e.g., ML4DS-2012345-Assigment3) and then compressed with the same name.\n",
    "    \n",
    "### Evaluation {-}\n",
    "Assignment evaluation will be conducted on how you accomplish the assignment requirements. It is a plus if you have data exploration and modeling steps other than the basic requirements. In addition, your code should conform to a Python coding convention such as PEP-8.\n",
    "\n",
    "### Deadline {-}\n",
    "Please visit Canvas for details."
   ]
  },
  {
   "cell_type": "code",
   "execution_count": 1,
   "metadata": {
    "id": "lZzJ1V-oYxJ5"
   },
   "outputs": [],
   "source": [
    "# Load the library\n",
    "import pandas as pd\n",
    "import matplotlib.pyplot as plt\n",
    "import seaborn as sns\n",
    "import numpy as np"
   ]
  },
  {
   "cell_type": "code",
   "execution_count": 2,
   "metadata": {
    "id": "fTT16vA7OSeT"
   },
   "outputs": [],
   "source": [
    "# Load the dataset\n",
    "df = pd.read_csv(\"data-employee-recruitment.csv\")"
   ]
  },
  {
   "cell_type": "code",
   "execution_count": 3,
   "metadata": {
    "colab": {
     "base_uri": "https://localhost:8080/",
     "height": 206
    },
    "id": "yw__0ozDULdP",
    "outputId": "7b93a09a-4948-450f-a14b-3d13711a3d0b"
   },
   "outputs": [
    {
     "data": {
      "text/html": [
       "<div>\n",
       "<style scoped>\n",
       "    .dataframe tbody tr th:only-of-type {\n",
       "        vertical-align: middle;\n",
       "    }\n",
       "\n",
       "    .dataframe tbody tr th {\n",
       "        vertical-align: top;\n",
       "    }\n",
       "\n",
       "    .dataframe thead th {\n",
       "        text-align: right;\n",
       "    }\n",
       "</style>\n",
       "<table border=\"1\" class=\"dataframe\">\n",
       "  <thead>\n",
       "    <tr style=\"text-align: right;\">\n",
       "      <th></th>\n",
       "      <th>enrollee_id</th>\n",
       "      <th>city_development_index</th>\n",
       "      <th>gender</th>\n",
       "      <th>relevent_experience</th>\n",
       "      <th>enrolled_university</th>\n",
       "      <th>education_level</th>\n",
       "      <th>major_discipline</th>\n",
       "      <th>experience</th>\n",
       "      <th>company_size</th>\n",
       "      <th>company_type</th>\n",
       "      <th>last_new_job</th>\n",
       "      <th>training_hours</th>\n",
       "      <th>target</th>\n",
       "    </tr>\n",
       "  </thead>\n",
       "  <tbody>\n",
       "    <tr>\n",
       "      <th>0</th>\n",
       "      <td>14569</td>\n",
       "      <td>0.704</td>\n",
       "      <td>Male</td>\n",
       "      <td>Has relevent experience</td>\n",
       "      <td>Full time course</td>\n",
       "      <td>Graduate</td>\n",
       "      <td>STEM</td>\n",
       "      <td>2</td>\n",
       "      <td>50-99</td>\n",
       "      <td>Pvt Ltd</td>\n",
       "      <td>2</td>\n",
       "      <td>71</td>\n",
       "      <td>1.0</td>\n",
       "    </tr>\n",
       "    <tr>\n",
       "      <th>1</th>\n",
       "      <td>10557</td>\n",
       "      <td>0.594</td>\n",
       "      <td>Female</td>\n",
       "      <td>Has relevent experience</td>\n",
       "      <td>Full time course</td>\n",
       "      <td>Masters</td>\n",
       "      <td>STEM</td>\n",
       "      <td>9</td>\n",
       "      <td>50-99</td>\n",
       "      <td>Early Stage Startup</td>\n",
       "      <td>never</td>\n",
       "      <td>217</td>\n",
       "      <td>1.0</td>\n",
       "    </tr>\n",
       "    <tr>\n",
       "      <th>2</th>\n",
       "      <td>14095</td>\n",
       "      <td>0.596</td>\n",
       "      <td>Male</td>\n",
       "      <td>Has relevent experience</td>\n",
       "      <td>Part time course</td>\n",
       "      <td>Graduate</td>\n",
       "      <td>Humanities</td>\n",
       "      <td>2</td>\n",
       "      <td>100-500</td>\n",
       "      <td>Pvt Ltd</td>\n",
       "      <td>2</td>\n",
       "      <td>12</td>\n",
       "      <td>1.0</td>\n",
       "    </tr>\n",
       "    <tr>\n",
       "      <th>3</th>\n",
       "      <td>16300</td>\n",
       "      <td>0.614</td>\n",
       "      <td>Male</td>\n",
       "      <td>Has relevent experience</td>\n",
       "      <td>Full time course</td>\n",
       "      <td>Masters</td>\n",
       "      <td>STEM</td>\n",
       "      <td>4</td>\n",
       "      <td>50-99</td>\n",
       "      <td>Pvt Ltd</td>\n",
       "      <td>1</td>\n",
       "      <td>20</td>\n",
       "      <td>1.0</td>\n",
       "    </tr>\n",
       "    <tr>\n",
       "      <th>4</th>\n",
       "      <td>14550</td>\n",
       "      <td>0.534</td>\n",
       "      <td>Male</td>\n",
       "      <td>No relevent experience</td>\n",
       "      <td>Full time course</td>\n",
       "      <td>Graduate</td>\n",
       "      <td>STEM</td>\n",
       "      <td>&lt;1</td>\n",
       "      <td>50-99</td>\n",
       "      <td>Early Stage Startup</td>\n",
       "      <td>1</td>\n",
       "      <td>52</td>\n",
       "      <td>1.0</td>\n",
       "    </tr>\n",
       "  </tbody>\n",
       "</table>\n",
       "</div>"
      ],
      "text/plain": [
       "   enrollee_id  city_development_index  gender      relevent_experience  \\\n",
       "0        14569                   0.704    Male  Has relevent experience   \n",
       "1        10557                   0.594  Female  Has relevent experience   \n",
       "2        14095                   0.596    Male  Has relevent experience   \n",
       "3        16300                   0.614    Male  Has relevent experience   \n",
       "4        14550                   0.534    Male   No relevent experience   \n",
       "\n",
       "  enrolled_university education_level major_discipline experience  \\\n",
       "0    Full time course        Graduate             STEM          2   \n",
       "1    Full time course         Masters             STEM          9   \n",
       "2    Part time course        Graduate       Humanities          2   \n",
       "3    Full time course         Masters             STEM          4   \n",
       "4    Full time course        Graduate             STEM         <1   \n",
       "\n",
       "  company_size         company_type last_new_job  training_hours  target  \n",
       "0        50-99              Pvt Ltd            2              71     1.0  \n",
       "1        50-99  Early Stage Startup        never             217     1.0  \n",
       "2      100-500              Pvt Ltd            2              12     1.0  \n",
       "3        50-99              Pvt Ltd            1              20     1.0  \n",
       "4        50-99  Early Stage Startup            1              52     1.0  "
      ]
     },
     "execution_count": 3,
     "metadata": {},
     "output_type": "execute_result"
    }
   ],
   "source": [
    "# Show several data samples\n",
    "df.head()"
   ]
  },
  {
   "cell_type": "markdown",
   "metadata": {
    "id": "lOGHEI2dWLMP"
   },
   "source": [
    "A company is looking for potential candidates from a pool of training program attendants. The dataset contains attendant background (demographics, current company, i.e., data features) and whether he or she is looing for a job change (data label). The company wants to build a prediction model using this dataset. Here follows the data dictionary:\n",
    "\n",
    "* enrollee_id : unique ID for candidate\n",
    "* city_development_index : developement index of the city (scaled)\n",
    "* gender: gender of candidate\n",
    "* relevent_experience: relevant experience of candidate\n",
    "* enrolled_university: type of university course enrolled if any\n",
    "* education_level: education level of candidate\n",
    "* major_discipline: education major discipline of candidate\n",
    "* experience: candidate's total experience in years\n",
    "* company_size: number of employees in the current company of candidate\n",
    "* company_type : Type of current employer\n",
    "* last_new_job: difference in years between previous job and current job\n",
    "* training_hours: training hours completed\n",
    "* target value: 0 – not looking for job change, 1 – looking for a job change"
   ]
  },
  {
   "cell_type": "code",
   "execution_count": 4,
   "metadata": {
    "colab": {
     "base_uri": "https://localhost:8080/"
    },
    "id": "WQzmbzDrWLMR",
    "outputId": "f4dda32b-dd88-4fa2-8ba9-78d71fde7786"
   },
   "outputs": [
    {
     "name": "stdout",
     "output_type": "stream",
     "text": [
      "Data shape: (2135, 13)\n",
      "\n"
     ]
    }
   ],
   "source": [
    "# Shape of data frame\n",
    "print(\"Data shape: \" + str(df.shape) + \"\\n\")     "
   ]
  },
  {
   "cell_type": "code",
   "execution_count": 5,
   "metadata": {
    "id": "ZmSvekQ4WLMQ"
   },
   "outputs": [],
   "source": [
    "# Create a copy of the data frame\n",
    "data = df.copy()"
   ]
  },
  {
   "cell_type": "code",
   "execution_count": 6,
   "metadata": {
    "colab": {
     "base_uri": "https://localhost:8080/",
     "height": 424
    },
    "id": "xGTiTBWhXs4K",
    "outputId": "0579707b-4186-450d-a8b0-0e33469a5cb3"
   },
   "outputs": [
    {
     "data": {
      "text/html": [
       "<div>\n",
       "<style scoped>\n",
       "    .dataframe tbody tr th:only-of-type {\n",
       "        vertical-align: middle;\n",
       "    }\n",
       "\n",
       "    .dataframe tbody tr th {\n",
       "        vertical-align: top;\n",
       "    }\n",
       "\n",
       "    .dataframe thead th {\n",
       "        text-align: right;\n",
       "    }\n",
       "</style>\n",
       "<table border=\"1\" class=\"dataframe\">\n",
       "  <thead>\n",
       "    <tr style=\"text-align: right;\">\n",
       "      <th></th>\n",
       "      <th>city_development_index</th>\n",
       "      <th>gender</th>\n",
       "      <th>relevent_experience</th>\n",
       "      <th>enrolled_university</th>\n",
       "      <th>education_level</th>\n",
       "      <th>major_discipline</th>\n",
       "      <th>experience</th>\n",
       "      <th>company_size</th>\n",
       "      <th>company_type</th>\n",
       "      <th>last_new_job</th>\n",
       "      <th>training_hours</th>\n",
       "      <th>target</th>\n",
       "    </tr>\n",
       "  </thead>\n",
       "  <tbody>\n",
       "    <tr>\n",
       "      <th>0</th>\n",
       "      <td>0.704</td>\n",
       "      <td>Male</td>\n",
       "      <td>Has relevent experience</td>\n",
       "      <td>Full time course</td>\n",
       "      <td>Graduate</td>\n",
       "      <td>STEM</td>\n",
       "      <td>2</td>\n",
       "      <td>50-99</td>\n",
       "      <td>Pvt Ltd</td>\n",
       "      <td>2</td>\n",
       "      <td>71</td>\n",
       "      <td>1.0</td>\n",
       "    </tr>\n",
       "    <tr>\n",
       "      <th>1</th>\n",
       "      <td>0.594</td>\n",
       "      <td>Female</td>\n",
       "      <td>Has relevent experience</td>\n",
       "      <td>Full time course</td>\n",
       "      <td>Masters</td>\n",
       "      <td>STEM</td>\n",
       "      <td>9</td>\n",
       "      <td>50-99</td>\n",
       "      <td>Early Stage Startup</td>\n",
       "      <td>never</td>\n",
       "      <td>217</td>\n",
       "      <td>1.0</td>\n",
       "    </tr>\n",
       "    <tr>\n",
       "      <th>2</th>\n",
       "      <td>0.596</td>\n",
       "      <td>Male</td>\n",
       "      <td>Has relevent experience</td>\n",
       "      <td>Part time course</td>\n",
       "      <td>Graduate</td>\n",
       "      <td>Humanities</td>\n",
       "      <td>2</td>\n",
       "      <td>100-500</td>\n",
       "      <td>Pvt Ltd</td>\n",
       "      <td>2</td>\n",
       "      <td>12</td>\n",
       "      <td>1.0</td>\n",
       "    </tr>\n",
       "    <tr>\n",
       "      <th>3</th>\n",
       "      <td>0.614</td>\n",
       "      <td>Male</td>\n",
       "      <td>Has relevent experience</td>\n",
       "      <td>Full time course</td>\n",
       "      <td>Masters</td>\n",
       "      <td>STEM</td>\n",
       "      <td>4</td>\n",
       "      <td>50-99</td>\n",
       "      <td>Pvt Ltd</td>\n",
       "      <td>1</td>\n",
       "      <td>20</td>\n",
       "      <td>1.0</td>\n",
       "    </tr>\n",
       "    <tr>\n",
       "      <th>4</th>\n",
       "      <td>0.534</td>\n",
       "      <td>Male</td>\n",
       "      <td>No relevent experience</td>\n",
       "      <td>Full time course</td>\n",
       "      <td>Graduate</td>\n",
       "      <td>STEM</td>\n",
       "      <td>&lt;1</td>\n",
       "      <td>50-99</td>\n",
       "      <td>Early Stage Startup</td>\n",
       "      <td>1</td>\n",
       "      <td>52</td>\n",
       "      <td>1.0</td>\n",
       "    </tr>\n",
       "    <tr>\n",
       "      <th>...</th>\n",
       "      <td>...</td>\n",
       "      <td>...</td>\n",
       "      <td>...</td>\n",
       "      <td>...</td>\n",
       "      <td>...</td>\n",
       "      <td>...</td>\n",
       "      <td>...</td>\n",
       "      <td>...</td>\n",
       "      <td>...</td>\n",
       "      <td>...</td>\n",
       "      <td>...</td>\n",
       "      <td>...</td>\n",
       "    </tr>\n",
       "    <tr>\n",
       "      <th>2130</th>\n",
       "      <td>0.698</td>\n",
       "      <td>Female</td>\n",
       "      <td>No relevent experience</td>\n",
       "      <td>Part time course</td>\n",
       "      <td>Graduate</td>\n",
       "      <td>Other</td>\n",
       "      <td>3</td>\n",
       "      <td>10/49</td>\n",
       "      <td>Funded Startup</td>\n",
       "      <td>1</td>\n",
       "      <td>14</td>\n",
       "      <td>0.0</td>\n",
       "    </tr>\n",
       "    <tr>\n",
       "      <th>2131</th>\n",
       "      <td>0.920</td>\n",
       "      <td>Male</td>\n",
       "      <td>No relevent experience</td>\n",
       "      <td>Full time course</td>\n",
       "      <td>Graduate</td>\n",
       "      <td>STEM</td>\n",
       "      <td>3</td>\n",
       "      <td>10000+</td>\n",
       "      <td>NGO</td>\n",
       "      <td>1</td>\n",
       "      <td>94</td>\n",
       "      <td>0.0</td>\n",
       "    </tr>\n",
       "    <tr>\n",
       "      <th>2132</th>\n",
       "      <td>0.926</td>\n",
       "      <td>Male</td>\n",
       "      <td>Has relevent experience</td>\n",
       "      <td>Full time course</td>\n",
       "      <td>Masters</td>\n",
       "      <td>STEM</td>\n",
       "      <td>19</td>\n",
       "      <td>50-99</td>\n",
       "      <td>Pvt Ltd</td>\n",
       "      <td>4</td>\n",
       "      <td>27</td>\n",
       "      <td>0.0</td>\n",
       "    </tr>\n",
       "    <tr>\n",
       "      <th>2133</th>\n",
       "      <td>0.895</td>\n",
       "      <td>Male</td>\n",
       "      <td>Has relevent experience</td>\n",
       "      <td>Part time course</td>\n",
       "      <td>Masters</td>\n",
       "      <td>Other</td>\n",
       "      <td>&gt;20</td>\n",
       "      <td>1000-4999</td>\n",
       "      <td>Pvt Ltd</td>\n",
       "      <td>&gt;4</td>\n",
       "      <td>18</td>\n",
       "      <td>0.0</td>\n",
       "    </tr>\n",
       "    <tr>\n",
       "      <th>2134</th>\n",
       "      <td>0.624</td>\n",
       "      <td>Male</td>\n",
       "      <td>No relevent experience</td>\n",
       "      <td>Full time course</td>\n",
       "      <td>Graduate</td>\n",
       "      <td>STEM</td>\n",
       "      <td>1</td>\n",
       "      <td>100-500</td>\n",
       "      <td>Pvt Ltd</td>\n",
       "      <td>1</td>\n",
       "      <td>52</td>\n",
       "      <td>1.0</td>\n",
       "    </tr>\n",
       "  </tbody>\n",
       "</table>\n",
       "<p>2135 rows × 12 columns</p>\n",
       "</div>"
      ],
      "text/plain": [
       "      city_development_index  gender      relevent_experience  \\\n",
       "0                      0.704    Male  Has relevent experience   \n",
       "1                      0.594  Female  Has relevent experience   \n",
       "2                      0.596    Male  Has relevent experience   \n",
       "3                      0.614    Male  Has relevent experience   \n",
       "4                      0.534    Male   No relevent experience   \n",
       "...                      ...     ...                      ...   \n",
       "2130                   0.698  Female   No relevent experience   \n",
       "2131                   0.920    Male   No relevent experience   \n",
       "2132                   0.926    Male  Has relevent experience   \n",
       "2133                   0.895    Male  Has relevent experience   \n",
       "2134                   0.624    Male   No relevent experience   \n",
       "\n",
       "     enrolled_university education_level major_discipline experience  \\\n",
       "0       Full time course        Graduate             STEM          2   \n",
       "1       Full time course         Masters             STEM          9   \n",
       "2       Part time course        Graduate       Humanities          2   \n",
       "3       Full time course         Masters             STEM          4   \n",
       "4       Full time course        Graduate             STEM         <1   \n",
       "...                  ...             ...              ...        ...   \n",
       "2130    Part time course        Graduate            Other          3   \n",
       "2131    Full time course        Graduate             STEM          3   \n",
       "2132    Full time course         Masters             STEM         19   \n",
       "2133    Part time course         Masters            Other        >20   \n",
       "2134    Full time course        Graduate             STEM          1   \n",
       "\n",
       "     company_size         company_type last_new_job  training_hours  target  \n",
       "0           50-99              Pvt Ltd            2              71     1.0  \n",
       "1           50-99  Early Stage Startup        never             217     1.0  \n",
       "2         100-500              Pvt Ltd            2              12     1.0  \n",
       "3           50-99              Pvt Ltd            1              20     1.0  \n",
       "4           50-99  Early Stage Startup            1              52     1.0  \n",
       "...           ...                  ...          ...             ...     ...  \n",
       "2130        10/49       Funded Startup            1              14     0.0  \n",
       "2131       10000+                  NGO            1              94     0.0  \n",
       "2132        50-99              Pvt Ltd            4              27     0.0  \n",
       "2133    1000-4999              Pvt Ltd           >4              18     0.0  \n",
       "2134      100-500              Pvt Ltd            1              52     1.0  \n",
       "\n",
       "[2135 rows x 12 columns]"
      ]
     },
     "execution_count": 6,
     "metadata": {},
     "output_type": "execute_result"
    }
   ],
   "source": [
    "# Drop the enrollee_id column\n",
    "data.drop(columns=['enrollee_id'], inplace=True)\n",
    "data"
   ]
  },
  {
   "cell_type": "code",
   "execution_count": 7,
   "metadata": {
    "colab": {
     "base_uri": "https://localhost:8080/"
    },
    "id": "d9HYhxFiYbp6",
    "outputId": "ea74e5ff-cde5-49af-d979-926e76393871"
   },
   "outputs": [
    {
     "name": "stdout",
     "output_type": "stream",
     "text": [
      "<class 'pandas.core.frame.DataFrame'>\n",
      "RangeIndex: 2135 entries, 0 to 2134\n",
      "Data columns (total 12 columns):\n",
      " #   Column                  Non-Null Count  Dtype  \n",
      "---  ------                  --------------  -----  \n",
      " 0   city_development_index  2135 non-null   float64\n",
      " 1   gender                  2135 non-null   object \n",
      " 2   relevent_experience     2135 non-null   object \n",
      " 3   enrolled_university     2135 non-null   object \n",
      " 4   education_level         2135 non-null   object \n",
      " 5   major_discipline        2135 non-null   object \n",
      " 6   experience              2135 non-null   object \n",
      " 7   company_size            2135 non-null   object \n",
      " 8   company_type            2135 non-null   object \n",
      " 9   last_new_job            2135 non-null   object \n",
      " 10  training_hours          2135 non-null   int64  \n",
      " 11  target                  2135 non-null   float64\n",
      "dtypes: float64(2), int64(1), object(9)\n",
      "memory usage: 200.3+ KB\n"
     ]
    }
   ],
   "source": [
    "data.info()"
   ]
  },
  {
   "cell_type": "code",
   "execution_count": 8,
   "metadata": {
    "colab": {
     "base_uri": "https://localhost:8080/"
    },
    "id": "QrRX7OTseBdH",
    "outputId": "e907bd3d-667f-4938-9608-c4971d3d7274"
   },
   "outputs": [
    {
     "data": {
      "text/plain": [
       "False"
      ]
     },
     "execution_count": 8,
     "metadata": {},
     "output_type": "execute_result"
    }
   ],
   "source": [
    "# Check for the missing values\n",
    "df.isnull().values.any()"
   ]
  },
  {
   "cell_type": "code",
   "execution_count": 9,
   "metadata": {
    "colab": {
     "base_uri": "https://localhost:8080/"
    },
    "id": "ytViTrvreIgP",
    "outputId": "f065e266-51e5-4c52-97bd-be51a91d6045"
   },
   "outputs": [
    {
     "data": {
      "text/plain": [
       "0"
      ]
     },
     "execution_count": 9,
     "metadata": {},
     "output_type": "execute_result"
    }
   ],
   "source": [
    "# Check for the duplicated values\n",
    "df.duplicated().sum()"
   ]
  },
  {
   "cell_type": "code",
   "execution_count": 10,
   "metadata": {
    "colab": {
     "base_uri": "https://localhost:8080/"
    },
    "id": "PieRwk_4bs2A",
    "outputId": "3d79bc07-9252-483e-e646-898b7ce6a6c5"
   },
   "outputs": [
    {
     "name": "stdout",
     "output_type": "stream",
     "text": [
      "gender: ['Male' 'Female']\n",
      "relevent_experience: ['Has relevent experience' 'No relevent experience']\n",
      "enrolled_university: ['Full time course' 'Part time course']\n",
      "education_level: ['Graduate' 'Masters' 'Phd']\n",
      "major_discipline: ['STEM' 'Humanities' 'Other' 'No Major' 'Business Degree' 'Arts']\n",
      "experience: ['2' '9' '4' '<1' '5' '3' '11' '10' '7' '12' '1' '16' '15' '8' '13' '17'\n",
      " '>20' '6' '19' '14' '18' '20']\n",
      "company_size: ['50-99' '100-500' '<10' '10000+' '1000-4999' '10/49' '500-999'\n",
      " '5000-9999']\n",
      "company_type: ['Pvt Ltd' 'Early Stage Startup' 'Funded Startup' 'NGO' 'Public Sector'\n",
      " 'Other']\n",
      "last_new_job: ['2' 'never' '1' '4' '3' '>4']\n"
     ]
    }
   ],
   "source": [
    "# Get the values of each categorical feature\n",
    "cat_cols = [col for col in data.columns if data[col].dtypes == \"O\"]\n",
    "for col in cat_cols:\n",
    "    print(col + \":\", data[col].unique())"
   ]
  },
  {
   "cell_type": "code",
   "execution_count": 11,
   "metadata": {},
   "outputs": [],
   "source": [
    "sns.set()"
   ]
  },
  {
   "cell_type": "code",
   "execution_count": 12,
   "metadata": {},
   "outputs": [
    {
     "data": {
      "image/png": "[encoded data removed]",
      "text/plain": [
       "<Figure size 1152x648 with 1 Axes>"
      ]
     },
     "metadata": {},
     "output_type": "display_data"
    },
    {
     "data": {
      "image/png": "[encoded data removed]",
      "text/plain": [
       "<Figure size 1152x648 with 1 Axes>"
      ]
     },
     "metadata": {},
     "output_type": "display_data"
    },
    {
     "data": {
      "image/png": "[encoded data removed]",
      "text/plain": [
       "<Figure size 1152x648 with 1 Axes>"
      ]
     },
     "metadata": {},
     "output_type": "display_data"
    },
    {
     "data": {
      "image/png": "[encoded data removed]",
      "text/plain": [
       "<Figure size 1152x648 with 1 Axes>"
      ]
     },
     "metadata": {},
     "output_type": "display_data"
    },
    {
     "data": {
      "image/png": "[encoded data removed]",
      "text/plain": [
       "<Figure size 1152x648 with 1 Axes>"
      ]
     },
     "metadata": {},
     "output_type": "display_data"
    },
    {
     "data": {
      "image/png": "[encoded data removed]",
      "text/plain": [
       "<Figure size 1152x648 with 1 Axes>"
      ]
     },
     "metadata": {},
     "output_type": "display_data"
    },
    {
     "data": {
      "image/png": "[encoded data removed]",
      "text/plain": [
       "<Figure size 1152x648 with 1 Axes>"
      ]
     },
     "metadata": {},
     "output_type": "display_data"
    },
    {
     "data": {
      "image/png": "[encoded data removed]",
      "text/plain": [
       "<Figure size 1152x648 with 1 Axes>"
      ]
     },
     "metadata": {},
     "output_type": "display_data"
    },
    {
     "data": {
      "image/png": "[encoded data removed]",
      "text/plain": [
       "<Figure size 1152x648 with 1 Axes>"
      ]
     },
     "metadata": {},
     "output_type": "display_data"
    }
   ],
   "source": [
    "# Visualize the number of data samples in each categorical feature\n",
    "for col in cat_cols:\n",
    "    plt.figure(figsize=(16,9))\n",
    "    sns.countplot(x=col, data = df, order=df[col].value_counts().index)\n",
    "    plt.show()"
   ]
  },
  {
   "cell_type": "code",
   "execution_count": 13,
   "metadata": {},
   "outputs": [
    {
     "data": {
      "image/png": "[encoded data removed]",
      "text/plain": [
       "<Figure size 1080x1080 with 4 Axes>"
      ]
     },
     "metadata": {},
     "output_type": "display_data"
    }
   ],
   "source": [
    "df.hist(figsize=(15,15))\n",
    "plt.show()"
   ]
  },
  {
   "cell_type": "markdown",
   "metadata": {},
   "source": [
    "This dataset is balanced so there is no need to use SMOTE"
   ]
  },
  {
   "cell_type": "code",
   "execution_count": 14,
   "metadata": {
    "id": "RDJ94SWgexAQ"
   },
   "outputs": [],
   "source": [
    "# Transform the experience and last_new_job to numerical features\n",
    "data.replace(['<1', 'never'], 0, inplace = True)\n",
    "data.replace('>20', 21, inplace = True)\n",
    "data.replace('>4', 5, inplace = True)\n",
    "\n",
    "data['experience'] = data['experience'].astype(int)\n",
    "data['last_new_job'] = data['last_new_job'].astype(int)"
   ]
  },
  {
   "cell_type": "code",
   "execution_count": 15,
   "metadata": {
    "id": "bEt5yG8dj6ud"
   },
   "outputs": [],
   "source": [
    "# Transform the company_size and education_level to numerical features\n",
    "data['company_size'] = data['company_size'].map({'<10': 0, '10/49': 1, '50-99': 2, '100-500': 3, '500-999': 4, '1000-4999': 5, '5000-9999': 6, '10000+': 7})\n",
    "data['education_level'] = data['education_level'].map({'Graduate': 0, 'Masters': 1, 'Phd': 2})"
   ]
  },
  {
   "cell_type": "code",
   "execution_count": 16,
   "metadata": {
    "id": "1465XtWqnkQc"
   },
   "outputs": [],
   "source": [
    "# Transform the rest categorical features to numerical by One-Hot Encoding\n",
    "data = pd.get_dummies(data)"
   ]
  },
  {
   "cell_type": "code",
   "execution_count": 17,
   "metadata": {
    "id": "j3ANlJaOlTiG"
   },
   "outputs": [],
   "source": [
    "data.drop(columns=['gender_Male', 'relevent_experience_No relevent experience', 'enrolled_university_Part time course'], inplace=True)"
   ]
  },
  {
   "cell_type": "code",
   "execution_count": 18,
   "metadata": {
    "colab": {
     "base_uri": "https://localhost:8080/"
    },
    "id": "nDv8ggWvnw7z",
    "outputId": "ad302d70-4207-479b-e3ec-201d2c40000f"
   },
   "outputs": [
    {
     "name": "stdout",
     "output_type": "stream",
     "text": [
      "<class 'pandas.core.frame.DataFrame'>\n",
      "RangeIndex: 2135 entries, 0 to 2134\n",
      "Data columns (total 22 columns):\n",
      " #   Column                                       Non-Null Count  Dtype  \n",
      "---  ------                                       --------------  -----  \n",
      " 0   city_development_index                       2135 non-null   float64\n",
      " 1   education_level                              2135 non-null   int64  \n",
      " 2   experience                                   2135 non-null   int32  \n",
      " 3   company_size                                 2135 non-null   int64  \n",
      " 4   last_new_job                                 2135 non-null   int32  \n",
      " 5   training_hours                               2135 non-null   int64  \n",
      " 6   target                                       2135 non-null   float64\n",
      " 7   gender_Female                                2135 non-null   uint8  \n",
      " 8   relevent_experience_Has relevent experience  2135 non-null   uint8  \n",
      " 9   enrolled_university_Full time course         2135 non-null   uint8  \n",
      " 10  major_discipline_Arts                        2135 non-null   uint8  \n",
      " 11  major_discipline_Business Degree             2135 non-null   uint8  \n",
      " 12  major_discipline_Humanities                  2135 non-null   uint8  \n",
      " 13  major_discipline_No Major                    2135 non-null   uint8  \n",
      " 14  major_discipline_Other                       2135 non-null   uint8  \n",
      " 15  major_discipline_STEM                        2135 non-null   uint8  \n",
      " 16  company_type_Early Stage Startup             2135 non-null   uint8  \n",
      " 17  company_type_Funded Startup                  2135 non-null   uint8  \n",
      " 18  company_type_NGO                             2135 non-null   uint8  \n",
      " 19  company_type_Other                           2135 non-null   uint8  \n",
      " 20  company_type_Public Sector                   2135 non-null   uint8  \n",
      " 21  company_type_Pvt Ltd                         2135 non-null   uint8  \n",
      "dtypes: float64(2), int32(2), int64(3), uint8(15)\n",
      "memory usage: 131.5 KB\n"
     ]
    }
   ],
   "source": [
    "data.info()"
   ]
  },
  {
   "cell_type": "code",
   "execution_count": 19,
   "metadata": {
    "colab": {
     "base_uri": "https://localhost:8080/",
     "height": 505
    },
    "id": "grE3GrX1n1tb",
    "outputId": "b0bee0a1-2cc5-4991-b5c6-75fdf170ddd0"
   },
   "outputs": [
    {
     "data": {
      "text/html": [
       "<div>\n",
       "<style scoped>\n",
       "    .dataframe tbody tr th:only-of-type {\n",
       "        vertical-align: middle;\n",
       "    }\n",
       "\n",
       "    .dataframe tbody tr th {\n",
       "        vertical-align: top;\n",
       "    }\n",
       "\n",
       "    .dataframe thead th {\n",
       "        text-align: right;\n",
       "    }\n",
       "</style>\n",
       "<table border=\"1\" class=\"dataframe\">\n",
       "  <thead>\n",
       "    <tr style=\"text-align: right;\">\n",
       "      <th></th>\n",
       "      <th>city_development_index</th>\n",
       "      <th>education_level</th>\n",
       "      <th>experience</th>\n",
       "      <th>company_size</th>\n",
       "      <th>last_new_job</th>\n",
       "      <th>training_hours</th>\n",
       "      <th>target</th>\n",
       "      <th>gender_Female</th>\n",
       "      <th>relevent_experience_Has relevent experience</th>\n",
       "      <th>enrolled_university_Full time course</th>\n",
       "      <th>...</th>\n",
       "      <th>major_discipline_Humanities</th>\n",
       "      <th>major_discipline_No Major</th>\n",
       "      <th>major_discipline_Other</th>\n",
       "      <th>major_discipline_STEM</th>\n",
       "      <th>company_type_Early Stage Startup</th>\n",
       "      <th>company_type_Funded Startup</th>\n",
       "      <th>company_type_NGO</th>\n",
       "      <th>company_type_Other</th>\n",
       "      <th>company_type_Public Sector</th>\n",
       "      <th>company_type_Pvt Ltd</th>\n",
       "    </tr>\n",
       "  </thead>\n",
       "  <tbody>\n",
       "    <tr>\n",
       "      <th>0</th>\n",
       "      <td>0.704</td>\n",
       "      <td>0</td>\n",
       "      <td>2</td>\n",
       "      <td>2</td>\n",
       "      <td>2</td>\n",
       "      <td>71</td>\n",
       "      <td>1.0</td>\n",
       "      <td>0</td>\n",
       "      <td>1</td>\n",
       "      <td>1</td>\n",
       "      <td>...</td>\n",
       "      <td>0</td>\n",
       "      <td>0</td>\n",
       "      <td>0</td>\n",
       "      <td>1</td>\n",
       "      <td>0</td>\n",
       "      <td>0</td>\n",
       "      <td>0</td>\n",
       "      <td>0</td>\n",
       "      <td>0</td>\n",
       "      <td>1</td>\n",
       "    </tr>\n",
       "    <tr>\n",
       "      <th>1</th>\n",
       "      <td>0.594</td>\n",
       "      <td>1</td>\n",
       "      <td>9</td>\n",
       "      <td>2</td>\n",
       "      <td>0</td>\n",
       "      <td>217</td>\n",
       "      <td>1.0</td>\n",
       "      <td>1</td>\n",
       "      <td>1</td>\n",
       "      <td>1</td>\n",
       "      <td>...</td>\n",
       "      <td>0</td>\n",
       "      <td>0</td>\n",
       "      <td>0</td>\n",
       "      <td>1</td>\n",
       "      <td>1</td>\n",
       "      <td>0</td>\n",
       "      <td>0</td>\n",
       "      <td>0</td>\n",
       "      <td>0</td>\n",
       "      <td>0</td>\n",
       "    </tr>\n",
       "    <tr>\n",
       "      <th>2</th>\n",
       "      <td>0.596</td>\n",
       "      <td>0</td>\n",
       "      <td>2</td>\n",
       "      <td>3</td>\n",
       "      <td>2</td>\n",
       "      <td>12</td>\n",
       "      <td>1.0</td>\n",
       "      <td>0</td>\n",
       "      <td>1</td>\n",
       "      <td>0</td>\n",
       "      <td>...</td>\n",
       "      <td>1</td>\n",
       "      <td>0</td>\n",
       "      <td>0</td>\n",
       "      <td>0</td>\n",
       "      <td>0</td>\n",
       "      <td>0</td>\n",
       "      <td>0</td>\n",
       "      <td>0</td>\n",
       "      <td>0</td>\n",
       "      <td>1</td>\n",
       "    </tr>\n",
       "    <tr>\n",
       "      <th>3</th>\n",
       "      <td>0.614</td>\n",
       "      <td>1</td>\n",
       "      <td>4</td>\n",
       "      <td>2</td>\n",
       "      <td>1</td>\n",
       "      <td>20</td>\n",
       "      <td>1.0</td>\n",
       "      <td>0</td>\n",
       "      <td>1</td>\n",
       "      <td>1</td>\n",
       "      <td>...</td>\n",
       "      <td>0</td>\n",
       "      <td>0</td>\n",
       "      <td>0</td>\n",
       "      <td>1</td>\n",
       "      <td>0</td>\n",
       "      <td>0</td>\n",
       "      <td>0</td>\n",
       "      <td>0</td>\n",
       "      <td>0</td>\n",
       "      <td>1</td>\n",
       "    </tr>\n",
       "    <tr>\n",
       "      <th>4</th>\n",
       "      <td>0.534</td>\n",
       "      <td>0</td>\n",
       "      <td>0</td>\n",
       "      <td>2</td>\n",
       "      <td>1</td>\n",
       "      <td>52</td>\n",
       "      <td>1.0</td>\n",
       "      <td>0</td>\n",
       "      <td>0</td>\n",
       "      <td>1</td>\n",
       "      <td>...</td>\n",
       "      <td>0</td>\n",
       "      <td>0</td>\n",
       "      <td>0</td>\n",
       "      <td>1</td>\n",
       "      <td>1</td>\n",
       "      <td>0</td>\n",
       "      <td>0</td>\n",
       "      <td>0</td>\n",
       "      <td>0</td>\n",
       "      <td>0</td>\n",
       "    </tr>\n",
       "    <tr>\n",
       "      <th>...</th>\n",
       "      <td>...</td>\n",
       "      <td>...</td>\n",
       "      <td>...</td>\n",
       "      <td>...</td>\n",
       "      <td>...</td>\n",
       "      <td>...</td>\n",
       "      <td>...</td>\n",
       "      <td>...</td>\n",
       "      <td>...</td>\n",
       "      <td>...</td>\n",
       "      <td>...</td>\n",
       "      <td>...</td>\n",
       "      <td>...</td>\n",
       "      <td>...</td>\n",
       "      <td>...</td>\n",
       "      <td>...</td>\n",
       "      <td>...</td>\n",
       "      <td>...</td>\n",
       "      <td>...</td>\n",
       "      <td>...</td>\n",
       "      <td>...</td>\n",
       "    </tr>\n",
       "    <tr>\n",
       "      <th>2130</th>\n",
       "      <td>0.698</td>\n",
       "      <td>0</td>\n",
       "      <td>3</td>\n",
       "      <td>1</td>\n",
       "      <td>1</td>\n",
       "      <td>14</td>\n",
       "      <td>0.0</td>\n",
       "      <td>1</td>\n",
       "      <td>0</td>\n",
       "      <td>0</td>\n",
       "      <td>...</td>\n",
       "      <td>0</td>\n",
       "      <td>0</td>\n",
       "      <td>1</td>\n",
       "      <td>0</td>\n",
       "      <td>0</td>\n",
       "      <td>1</td>\n",
       "      <td>0</td>\n",
       "      <td>0</td>\n",
       "      <td>0</td>\n",
       "      <td>0</td>\n",
       "    </tr>\n",
       "    <tr>\n",
       "      <th>2131</th>\n",
       "      <td>0.920</td>\n",
       "      <td>0</td>\n",
       "      <td>3</td>\n",
       "      <td>7</td>\n",
       "      <td>1</td>\n",
       "      <td>94</td>\n",
       "      <td>0.0</td>\n",
       "      <td>0</td>\n",
       "      <td>0</td>\n",
       "      <td>1</td>\n",
       "      <td>...</td>\n",
       "      <td>0</td>\n",
       "      <td>0</td>\n",
       "      <td>0</td>\n",
       "      <td>1</td>\n",
       "      <td>0</td>\n",
       "      <td>0</td>\n",
       "      <td>1</td>\n",
       "      <td>0</td>\n",
       "      <td>0</td>\n",
       "      <td>0</td>\n",
       "    </tr>\n",
       "    <tr>\n",
       "      <th>2132</th>\n",
       "      <td>0.926</td>\n",
       "      <td>1</td>\n",
       "      <td>19</td>\n",
       "      <td>2</td>\n",
       "      <td>4</td>\n",
       "      <td>27</td>\n",
       "      <td>0.0</td>\n",
       "      <td>0</td>\n",
       "      <td>1</td>\n",
       "      <td>1</td>\n",
       "      <td>...</td>\n",
       "      <td>0</td>\n",
       "      <td>0</td>\n",
       "      <td>0</td>\n",
       "      <td>1</td>\n",
       "      <td>0</td>\n",
       "      <td>0</td>\n",
       "      <td>0</td>\n",
       "      <td>0</td>\n",
       "      <td>0</td>\n",
       "      <td>1</td>\n",
       "    </tr>\n",
       "    <tr>\n",
       "      <th>2133</th>\n",
       "      <td>0.895</td>\n",
       "      <td>1</td>\n",
       "      <td>21</td>\n",
       "      <td>5</td>\n",
       "      <td>5</td>\n",
       "      <td>18</td>\n",
       "      <td>0.0</td>\n",
       "      <td>0</td>\n",
       "      <td>1</td>\n",
       "      <td>0</td>\n",
       "      <td>...</td>\n",
       "      <td>0</td>\n",
       "      <td>0</td>\n",
       "      <td>1</td>\n",
       "      <td>0</td>\n",
       "      <td>0</td>\n",
       "      <td>0</td>\n",
       "      <td>0</td>\n",
       "      <td>0</td>\n",
       "      <td>0</td>\n",
       "      <td>1</td>\n",
       "    </tr>\n",
       "    <tr>\n",
       "      <th>2134</th>\n",
       "      <td>0.624</td>\n",
       "      <td>0</td>\n",
       "      <td>1</td>\n",
       "      <td>3</td>\n",
       "      <td>1</td>\n",
       "      <td>52</td>\n",
       "      <td>1.0</td>\n",
       "      <td>0</td>\n",
       "      <td>0</td>\n",
       "      <td>1</td>\n",
       "      <td>...</td>\n",
       "      <td>0</td>\n",
       "      <td>0</td>\n",
       "      <td>0</td>\n",
       "      <td>1</td>\n",
       "      <td>0</td>\n",
       "      <td>0</td>\n",
       "      <td>0</td>\n",
       "      <td>0</td>\n",
       "      <td>0</td>\n",
       "      <td>1</td>\n",
       "    </tr>\n",
       "  </tbody>\n",
       "</table>\n",
       "<p>2135 rows × 22 columns</p>\n",
       "</div>"
      ],
      "text/plain": [
       "      city_development_index  education_level  experience  company_size  \\\n",
       "0                      0.704                0           2             2   \n",
       "1                      0.594                1           9             2   \n",
       "2                      0.596                0           2             3   \n",
       "3                      0.614                1           4             2   \n",
       "4                      0.534                0           0             2   \n",
       "...                      ...              ...         ...           ...   \n",
       "2130                   0.698                0           3             1   \n",
       "2131                   0.920                0           3             7   \n",
       "2132                   0.926                1          19             2   \n",
       "2133                   0.895                1          21             5   \n",
       "2134                   0.624                0           1             3   \n",
       "\n",
       "      last_new_job  training_hours  target  gender_Female  \\\n",
       "0                2              71     1.0              0   \n",
       "1                0             217     1.0              1   \n",
       "2                2              12     1.0              0   \n",
       "3                1              20     1.0              0   \n",
       "4                1              52     1.0              0   \n",
       "...            ...             ...     ...            ...   \n",
       "2130             1              14     0.0              1   \n",
       "2131             1              94     0.0              0   \n",
       "2132             4              27     0.0              0   \n",
       "2133             5              18     0.0              0   \n",
       "2134             1              52     1.0              0   \n",
       "\n",
       "      relevent_experience_Has relevent experience  \\\n",
       "0                                               1   \n",
       "1                                               1   \n",
       "2                                               1   \n",
       "3                                               1   \n",
       "4                                               0   \n",
       "...                                           ...   \n",
       "2130                                            0   \n",
       "2131                                            0   \n",
       "2132                                            1   \n",
       "2133                                            1   \n",
       "2134                                            0   \n",
       "\n",
       "      enrolled_university_Full time course  ...  major_discipline_Humanities  \\\n",
       "0                                        1  ...                            0   \n",
       "1                                        1  ...                            0   \n",
       "2                                        0  ...                            1   \n",
       "3                                        1  ...                            0   \n",
       "4                                        1  ...                            0   \n",
       "...                                    ...  ...                          ...   \n",
       "2130                                     0  ...                            0   \n",
       "2131                                     1  ...                            0   \n",
       "2132                                     1  ...                            0   \n",
       "2133                                     0  ...                            0   \n",
       "2134                                     1  ...                            0   \n",
       "\n",
       "      major_discipline_No Major  major_discipline_Other  \\\n",
       "0                             0                       0   \n",
       "1                             0                       0   \n",
       "2                             0                       0   \n",
       "3                             0                       0   \n",
       "4                             0                       0   \n",
       "...                         ...                     ...   \n",
       "2130                          0                       1   \n",
       "2131                          0                       0   \n",
       "2132                          0                       0   \n",
       "2133                          0                       1   \n",
       "2134                          0                       0   \n",
       "\n",
       "      major_discipline_STEM  company_type_Early Stage Startup  \\\n",
       "0                         1                                 0   \n",
       "1                         1                                 1   \n",
       "2                         0                                 0   \n",
       "3                         1                                 0   \n",
       "4                         1                                 1   \n",
       "...                     ...                               ...   \n",
       "2130                      0                                 0   \n",
       "2131                      1                                 0   \n",
       "2132                      1                                 0   \n",
       "2133                      0                                 0   \n",
       "2134                      1                                 0   \n",
       "\n",
       "      company_type_Funded Startup  company_type_NGO  company_type_Other  \\\n",
       "0                               0                 0                   0   \n",
       "1                               0                 0                   0   \n",
       "2                               0                 0                   0   \n",
       "3                               0                 0                   0   \n",
       "4                               0                 0                   0   \n",
       "...                           ...               ...                 ...   \n",
       "2130                            1                 0                   0   \n",
       "2131                            0                 1                   0   \n",
       "2132                            0                 0                   0   \n",
       "2133                            0                 0                   0   \n",
       "2134                            0                 0                   0   \n",
       "\n",
       "      company_type_Public Sector  company_type_Pvt Ltd  \n",
       "0                              0                     1  \n",
       "1                              0                     0  \n",
       "2                              0                     1  \n",
       "3                              0                     1  \n",
       "4                              0                     0  \n",
       "...                          ...                   ...  \n",
       "2130                           0                     0  \n",
       "2131                           0                     0  \n",
       "2132                           0                     1  \n",
       "2133                           0                     1  \n",
       "2134                           0                     1  \n",
       "\n",
       "[2135 rows x 22 columns]"
      ]
     },
     "execution_count": 19,
     "metadata": {},
     "output_type": "execute_result"
    }
   ],
   "source": [
    "data"
   ]
  },
  {
   "cell_type": "code",
   "execution_count": 20,
   "metadata": {
    "id": "EkmrsHSks58a"
   },
   "outputs": [],
   "source": [
    "data = data.rename(columns= {'gender_Female': 'gender', 'relevent_experience_Has relevent experience': 'relevent_experience', 'enrolled_university_Full time course': 'enrolled_university'})"
   ]
  },
  {
   "cell_type": "code",
   "execution_count": 21,
   "metadata": {
    "colab": {
     "base_uri": "https://localhost:8080/"
    },
    "id": "jNeuOI2yjN7O",
    "outputId": "e767177c-a0f3-4f2d-8cb2-bcb8e13c4a19"
   },
   "outputs": [
    {
     "name": "stdout",
     "output_type": "stream",
     "text": [
      "<class 'pandas.core.frame.DataFrame'>\n",
      "RangeIndex: 2135 entries, 0 to 2134\n",
      "Data columns (total 22 columns):\n",
      " #   Column                            Non-Null Count  Dtype  \n",
      "---  ------                            --------------  -----  \n",
      " 0   city_development_index            2135 non-null   float64\n",
      " 1   education_level                   2135 non-null   int64  \n",
      " 2   experience                        2135 non-null   int32  \n",
      " 3   company_size                      2135 non-null   int64  \n",
      " 4   last_new_job                      2135 non-null   int32  \n",
      " 5   training_hours                    2135 non-null   int64  \n",
      " 6   target                            2135 non-null   float64\n",
      " 7   gender                            2135 non-null   uint8  \n",
      " 8   relevent_experience               2135 non-null   uint8  \n",
      " 9   enrolled_university               2135 non-null   uint8  \n",
      " 10  major_discipline_Arts             2135 non-null   uint8  \n",
      " 11  major_discipline_Business Degree  2135 non-null   uint8  \n",
      " 12  major_discipline_Humanities       2135 non-null   uint8  \n",
      " 13  major_discipline_No Major         2135 non-null   uint8  \n",
      " 14  major_discipline_Other            2135 non-null   uint8  \n",
      " 15  major_discipline_STEM             2135 non-null   uint8  \n",
      " 16  company_type_Early Stage Startup  2135 non-null   uint8  \n",
      " 17  company_type_Funded Startup       2135 non-null   uint8  \n",
      " 18  company_type_NGO                  2135 non-null   uint8  \n",
      " 19  company_type_Other                2135 non-null   uint8  \n",
      " 20  company_type_Public Sector        2135 non-null   uint8  \n",
      " 21  company_type_Pvt Ltd              2135 non-null   uint8  \n",
      "dtypes: float64(2), int32(2), int64(3), uint8(15)\n",
      "memory usage: 131.5 KB\n"
     ]
    }
   ],
   "source": [
    "data.info()"
   ]
  },
  {
   "cell_type": "code",
   "execution_count": 22,
   "metadata": {
    "colab": {
     "base_uri": "https://localhost:8080/",
     "height": 505
    },
    "id": "T5XwZT3QtV06",
    "outputId": "70071ccb-a748-4ce5-abe6-774372a3f739",
    "scrolled": true
   },
   "outputs": [
    {
     "data": {
      "text/html": [
       "<div>\n",
       "<style scoped>\n",
       "    .dataframe tbody tr th:only-of-type {\n",
       "        vertical-align: middle;\n",
       "    }\n",
       "\n",
       "    .dataframe tbody tr th {\n",
       "        vertical-align: top;\n",
       "    }\n",
       "\n",
       "    .dataframe thead th {\n",
       "        text-align: right;\n",
       "    }\n",
       "</style>\n",
       "<table border=\"1\" class=\"dataframe\">\n",
       "  <thead>\n",
       "    <tr style=\"text-align: right;\">\n",
       "      <th></th>\n",
       "      <th>city_development_index</th>\n",
       "      <th>education_level</th>\n",
       "      <th>experience</th>\n",
       "      <th>company_size</th>\n",
       "      <th>last_new_job</th>\n",
       "      <th>training_hours</th>\n",
       "      <th>target</th>\n",
       "      <th>gender</th>\n",
       "      <th>relevent_experience</th>\n",
       "      <th>enrolled_university</th>\n",
       "      <th>...</th>\n",
       "      <th>major_discipline_Humanities</th>\n",
       "      <th>major_discipline_No Major</th>\n",
       "      <th>major_discipline_Other</th>\n",
       "      <th>major_discipline_STEM</th>\n",
       "      <th>company_type_Early Stage Startup</th>\n",
       "      <th>company_type_Funded Startup</th>\n",
       "      <th>company_type_NGO</th>\n",
       "      <th>company_type_Other</th>\n",
       "      <th>company_type_Public Sector</th>\n",
       "      <th>company_type_Pvt Ltd</th>\n",
       "    </tr>\n",
       "  </thead>\n",
       "  <tbody>\n",
       "    <tr>\n",
       "      <th>0</th>\n",
       "      <td>0.704</td>\n",
       "      <td>0</td>\n",
       "      <td>2</td>\n",
       "      <td>2</td>\n",
       "      <td>2</td>\n",
       "      <td>71</td>\n",
       "      <td>1.0</td>\n",
       "      <td>0</td>\n",
       "      <td>1</td>\n",
       "      <td>1</td>\n",
       "      <td>...</td>\n",
       "      <td>0</td>\n",
       "      <td>0</td>\n",
       "      <td>0</td>\n",
       "      <td>1</td>\n",
       "      <td>0</td>\n",
       "      <td>0</td>\n",
       "      <td>0</td>\n",
       "      <td>0</td>\n",
       "      <td>0</td>\n",
       "      <td>1</td>\n",
       "    </tr>\n",
       "    <tr>\n",
       "      <th>1</th>\n",
       "      <td>0.594</td>\n",
       "      <td>1</td>\n",
       "      <td>9</td>\n",
       "      <td>2</td>\n",
       "      <td>0</td>\n",
       "      <td>217</td>\n",
       "      <td>1.0</td>\n",
       "      <td>1</td>\n",
       "      <td>1</td>\n",
       "      <td>1</td>\n",
       "      <td>...</td>\n",
       "      <td>0</td>\n",
       "      <td>0</td>\n",
       "      <td>0</td>\n",
       "      <td>1</td>\n",
       "      <td>1</td>\n",
       "      <td>0</td>\n",
       "      <td>0</td>\n",
       "      <td>0</td>\n",
       "      <td>0</td>\n",
       "      <td>0</td>\n",
       "    </tr>\n",
       "    <tr>\n",
       "      <th>2</th>\n",
       "      <td>0.596</td>\n",
       "      <td>0</td>\n",
       "      <td>2</td>\n",
       "      <td>3</td>\n",
       "      <td>2</td>\n",
       "      <td>12</td>\n",
       "      <td>1.0</td>\n",
       "      <td>0</td>\n",
       "      <td>1</td>\n",
       "      <td>0</td>\n",
       "      <td>...</td>\n",
       "      <td>1</td>\n",
       "      <td>0</td>\n",
       "      <td>0</td>\n",
       "      <td>0</td>\n",
       "      <td>0</td>\n",
       "      <td>0</td>\n",
       "      <td>0</td>\n",
       "      <td>0</td>\n",
       "      <td>0</td>\n",
       "      <td>1</td>\n",
       "    </tr>\n",
       "    <tr>\n",
       "      <th>3</th>\n",
       "      <td>0.614</td>\n",
       "      <td>1</td>\n",
       "      <td>4</td>\n",
       "      <td>2</td>\n",
       "      <td>1</td>\n",
       "      <td>20</td>\n",
       "      <td>1.0</td>\n",
       "      <td>0</td>\n",
       "      <td>1</td>\n",
       "      <td>1</td>\n",
       "      <td>...</td>\n",
       "      <td>0</td>\n",
       "      <td>0</td>\n",
       "      <td>0</td>\n",
       "      <td>1</td>\n",
       "      <td>0</td>\n",
       "      <td>0</td>\n",
       "      <td>0</td>\n",
       "      <td>0</td>\n",
       "      <td>0</td>\n",
       "      <td>1</td>\n",
       "    </tr>\n",
       "    <tr>\n",
       "      <th>4</th>\n",
       "      <td>0.534</td>\n",
       "      <td>0</td>\n",
       "      <td>0</td>\n",
       "      <td>2</td>\n",
       "      <td>1</td>\n",
       "      <td>52</td>\n",
       "      <td>1.0</td>\n",
       "      <td>0</td>\n",
       "      <td>0</td>\n",
       "      <td>1</td>\n",
       "      <td>...</td>\n",
       "      <td>0</td>\n",
       "      <td>0</td>\n",
       "      <td>0</td>\n",
       "      <td>1</td>\n",
       "      <td>1</td>\n",
       "      <td>0</td>\n",
       "      <td>0</td>\n",
       "      <td>0</td>\n",
       "      <td>0</td>\n",
       "      <td>0</td>\n",
       "    </tr>\n",
       "    <tr>\n",
       "      <th>...</th>\n",
       "      <td>...</td>\n",
       "      <td>...</td>\n",
       "      <td>...</td>\n",
       "      <td>...</td>\n",
       "      <td>...</td>\n",
       "      <td>...</td>\n",
       "      <td>...</td>\n",
       "      <td>...</td>\n",
       "      <td>...</td>\n",
       "      <td>...</td>\n",
       "      <td>...</td>\n",
       "      <td>...</td>\n",
       "      <td>...</td>\n",
       "      <td>...</td>\n",
       "      <td>...</td>\n",
       "      <td>...</td>\n",
       "      <td>...</td>\n",
       "      <td>...</td>\n",
       "      <td>...</td>\n",
       "      <td>...</td>\n",
       "      <td>...</td>\n",
       "    </tr>\n",
       "    <tr>\n",
       "      <th>2130</th>\n",
       "      <td>0.698</td>\n",
       "      <td>0</td>\n",
       "      <td>3</td>\n",
       "      <td>1</td>\n",
       "      <td>1</td>\n",
       "      <td>14</td>\n",
       "      <td>0.0</td>\n",
       "      <td>1</td>\n",
       "      <td>0</td>\n",
       "      <td>0</td>\n",
       "      <td>...</td>\n",
       "      <td>0</td>\n",
       "      <td>0</td>\n",
       "      <td>1</td>\n",
       "      <td>0</td>\n",
       "      <td>0</td>\n",
       "      <td>1</td>\n",
       "      <td>0</td>\n",
       "      <td>0</td>\n",
       "      <td>0</td>\n",
       "      <td>0</td>\n",
       "    </tr>\n",
       "    <tr>\n",
       "      <th>2131</th>\n",
       "      <td>0.920</td>\n",
       "      <td>0</td>\n",
       "      <td>3</td>\n",
       "      <td>7</td>\n",
       "      <td>1</td>\n",
       "      <td>94</td>\n",
       "      <td>0.0</td>\n",
       "      <td>0</td>\n",
       "      <td>0</td>\n",
       "      <td>1</td>\n",
       "      <td>...</td>\n",
       "      <td>0</td>\n",
       "      <td>0</td>\n",
       "      <td>0</td>\n",
       "      <td>1</td>\n",
       "      <td>0</td>\n",
       "      <td>0</td>\n",
       "      <td>1</td>\n",
       "      <td>0</td>\n",
       "      <td>0</td>\n",
       "      <td>0</td>\n",
       "    </tr>\n",
       "    <tr>\n",
       "      <th>2132</th>\n",
       "      <td>0.926</td>\n",
       "      <td>1</td>\n",
       "      <td>19</td>\n",
       "      <td>2</td>\n",
       "      <td>4</td>\n",
       "      <td>27</td>\n",
       "      <td>0.0</td>\n",
       "      <td>0</td>\n",
       "      <td>1</td>\n",
       "      <td>1</td>\n",
       "      <td>...</td>\n",
       "      <td>0</td>\n",
       "      <td>0</td>\n",
       "      <td>0</td>\n",
       "      <td>1</td>\n",
       "      <td>0</td>\n",
       "      <td>0</td>\n",
       "      <td>0</td>\n",
       "      <td>0</td>\n",
       "      <td>0</td>\n",
       "      <td>1</td>\n",
       "    </tr>\n",
       "    <tr>\n",
       "      <th>2133</th>\n",
       "      <td>0.895</td>\n",
       "      <td>1</td>\n",
       "      <td>21</td>\n",
       "      <td>5</td>\n",
       "      <td>5</td>\n",
       "      <td>18</td>\n",
       "      <td>0.0</td>\n",
       "      <td>0</td>\n",
       "      <td>1</td>\n",
       "      <td>0</td>\n",
       "      <td>...</td>\n",
       "      <td>0</td>\n",
       "      <td>0</td>\n",
       "      <td>1</td>\n",
       "      <td>0</td>\n",
       "      <td>0</td>\n",
       "      <td>0</td>\n",
       "      <td>0</td>\n",
       "      <td>0</td>\n",
       "      <td>0</td>\n",
       "      <td>1</td>\n",
       "    </tr>\n",
       "    <tr>\n",
       "      <th>2134</th>\n",
       "      <td>0.624</td>\n",
       "      <td>0</td>\n",
       "      <td>1</td>\n",
       "      <td>3</td>\n",
       "      <td>1</td>\n",
       "      <td>52</td>\n",
       "      <td>1.0</td>\n",
       "      <td>0</td>\n",
       "      <td>0</td>\n",
       "      <td>1</td>\n",
       "      <td>...</td>\n",
       "      <td>0</td>\n",
       "      <td>0</td>\n",
       "      <td>0</td>\n",
       "      <td>1</td>\n",
       "      <td>0</td>\n",
       "      <td>0</td>\n",
       "      <td>0</td>\n",
       "      <td>0</td>\n",
       "      <td>0</td>\n",
       "      <td>1</td>\n",
       "    </tr>\n",
       "  </tbody>\n",
       "</table>\n",
       "<p>2135 rows × 22 columns</p>\n",
       "</div>"
      ],
      "text/plain": [
       "      city_development_index  education_level  experience  company_size  \\\n",
       "0                      0.704                0           2             2   \n",
       "1                      0.594                1           9             2   \n",
       "2                      0.596                0           2             3   \n",
       "3                      0.614                1           4             2   \n",
       "4                      0.534                0           0             2   \n",
       "...                      ...              ...         ...           ...   \n",
       "2130                   0.698                0           3             1   \n",
       "2131                   0.920                0           3             7   \n",
       "2132                   0.926                1          19             2   \n",
       "2133                   0.895                1          21             5   \n",
       "2134                   0.624                0           1             3   \n",
       "\n",
       "      last_new_job  training_hours  target  gender  relevent_experience  \\\n",
       "0                2              71     1.0       0                    1   \n",
       "1                0             217     1.0       1                    1   \n",
       "2                2              12     1.0       0                    1   \n",
       "3                1              20     1.0       0                    1   \n",
       "4                1              52     1.0       0                    0   \n",
       "...            ...             ...     ...     ...                  ...   \n",
       "2130             1              14     0.0       1                    0   \n",
       "2131             1              94     0.0       0                    0   \n",
       "2132             4              27     0.0       0                    1   \n",
       "2133             5              18     0.0       0                    1   \n",
       "2134             1              52     1.0       0                    0   \n",
       "\n",
       "      enrolled_university  ...  major_discipline_Humanities  \\\n",
       "0                       1  ...                            0   \n",
       "1                       1  ...                            0   \n",
       "2                       0  ...                            1   \n",
       "3                       1  ...                            0   \n",
       "4                       1  ...                            0   \n",
       "...                   ...  ...                          ...   \n",
       "2130                    0  ...                            0   \n",
       "2131                    1  ...                            0   \n",
       "2132                    1  ...                            0   \n",
       "2133                    0  ...                            0   \n",
       "2134                    1  ...                            0   \n",
       "\n",
       "      major_discipline_No Major  major_discipline_Other  \\\n",
       "0                             0                       0   \n",
       "1                             0                       0   \n",
       "2                             0                       0   \n",
       "3                             0                       0   \n",
       "4                             0                       0   \n",
       "...                         ...                     ...   \n",
       "2130                          0                       1   \n",
       "2131                          0                       0   \n",
       "2132                          0                       0   \n",
       "2133                          0                       1   \n",
       "2134                          0                       0   \n",
       "\n",
       "      major_discipline_STEM  company_type_Early Stage Startup  \\\n",
       "0                         1                                 0   \n",
       "1                         1                                 1   \n",
       "2                         0                                 0   \n",
       "3                         1                                 0   \n",
       "4                         1                                 1   \n",
       "...                     ...                               ...   \n",
       "2130                      0                                 0   \n",
       "2131                      1                                 0   \n",
       "2132                      1                                 0   \n",
       "2133                      0                                 0   \n",
       "2134                      1                                 0   \n",
       "\n",
       "      company_type_Funded Startup  company_type_NGO  company_type_Other  \\\n",
       "0                               0                 0                   0   \n",
       "1                               0                 0                   0   \n",
       "2                               0                 0                   0   \n",
       "3                               0                 0                   0   \n",
       "4                               0                 0                   0   \n",
       "...                           ...               ...                 ...   \n",
       "2130                            1                 0                   0   \n",
       "2131                            0                 1                   0   \n",
       "2132                            0                 0                   0   \n",
       "2133                            0                 0                   0   \n",
       "2134                            0                 0                   0   \n",
       "\n",
       "      company_type_Public Sector  company_type_Pvt Ltd  \n",
       "0                              0                     1  \n",
       "1                              0                     0  \n",
       "2                              0                     1  \n",
       "3                              0                     1  \n",
       "4                              0                     0  \n",
       "...                          ...                   ...  \n",
       "2130                           0                     0  \n",
       "2131                           0                     0  \n",
       "2132                           0                     1  \n",
       "2133                           0                     1  \n",
       "2134                           0                     1  \n",
       "\n",
       "[2135 rows x 22 columns]"
      ]
     },
     "execution_count": 22,
     "metadata": {},
     "output_type": "execute_result"
    }
   ],
   "source": [
    "data"
   ]
  },
  {
   "cell_type": "code",
   "execution_count": 23,
   "metadata": {},
   "outputs": [
    {
     "data": {
      "image/png": "[encoded data removed]",
      "text/plain": [
       "<Figure size 1080x1080 with 2 Axes>"
      ]
     },
     "metadata": {},
     "output_type": "display_data"
    }
   ],
   "source": [
    "# Drawing the heatmap to check the correlations between variables\n",
    "plt.figure(figsize = (15,15))\n",
    "sns.heatmap(data.corr(), cmap=\"YlGnBu\", annot=True)\n",
    "plt.show()"
   ]
  },
  {
   "cell_type": "markdown",
   "metadata": {
    "id": "xtWEmUAeMoW6"
   },
   "source": [
    "### Decision Tree"
   ]
  },
  {
   "cell_type": "code",
   "execution_count": 24,
   "metadata": {
    "id": "N0BcYVkXuCw5"
   },
   "outputs": [],
   "source": [
    "# Drop the column 'target' because it is the data label\n",
    "X = data.drop(columns=['target'])\n",
    "\n",
    "# Assign data label to to variable 'y'\n",
    "y = data.target"
   ]
  },
  {
   "cell_type": "code",
   "execution_count": 25,
   "metadata": {
    "id": "7Qkee6URvCFJ"
   },
   "outputs": [],
   "source": [
    "# Load libraries\n",
    "from sklearn.model_selection import train_test_split, GridSearchCV\n",
    "\n",
    "# Train/test split\n",
    "X_train, X_test, y_train, y_test = train_test_split(X.values, y.values, random_state=1, test_size=0.2)"
   ]
  },
  {
   "cell_type": "code",
   "execution_count": 26,
   "metadata": {
    "id": "FVmVxPCGvJ-x"
   },
   "outputs": [],
   "source": [
    "# Import GridSearchCV for finding the best hyper-parameter set.\n",
    "from sklearn.pipeline import make_pipeline\n",
    "from sklearn.tree import DecisionTreeClassifier, DecisionTreeRegressor\n",
    "\n",
    "params = {\"criterion\": [\"gini\", \"entropy\"],             # Criterion to evaluate the purity.\n",
    "         \"max_depth\": [4, 5, 6, 7, 8, 9, 10],                           # Maximum depth of the tree\n",
    "         \"min_samples_split\": [2, 3, 4, 5, 6, 7, 8],\n",
    "          \"min_samples_leaf\": [2, 3, 4, 5, 6, 7, 8],\n",
    "          \"max_leaf_nodes\": [8,9,10,11,12,13,14,15,16]}                   # Stop splitting condition.\n",
    "\n",
    "grid_search = GridSearchCV(estimator=DecisionTreeClassifier(), param_grid=params, cv=5)"
   ]
  },
  {
   "cell_type": "code",
   "execution_count": 27,
   "metadata": {
    "id": "rwZcbRkNKkZx"
   },
   "outputs": [],
   "source": [
    "# Run the search on training data samples.\n",
    "tree_cv = grid_search.fit(X_train, y_train)"
   ]
  },
  {
   "cell_type": "code",
   "execution_count": 28,
   "metadata": {
    "colab": {
     "base_uri": "https://localhost:8080/",
     "height": 1000
    },
    "id": "5eFNs0j7L-LI",
    "outputId": "a0cf32ad-e19a-47c6-cbae-9b05b07b00dd"
   },
   "outputs": [
    {
     "data": {
      "text/html": [
       "<div>\n",
       "<style scoped>\n",
       "    .dataframe tbody tr th:only-of-type {\n",
       "        vertical-align: middle;\n",
       "    }\n",
       "\n",
       "    .dataframe tbody tr th {\n",
       "        vertical-align: top;\n",
       "    }\n",
       "\n",
       "    .dataframe thead th {\n",
       "        text-align: right;\n",
       "    }\n",
       "</style>\n",
       "<table border=\"1\" class=\"dataframe\">\n",
       "  <thead>\n",
       "    <tr style=\"text-align: right;\">\n",
       "      <th></th>\n",
       "      <th>mean_fit_time</th>\n",
       "      <th>std_fit_time</th>\n",
       "      <th>mean_score_time</th>\n",
       "      <th>std_score_time</th>\n",
       "      <th>param_criterion</th>\n",
       "      <th>param_max_depth</th>\n",
       "      <th>param_max_leaf_nodes</th>\n",
       "      <th>param_min_samples_leaf</th>\n",
       "      <th>param_min_samples_split</th>\n",
       "      <th>split0_test_score</th>\n",
       "      <th>split1_test_score</th>\n",
       "      <th>split2_test_score</th>\n",
       "      <th>split3_test_score</th>\n",
       "      <th>split4_test_score</th>\n",
       "      <th>mean_test_score</th>\n",
       "      <th>std_test_score</th>\n",
       "      <th>rank_test_score</th>\n",
       "    </tr>\n",
       "    <tr>\n",
       "      <th>params</th>\n",
       "      <th></th>\n",
       "      <th></th>\n",
       "      <th></th>\n",
       "      <th></th>\n",
       "      <th></th>\n",
       "      <th></th>\n",
       "      <th></th>\n",
       "      <th></th>\n",
       "      <th></th>\n",
       "      <th></th>\n",
       "      <th></th>\n",
       "      <th></th>\n",
       "      <th></th>\n",
       "      <th></th>\n",
       "      <th></th>\n",
       "      <th></th>\n",
       "      <th></th>\n",
       "    </tr>\n",
       "  </thead>\n",
       "  <tbody>\n",
       "    <tr>\n",
       "      <th>{'criterion': 'gini', 'max_depth': 4, 'max_leaf_nodes': 8, 'min_samples_leaf': 2, 'min_samples_split': 2}</th>\n",
       "      <td>0.006398</td>\n",
       "      <td>0.004278</td>\n",
       "      <td>0.000799</td>\n",
       "      <td>0.000747</td>\n",
       "      <td>gini</td>\n",
       "      <td>4</td>\n",
       "      <td>8</td>\n",
       "      <td>2</td>\n",
       "      <td>2</td>\n",
       "      <td>0.847953</td>\n",
       "      <td>0.821637</td>\n",
       "      <td>0.815789</td>\n",
       "      <td>0.785924</td>\n",
       "      <td>0.853372</td>\n",
       "      <td>0.824935</td>\n",
       "      <td>0.02431</td>\n",
       "      <td>5735</td>\n",
       "    </tr>\n",
       "    <tr>\n",
       "      <th>{'criterion': 'gini', 'max_depth': 4, 'max_leaf_nodes': 8, 'min_samples_leaf': 2, 'min_samples_split': 3}</th>\n",
       "      <td>0.010014</td>\n",
       "      <td>0.008193</td>\n",
       "      <td>0.000000</td>\n",
       "      <td>0.000000</td>\n",
       "      <td>gini</td>\n",
       "      <td>4</td>\n",
       "      <td>8</td>\n",
       "      <td>2</td>\n",
       "      <td>3</td>\n",
       "      <td>0.847953</td>\n",
       "      <td>0.821637</td>\n",
       "      <td>0.815789</td>\n",
       "      <td>0.785924</td>\n",
       "      <td>0.853372</td>\n",
       "      <td>0.824935</td>\n",
       "      <td>0.02431</td>\n",
       "      <td>5735</td>\n",
       "    </tr>\n",
       "    <tr>\n",
       "      <th>{'criterion': 'gini', 'max_depth': 4, 'max_leaf_nodes': 8, 'min_samples_leaf': 2, 'min_samples_split': 4}</th>\n",
       "      <td>0.006831</td>\n",
       "      <td>0.007592</td>\n",
       "      <td>0.000200</td>\n",
       "      <td>0.000400</td>\n",
       "      <td>gini</td>\n",
       "      <td>4</td>\n",
       "      <td>8</td>\n",
       "      <td>2</td>\n",
       "      <td>4</td>\n",
       "      <td>0.847953</td>\n",
       "      <td>0.821637</td>\n",
       "      <td>0.815789</td>\n",
       "      <td>0.785924</td>\n",
       "      <td>0.853372</td>\n",
       "      <td>0.824935</td>\n",
       "      <td>0.02431</td>\n",
       "      <td>5735</td>\n",
       "    </tr>\n",
       "    <tr>\n",
       "      <th>{'criterion': 'gini', 'max_depth': 4, 'max_leaf_nodes': 8, 'min_samples_leaf': 2, 'min_samples_split': 5}</th>\n",
       "      <td>0.008366</td>\n",
       "      <td>0.006400</td>\n",
       "      <td>0.000485</td>\n",
       "      <td>0.000610</td>\n",
       "      <td>gini</td>\n",
       "      <td>4</td>\n",
       "      <td>8</td>\n",
       "      <td>2</td>\n",
       "      <td>5</td>\n",
       "      <td>0.847953</td>\n",
       "      <td>0.821637</td>\n",
       "      <td>0.815789</td>\n",
       "      <td>0.785924</td>\n",
       "      <td>0.853372</td>\n",
       "      <td>0.824935</td>\n",
       "      <td>0.02431</td>\n",
       "      <td>5735</td>\n",
       "    </tr>\n",
       "    <tr>\n",
       "      <th>{'criterion': 'gini', 'max_depth': 4, 'max_leaf_nodes': 8, 'min_samples_leaf': 2, 'min_samples_split': 6}</th>\n",
       "      <td>0.005240</td>\n",
       "      <td>0.002422</td>\n",
       "      <td>0.001475</td>\n",
       "      <td>0.001978</td>\n",
       "      <td>gini</td>\n",
       "      <td>4</td>\n",
       "      <td>8</td>\n",
       "      <td>2</td>\n",
       "      <td>6</td>\n",
       "      <td>0.847953</td>\n",
       "      <td>0.821637</td>\n",
       "      <td>0.815789</td>\n",
       "      <td>0.785924</td>\n",
       "      <td>0.853372</td>\n",
       "      <td>0.824935</td>\n",
       "      <td>0.02431</td>\n",
       "      <td>5735</td>\n",
       "    </tr>\n",
       "    <tr>\n",
       "      <th>...</th>\n",
       "      <td>...</td>\n",
       "      <td>...</td>\n",
       "      <td>...</td>\n",
       "      <td>...</td>\n",
       "      <td>...</td>\n",
       "      <td>...</td>\n",
       "      <td>...</td>\n",
       "      <td>...</td>\n",
       "      <td>...</td>\n",
       "      <td>...</td>\n",
       "      <td>...</td>\n",
       "      <td>...</td>\n",
       "      <td>...</td>\n",
       "      <td>...</td>\n",
       "      <td>...</td>\n",
       "      <td>...</td>\n",
       "      <td>...</td>\n",
       "    </tr>\n",
       "    <tr>\n",
       "      <th>{'criterion': 'entropy', 'max_depth': 10, 'max_leaf_nodes': 16, 'min_samples_leaf': 8, 'min_samples_split': 4}</th>\n",
       "      <td>0.008518</td>\n",
       "      <td>0.008405</td>\n",
       "      <td>0.003129</td>\n",
       "      <td>0.006258</td>\n",
       "      <td>entropy</td>\n",
       "      <td>10</td>\n",
       "      <td>16</td>\n",
       "      <td>8</td>\n",
       "      <td>4</td>\n",
       "      <td>0.842105</td>\n",
       "      <td>0.862573</td>\n",
       "      <td>0.824561</td>\n",
       "      <td>0.809384</td>\n",
       "      <td>0.850440</td>\n",
       "      <td>0.837813</td>\n",
       "      <td>0.01884</td>\n",
       "      <td>1044</td>\n",
       "    </tr>\n",
       "    <tr>\n",
       "      <th>{'criterion': 'entropy', 'max_depth': 10, 'max_leaf_nodes': 16, 'min_samples_leaf': 8, 'min_samples_split': 5}</th>\n",
       "      <td>0.015621</td>\n",
       "      <td>0.000003</td>\n",
       "      <td>0.000000</td>\n",
       "      <td>0.000000</td>\n",
       "      <td>entropy</td>\n",
       "      <td>10</td>\n",
       "      <td>16</td>\n",
       "      <td>8</td>\n",
       "      <td>5</td>\n",
       "      <td>0.842105</td>\n",
       "      <td>0.862573</td>\n",
       "      <td>0.824561</td>\n",
       "      <td>0.809384</td>\n",
       "      <td>0.850440</td>\n",
       "      <td>0.837813</td>\n",
       "      <td>0.01884</td>\n",
       "      <td>1044</td>\n",
       "    </tr>\n",
       "    <tr>\n",
       "      <th>{'criterion': 'entropy', 'max_depth': 10, 'max_leaf_nodes': 16, 'min_samples_leaf': 8, 'min_samples_split': 6}</th>\n",
       "      <td>0.006248</td>\n",
       "      <td>0.007653</td>\n",
       "      <td>0.003124</td>\n",
       "      <td>0.006249</td>\n",
       "      <td>entropy</td>\n",
       "      <td>10</td>\n",
       "      <td>16</td>\n",
       "      <td>8</td>\n",
       "      <td>6</td>\n",
       "      <td>0.842105</td>\n",
       "      <td>0.862573</td>\n",
       "      <td>0.824561</td>\n",
       "      <td>0.809384</td>\n",
       "      <td>0.850440</td>\n",
       "      <td>0.837813</td>\n",
       "      <td>0.01884</td>\n",
       "      <td>1044</td>\n",
       "    </tr>\n",
       "    <tr>\n",
       "      <th>{'criterion': 'entropy', 'max_depth': 10, 'max_leaf_nodes': 16, 'min_samples_leaf': 8, 'min_samples_split': 7}</th>\n",
       "      <td>0.008219</td>\n",
       "      <td>0.007471</td>\n",
       "      <td>0.000199</td>\n",
       "      <td>0.000399</td>\n",
       "      <td>entropy</td>\n",
       "      <td>10</td>\n",
       "      <td>16</td>\n",
       "      <td>8</td>\n",
       "      <td>7</td>\n",
       "      <td>0.842105</td>\n",
       "      <td>0.862573</td>\n",
       "      <td>0.824561</td>\n",
       "      <td>0.809384</td>\n",
       "      <td>0.850440</td>\n",
       "      <td>0.837813</td>\n",
       "      <td>0.01884</td>\n",
       "      <td>1044</td>\n",
       "    </tr>\n",
       "    <tr>\n",
       "      <th>{'criterion': 'entropy', 'max_depth': 10, 'max_leaf_nodes': 16, 'min_samples_leaf': 8, 'min_samples_split': 8}</th>\n",
       "      <td>0.009587</td>\n",
       "      <td>0.007837</td>\n",
       "      <td>0.000000</td>\n",
       "      <td>0.000000</td>\n",
       "      <td>entropy</td>\n",
       "      <td>10</td>\n",
       "      <td>16</td>\n",
       "      <td>8</td>\n",
       "      <td>8</td>\n",
       "      <td>0.842105</td>\n",
       "      <td>0.862573</td>\n",
       "      <td>0.824561</td>\n",
       "      <td>0.809384</td>\n",
       "      <td>0.850440</td>\n",
       "      <td>0.837813</td>\n",
       "      <td>0.01884</td>\n",
       "      <td>1044</td>\n",
       "    </tr>\n",
       "  </tbody>\n",
       "</table>\n",
       "<p>6174 rows × 17 columns</p>\n",
       "</div>"
      ],
      "text/plain": [
       "                                                    mean_fit_time  \\\n",
       "params                                                              \n",
       "{'criterion': 'gini', 'max_depth': 4, 'max_leaf...       0.006398   \n",
       "{'criterion': 'gini', 'max_depth': 4, 'max_leaf...       0.010014   \n",
       "{'criterion': 'gini', 'max_depth': 4, 'max_leaf...       0.006831   \n",
       "{'criterion': 'gini', 'max_depth': 4, 'max_leaf...       0.008366   \n",
       "{'criterion': 'gini', 'max_depth': 4, 'max_leaf...       0.005240   \n",
       "...                                                           ...   \n",
       "{'criterion': 'entropy', 'max_depth': 10, 'max_...       0.008518   \n",
       "{'criterion': 'entropy', 'max_depth': 10, 'max_...       0.015621   \n",
       "{'criterion': 'entropy', 'max_depth': 10, 'max_...       0.006248   \n",
       "{'criterion': 'entropy', 'max_depth': 10, 'max_...       0.008219   \n",
       "{'criterion': 'entropy', 'max_depth': 10, 'max_...       0.009587   \n",
       "\n",
       "                                                    std_fit_time  \\\n",
       "params                                                             \n",
       "{'criterion': 'gini', 'max_depth': 4, 'max_leaf...      0.004278   \n",
       "{'criterion': 'gini', 'max_depth': 4, 'max_leaf...      0.008193   \n",
       "{'criterion': 'gini', 'max_depth': 4, 'max_leaf...      0.007592   \n",
       "{'criterion': 'gini', 'max_depth': 4, 'max_leaf...      0.006400   \n",
       "{'criterion': 'gini', 'max_depth': 4, 'max_leaf...      0.002422   \n",
       "...                                                          ...   \n",
       "{'criterion': 'entropy', 'max_depth': 10, 'max_...      0.008405   \n",
       "{'criterion': 'entropy', 'max_depth': 10, 'max_...      0.000003   \n",
       "{'criterion': 'entropy', 'max_depth': 10, 'max_...      0.007653   \n",
       "{'criterion': 'entropy', 'max_depth': 10, 'max_...      0.007471   \n",
       "{'criterion': 'entropy', 'max_depth': 10, 'max_...      0.007837   \n",
       "\n",
       "                                                    mean_score_time  \\\n",
       "params                                                                \n",
       "{'criterion': 'gini', 'max_depth': 4, 'max_leaf...         0.000799   \n",
       "{'criterion': 'gini', 'max_depth': 4, 'max_leaf...         0.000000   \n",
       "{'criterion': 'gini', 'max_depth': 4, 'max_leaf...         0.000200   \n",
       "{'criterion': 'gini', 'max_depth': 4, 'max_leaf...         0.000485   \n",
       "{'criterion': 'gini', 'max_depth': 4, 'max_leaf...         0.001475   \n",
       "...                                                             ...   \n",
       "{'criterion': 'entropy', 'max_depth': 10, 'max_...         0.003129   \n",
       "{'criterion': 'entropy', 'max_depth': 10, 'max_...         0.000000   \n",
       "{'criterion': 'entropy', 'max_depth': 10, 'max_...         0.003124   \n",
       "{'criterion': 'entropy', 'max_depth': 10, 'max_...         0.000199   \n",
       "{'criterion': 'entropy', 'max_depth': 10, 'max_...         0.000000   \n",
       "\n",
       "                                                    std_score_time  \\\n",
       "params                                                               \n",
       "{'criterion': 'gini', 'max_depth': 4, 'max_leaf...        0.000747   \n",
       "{'criterion': 'gini', 'max_depth': 4, 'max_leaf...        0.000000   \n",
       "{'criterion': 'gini', 'max_depth': 4, 'max_leaf...        0.000400   \n",
       "{'criterion': 'gini', 'max_depth': 4, 'max_leaf...        0.000610   \n",
       "{'criterion': 'gini', 'max_depth': 4, 'max_leaf...        0.001978   \n",
       "...                                                            ...   \n",
       "{'criterion': 'entropy', 'max_depth': 10, 'max_...        0.006258   \n",
       "{'criterion': 'entropy', 'max_depth': 10, 'max_...        0.000000   \n",
       "{'criterion': 'entropy', 'max_depth': 10, 'max_...        0.006249   \n",
       "{'criterion': 'entropy', 'max_depth': 10, 'max_...        0.000399   \n",
       "{'criterion': 'entropy', 'max_depth': 10, 'max_...        0.000000   \n",
       "\n",
       "                                                   param_criterion  \\\n",
       "params                                                               \n",
       "{'criterion': 'gini', 'max_depth': 4, 'max_leaf...            gini   \n",
       "{'criterion': 'gini', 'max_depth': 4, 'max_leaf...            gini   \n",
       "{'criterion': 'gini', 'max_depth': 4, 'max_leaf...            gini   \n",
       "{'criterion': 'gini', 'max_depth': 4, 'max_leaf...            gini   \n",
       "{'criterion': 'gini', 'max_depth': 4, 'max_leaf...            gini   \n",
       "...                                                            ...   \n",
       "{'criterion': 'entropy', 'max_depth': 10, 'max_...         entropy   \n",
       "{'criterion': 'entropy', 'max_depth': 10, 'max_...         entropy   \n",
       "{'criterion': 'entropy', 'max_depth': 10, 'max_...         entropy   \n",
       "{'criterion': 'entropy', 'max_depth': 10, 'max_...         entropy   \n",
       "{'criterion': 'entropy', 'max_depth': 10, 'max_...         entropy   \n",
       "\n",
       "                                                   param_max_depth  \\\n",
       "params                                                               \n",
       "{'criterion': 'gini', 'max_depth': 4, 'max_leaf...               4   \n",
       "{'criterion': 'gini', 'max_depth': 4, 'max_leaf...               4   \n",
       "{'criterion': 'gini', 'max_depth': 4, 'max_leaf...               4   \n",
       "{'criterion': 'gini', 'max_depth': 4, 'max_leaf...               4   \n",
       "{'criterion': 'gini', 'max_depth': 4, 'max_leaf...               4   \n",
       "...                                                            ...   \n",
       "{'criterion': 'entropy', 'max_depth': 10, 'max_...              10   \n",
       "{'criterion': 'entropy', 'max_depth': 10, 'max_...              10   \n",
       "{'criterion': 'entropy', 'max_depth': 10, 'max_...              10   \n",
       "{'criterion': 'entropy', 'max_depth': 10, 'max_...              10   \n",
       "{'criterion': 'entropy', 'max_depth': 10, 'max_...              10   \n",
       "\n",
       "                                                   param_max_leaf_nodes  \\\n",
       "params                                                                    \n",
       "{'criterion': 'gini', 'max_depth': 4, 'max_leaf...                    8   \n",
       "{'criterion': 'gini', 'max_depth': 4, 'max_leaf...                    8   \n",
       "{'criterion': 'gini', 'max_depth': 4, 'max_leaf...                    8   \n",
       "{'criterion': 'gini', 'max_depth': 4, 'max_leaf...                    8   \n",
       "{'criterion': 'gini', 'max_depth': 4, 'max_leaf...                    8   \n",
       "...                                                                 ...   \n",
       "{'criterion': 'entropy', 'max_depth': 10, 'max_...                   16   \n",
       "{'criterion': 'entropy', 'max_depth': 10, 'max_...                   16   \n",
       "{'criterion': 'entropy', 'max_depth': 10, 'max_...                   16   \n",
       "{'criterion': 'entropy', 'max_depth': 10, 'max_...                   16   \n",
       "{'criterion': 'entropy', 'max_depth': 10, 'max_...                   16   \n",
       "\n",
       "                                                   param_min_samples_leaf  \\\n",
       "params                                                                      \n",
       "{'criterion': 'gini', 'max_depth': 4, 'max_leaf...                      2   \n",
       "{'criterion': 'gini', 'max_depth': 4, 'max_leaf...                      2   \n",
       "{'criterion': 'gini', 'max_depth': 4, 'max_leaf...                      2   \n",
       "{'criterion': 'gini', 'max_depth': 4, 'max_leaf...                      2   \n",
       "{'criterion': 'gini', 'max_depth': 4, 'max_leaf...                      2   \n",
       "...                                                                   ...   \n",
       "{'criterion': 'entropy', 'max_depth': 10, 'max_...                      8   \n",
       "{'criterion': 'entropy', 'max_depth': 10, 'max_...                      8   \n",
       "{'criterion': 'entropy', 'max_depth': 10, 'max_...                      8   \n",
       "{'criterion': 'entropy', 'max_depth': 10, 'max_...                      8   \n",
       "{'criterion': 'entropy', 'max_depth': 10, 'max_...                      8   \n",
       "\n",
       "                                                   param_min_samples_split  \\\n",
       "params                                                                       \n",
       "{'criterion': 'gini', 'max_depth': 4, 'max_leaf...                       2   \n",
       "{'criterion': 'gini', 'max_depth': 4, 'max_leaf...                       3   \n",
       "{'criterion': 'gini', 'max_depth': 4, 'max_leaf...                       4   \n",
       "{'criterion': 'gini', 'max_depth': 4, 'max_leaf...                       5   \n",
       "{'criterion': 'gini', 'max_depth': 4, 'max_leaf...                       6   \n",
       "...                                                                    ...   \n",
       "{'criterion': 'entropy', 'max_depth': 10, 'max_...                       4   \n",
       "{'criterion': 'entropy', 'max_depth': 10, 'max_...                       5   \n",
       "{'criterion': 'entropy', 'max_depth': 10, 'max_...                       6   \n",
       "{'criterion': 'entropy', 'max_depth': 10, 'max_...                       7   \n",
       "{'criterion': 'entropy', 'max_depth': 10, 'max_...                       8   \n",
       "\n",
       "                                                    split0_test_score  \\\n",
       "params                                                                  \n",
       "{'criterion': 'gini', 'max_depth': 4, 'max_leaf...           0.847953   \n",
       "{'criterion': 'gini', 'max_depth': 4, 'max_leaf...           0.847953   \n",
       "{'criterion': 'gini', 'max_depth': 4, 'max_leaf...           0.847953   \n",
       "{'criterion': 'gini', 'max_depth': 4, 'max_leaf...           0.847953   \n",
       "{'criterion': 'gini', 'max_depth': 4, 'max_leaf...           0.847953   \n",
       "...                                                               ...   \n",
       "{'criterion': 'entropy', 'max_depth': 10, 'max_...           0.842105   \n",
       "{'criterion': 'entropy', 'max_depth': 10, 'max_...           0.842105   \n",
       "{'criterion': 'entropy', 'max_depth': 10, 'max_...           0.842105   \n",
       "{'criterion': 'entropy', 'max_depth': 10, 'max_...           0.842105   \n",
       "{'criterion': 'entropy', 'max_depth': 10, 'max_...           0.842105   \n",
       "\n",
       "                                                    split1_test_score  \\\n",
       "params                                                                  \n",
       "{'criterion': 'gini', 'max_depth': 4, 'max_leaf...           0.821637   \n",
       "{'criterion': 'gini', 'max_depth': 4, 'max_leaf...           0.821637   \n",
       "{'criterion': 'gini', 'max_depth': 4, 'max_leaf...           0.821637   \n",
       "{'criterion': 'gini', 'max_depth': 4, 'max_leaf...           0.821637   \n",
       "{'criterion': 'gini', 'max_depth': 4, 'max_leaf...           0.821637   \n",
       "...                                                               ...   \n",
       "{'criterion': 'entropy', 'max_depth': 10, 'max_...           0.862573   \n",
       "{'criterion': 'entropy', 'max_depth': 10, 'max_...           0.862573   \n",
       "{'criterion': 'entropy', 'max_depth': 10, 'max_...           0.862573   \n",
       "{'criterion': 'entropy', 'max_depth': 10, 'max_...           0.862573   \n",
       "{'criterion': 'entropy', 'max_depth': 10, 'max_...           0.862573   \n",
       "\n",
       "                                                    split2_test_score  \\\n",
       "params                                                                  \n",
       "{'criterion': 'gini', 'max_depth': 4, 'max_leaf...           0.815789   \n",
       "{'criterion': 'gini', 'max_depth': 4, 'max_leaf...           0.815789   \n",
       "{'criterion': 'gini', 'max_depth': 4, 'max_leaf...           0.815789   \n",
       "{'criterion': 'gini', 'max_depth': 4, 'max_leaf...           0.815789   \n",
       "{'criterion': 'gini', 'max_depth': 4, 'max_leaf...           0.815789   \n",
       "...                                                               ...   \n",
       "{'criterion': 'entropy', 'max_depth': 10, 'max_...           0.824561   \n",
       "{'criterion': 'entropy', 'max_depth': 10, 'max_...           0.824561   \n",
       "{'criterion': 'entropy', 'max_depth': 10, 'max_...           0.824561   \n",
       "{'criterion': 'entropy', 'max_depth': 10, 'max_...           0.824561   \n",
       "{'criterion': 'entropy', 'max_depth': 10, 'max_...           0.824561   \n",
       "\n",
       "                                                    split3_test_score  \\\n",
       "params                                                                  \n",
       "{'criterion': 'gini', 'max_depth': 4, 'max_leaf...           0.785924   \n",
       "{'criterion': 'gini', 'max_depth': 4, 'max_leaf...           0.785924   \n",
       "{'criterion': 'gini', 'max_depth': 4, 'max_leaf...           0.785924   \n",
       "{'criterion': 'gini', 'max_depth': 4, 'max_leaf...           0.785924   \n",
       "{'criterion': 'gini', 'max_depth': 4, 'max_leaf...           0.785924   \n",
       "...                                                               ...   \n",
       "{'criterion': 'entropy', 'max_depth': 10, 'max_...           0.809384   \n",
       "{'criterion': 'entropy', 'max_depth': 10, 'max_...           0.809384   \n",
       "{'criterion': 'entropy', 'max_depth': 10, 'max_...           0.809384   \n",
       "{'criterion': 'entropy', 'max_depth': 10, 'max_...           0.809384   \n",
       "{'criterion': 'entropy', 'max_depth': 10, 'max_...           0.809384   \n",
       "\n",
       "                                                    split4_test_score  \\\n",
       "params                                                                  \n",
       "{'criterion': 'gini', 'max_depth': 4, 'max_leaf...           0.853372   \n",
       "{'criterion': 'gini', 'max_depth': 4, 'max_leaf...           0.853372   \n",
       "{'criterion': 'gini', 'max_depth': 4, 'max_leaf...           0.853372   \n",
       "{'criterion': 'gini', 'max_depth': 4, 'max_leaf...           0.853372   \n",
       "{'criterion': 'gini', 'max_depth': 4, 'max_leaf...           0.853372   \n",
       "...                                                               ...   \n",
       "{'criterion': 'entropy', 'max_depth': 10, 'max_...           0.850440   \n",
       "{'criterion': 'entropy', 'max_depth': 10, 'max_...           0.850440   \n",
       "{'criterion': 'entropy', 'max_depth': 10, 'max_...           0.850440   \n",
       "{'criterion': 'entropy', 'max_depth': 10, 'max_...           0.850440   \n",
       "{'criterion': 'entropy', 'max_depth': 10, 'max_...           0.850440   \n",
       "\n",
       "                                                    mean_test_score  \\\n",
       "params                                                                \n",
       "{'criterion': 'gini', 'max_depth': 4, 'max_leaf...         0.824935   \n",
       "{'criterion': 'gini', 'max_depth': 4, 'max_leaf...         0.824935   \n",
       "{'criterion': 'gini', 'max_depth': 4, 'max_leaf...         0.824935   \n",
       "{'criterion': 'gini', 'max_depth': 4, 'max_leaf...         0.824935   \n",
       "{'criterion': 'gini', 'max_depth': 4, 'max_leaf...         0.824935   \n",
       "...                                                             ...   \n",
       "{'criterion': 'entropy', 'max_depth': 10, 'max_...         0.837813   \n",
       "{'criterion': 'entropy', 'max_depth': 10, 'max_...         0.837813   \n",
       "{'criterion': 'entropy', 'max_depth': 10, 'max_...         0.837813   \n",
       "{'criterion': 'entropy', 'max_depth': 10, 'max_...         0.837813   \n",
       "{'criterion': 'entropy', 'max_depth': 10, 'max_...         0.837813   \n",
       "\n",
       "                                                    std_test_score  \\\n",
       "params                                                               \n",
       "{'criterion': 'gini', 'max_depth': 4, 'max_leaf...         0.02431   \n",
       "{'criterion': 'gini', 'max_depth': 4, 'max_leaf...         0.02431   \n",
       "{'criterion': 'gini', 'max_depth': 4, 'max_leaf...         0.02431   \n",
       "{'criterion': 'gini', 'max_depth': 4, 'max_leaf...         0.02431   \n",
       "{'criterion': 'gini', 'max_depth': 4, 'max_leaf...         0.02431   \n",
       "...                                                            ...   \n",
       "{'criterion': 'entropy', 'max_depth': 10, 'max_...         0.01884   \n",
       "{'criterion': 'entropy', 'max_depth': 10, 'max_...         0.01884   \n",
       "{'criterion': 'entropy', 'max_depth': 10, 'max_...         0.01884   \n",
       "{'criterion': 'entropy', 'max_depth': 10, 'max_...         0.01884   \n",
       "{'criterion': 'entropy', 'max_depth': 10, 'max_...         0.01884   \n",
       "\n",
       "                                                    rank_test_score  \n",
       "params                                                               \n",
       "{'criterion': 'gini', 'max_depth': 4, 'max_leaf...             5735  \n",
       "{'criterion': 'gini', 'max_depth': 4, 'max_leaf...             5735  \n",
       "{'criterion': 'gini', 'max_depth': 4, 'max_leaf...             5735  \n",
       "{'criterion': 'gini', 'max_depth': 4, 'max_leaf...             5735  \n",
       "{'criterion': 'gini', 'max_depth': 4, 'max_leaf...             5735  \n",
       "...                                                             ...  \n",
       "{'criterion': 'entropy', 'max_depth': 10, 'max_...             1044  \n",
       "{'criterion': 'entropy', 'max_depth': 10, 'max_...             1044  \n",
       "{'criterion': 'entropy', 'max_depth': 10, 'max_...             1044  \n",
       "{'criterion': 'entropy', 'max_depth': 10, 'max_...             1044  \n",
       "{'criterion': 'entropy', 'max_depth': 10, 'max_...             1044  \n",
       "\n",
       "[6174 rows x 17 columns]"
      ]
     },
     "execution_count": 28,
     "metadata": {},
     "output_type": "execute_result"
    }
   ],
   "source": [
    "# Show the results of each hyperparameter with 5-fold cross validation\n",
    "result = pd.DataFrame(tree_cv.cv_results_)\n",
    "result = result.set_index('params')\n",
    "result"
   ]
  },
  {
   "cell_type": "code",
   "execution_count": 29,
   "metadata": {
    "colab": {
     "base_uri": "https://localhost:8080/",
     "height": 455
    },
    "id": "dbeKUMkoMUKg",
    "outputId": "4e10fb26-a3ea-4b9f-f388-1ceb124e9c4f"
   },
   "outputs": [
    {
     "data": {
      "text/html": [
       "<div>\n",
       "<style scoped>\n",
       "    .dataframe tbody tr th:only-of-type {\n",
       "        vertical-align: middle;\n",
       "    }\n",
       "\n",
       "    .dataframe tbody tr th {\n",
       "        vertical-align: top;\n",
       "    }\n",
       "\n",
       "    .dataframe thead th {\n",
       "        text-align: right;\n",
       "    }\n",
       "</style>\n",
       "<table border=\"1\" class=\"dataframe\">\n",
       "  <thead>\n",
       "    <tr style=\"text-align: right;\">\n",
       "      <th></th>\n",
       "      <th>mean_test_score</th>\n",
       "      <th>rank_test_score</th>\n",
       "    </tr>\n",
       "    <tr>\n",
       "      <th>params</th>\n",
       "      <th></th>\n",
       "      <th></th>\n",
       "    </tr>\n",
       "  </thead>\n",
       "  <tbody>\n",
       "    <tr>\n",
       "      <th>{'criterion': 'gini', 'max_depth': 7, 'max_leaf_nodes': 16, 'min_samples_leaf': 3, 'min_samples_split': 8}</th>\n",
       "      <td>0.848349</td>\n",
       "      <td>1</td>\n",
       "    </tr>\n",
       "    <tr>\n",
       "      <th>{'criterion': 'gini', 'max_depth': 7, 'max_leaf_nodes': 16, 'min_samples_leaf': 3, 'min_samples_split': 4}</th>\n",
       "      <td>0.848349</td>\n",
       "      <td>1</td>\n",
       "    </tr>\n",
       "    <tr>\n",
       "      <th>{'criterion': 'gini', 'max_depth': 8, 'max_leaf_nodes': 16, 'min_samples_leaf': 8, 'min_samples_split': 8}</th>\n",
       "      <td>0.847185</td>\n",
       "      <td>3</td>\n",
       "    </tr>\n",
       "    <tr>\n",
       "      <th>{'criterion': 'gini', 'max_depth': 8, 'max_leaf_nodes': 16, 'min_samples_leaf': 8, 'min_samples_split': 7}</th>\n",
       "      <td>0.847185</td>\n",
       "      <td>3</td>\n",
       "    </tr>\n",
       "    <tr>\n",
       "      <th>{'criterion': 'gini', 'max_depth': 8, 'max_leaf_nodes': 16, 'min_samples_leaf': 8, 'min_samples_split': 6}</th>\n",
       "      <td>0.847185</td>\n",
       "      <td>3</td>\n",
       "    </tr>\n",
       "    <tr>\n",
       "      <th>...</th>\n",
       "      <td>...</td>\n",
       "      <td>...</td>\n",
       "    </tr>\n",
       "    <tr>\n",
       "      <th>{'criterion': 'gini', 'max_depth': 4, 'max_leaf_nodes': 15, 'min_samples_leaf': 4, 'min_samples_split': 8}</th>\n",
       "      <td>0.817906</td>\n",
       "      <td>6154</td>\n",
       "    </tr>\n",
       "    <tr>\n",
       "      <th>{'criterion': 'gini', 'max_depth': 4, 'max_leaf_nodes': 15, 'min_samples_leaf': 4, 'min_samples_split': 7}</th>\n",
       "      <td>0.817906</td>\n",
       "      <td>6154</td>\n",
       "    </tr>\n",
       "    <tr>\n",
       "      <th>{'criterion': 'gini', 'max_depth': 4, 'max_leaf_nodes': 15, 'min_samples_leaf': 4, 'min_samples_split': 6}</th>\n",
       "      <td>0.817906</td>\n",
       "      <td>6154</td>\n",
       "    </tr>\n",
       "    <tr>\n",
       "      <th>{'criterion': 'gini', 'max_depth': 4, 'max_leaf_nodes': 14, 'min_samples_leaf': 4, 'min_samples_split': 2}</th>\n",
       "      <td>0.817906</td>\n",
       "      <td>6154</td>\n",
       "    </tr>\n",
       "    <tr>\n",
       "      <th>{'criterion': 'gini', 'max_depth': 4, 'max_leaf_nodes': 16, 'min_samples_leaf': 4, 'min_samples_split': 2}</th>\n",
       "      <td>0.817906</td>\n",
       "      <td>6154</td>\n",
       "    </tr>\n",
       "  </tbody>\n",
       "</table>\n",
       "<p>6174 rows × 2 columns</p>\n",
       "</div>"
      ],
      "text/plain": [
       "                                                    mean_test_score  \\\n",
       "params                                                                \n",
       "{'criterion': 'gini', 'max_depth': 7, 'max_leaf...         0.848349   \n",
       "{'criterion': 'gini', 'max_depth': 7, 'max_leaf...         0.848349   \n",
       "{'criterion': 'gini', 'max_depth': 8, 'max_leaf...         0.847185   \n",
       "{'criterion': 'gini', 'max_depth': 8, 'max_leaf...         0.847185   \n",
       "{'criterion': 'gini', 'max_depth': 8, 'max_leaf...         0.847185   \n",
       "...                                                             ...   \n",
       "{'criterion': 'gini', 'max_depth': 4, 'max_leaf...         0.817906   \n",
       "{'criterion': 'gini', 'max_depth': 4, 'max_leaf...         0.817906   \n",
       "{'criterion': 'gini', 'max_depth': 4, 'max_leaf...         0.817906   \n",
       "{'criterion': 'gini', 'max_depth': 4, 'max_leaf...         0.817906   \n",
       "{'criterion': 'gini', 'max_depth': 4, 'max_leaf...         0.817906   \n",
       "\n",
       "                                                    rank_test_score  \n",
       "params                                                               \n",
       "{'criterion': 'gini', 'max_depth': 7, 'max_leaf...                1  \n",
       "{'criterion': 'gini', 'max_depth': 7, 'max_leaf...                1  \n",
       "{'criterion': 'gini', 'max_depth': 8, 'max_leaf...                3  \n",
       "{'criterion': 'gini', 'max_depth': 8, 'max_leaf...                3  \n",
       "{'criterion': 'gini', 'max_depth': 8, 'max_leaf...                3  \n",
       "...                                                             ...  \n",
       "{'criterion': 'gini', 'max_depth': 4, 'max_leaf...             6154  \n",
       "{'criterion': 'gini', 'max_depth': 4, 'max_leaf...             6154  \n",
       "{'criterion': 'gini', 'max_depth': 4, 'max_leaf...             6154  \n",
       "{'criterion': 'gini', 'max_depth': 4, 'max_leaf...             6154  \n",
       "{'criterion': 'gini', 'max_depth': 4, 'max_leaf...             6154  \n",
       "\n",
       "[6174 rows x 2 columns]"
      ]
     },
     "execution_count": 29,
     "metadata": {},
     "output_type": "execute_result"
    }
   ],
   "source": [
    "# Ranking the score of each hyperparameter var_smoothing to choose the best one\n",
    "result[['mean_test_score', 'rank_test_score']].sort_values(by=['rank_test_score'])"
   ]
  },
  {
   "cell_type": "code",
   "execution_count": 30,
   "metadata": {
    "colab": {
     "base_uri": "https://localhost:8080/"
    },
    "id": "7ojWFuM2Kq-A",
    "outputId": "5cc25c12-3bec-40e5-8b0e-4c944b889c33"
   },
   "outputs": [
    {
     "data": {
      "text/plain": [
       "{'criterion': 'gini',\n",
       " 'max_depth': 7,\n",
       " 'max_leaf_nodes': 16,\n",
       " 'min_samples_leaf': 3,\n",
       " 'min_samples_split': 4}"
      ]
     },
     "execution_count": 30,
     "metadata": {},
     "output_type": "execute_result"
    }
   ],
   "source": [
    "# Best set of hyper-parameters found after searching\n",
    "grid_search.best_params_"
   ]
  },
  {
   "cell_type": "code",
   "execution_count": 31,
   "metadata": {
    "id": "0rwQlXxSPG33"
   },
   "outputs": [],
   "source": [
    "# Build a decision tree model pipeline from the best set of hyper-parameters found\n",
    "model_dt = DecisionTreeClassifier(criterion=grid_search.best_params_['criterion'], max_depth=grid_search.best_params_['max_depth'], min_samples_leaf = grid_search.best_params_['min_samples_leaf'], max_leaf_nodes = grid_search.best_params_['max_leaf_nodes'], min_samples_split= grid_search.best_params_['min_samples_split'])"
   ]
  },
  {
   "cell_type": "code",
   "execution_count": 32,
   "metadata": {
    "colab": {
     "base_uri": "https://localhost:8080/"
    },
    "id": "DjESj3flPGvX",
    "outputId": "9135a622-c393-4e67-d917-7043284aaf3f"
   },
   "outputs": [
    {
     "data": {
      "text/html": [
       "<style>#sk-container-id-1 {color: black;background-color: white;}#sk-container-id-1 pre{padding: 0;}#sk-container-id-1 div.sk-toggleable {background-color: white;}#sk-container-id-1 label.sk-toggleable__label {cursor: pointer;display: block;width: 100%;margin-bottom: 0;padding: 0.3em;box-sizing: border-box;text-align: center;}#sk-container-id-1 label.sk-toggleable__label-arrow:before {content: \"▸\";float: left;margin-right: 0.25em;color: #696969;}#sk-container-id-1 label.sk-toggleable__label-arrow:hover:before {color: black;}#sk-container-id-1 div.sk-estimator:hover label.sk-toggleable__label-arrow:before {color: black;}#sk-container-id-1 div.sk-toggleable__content {max-height: 0;max-width: 0;overflow: hidden;text-align: left;background-color: #f0f8ff;}#sk-container-id-1 div.sk-toggleable__content pre {margin: 0.2em;color: black;border-radius: 0.25em;background-color: #f0f8ff;}#sk-container-id-1 input.sk-toggleable__control:checked~div.sk-toggleable__content {max-height: 200px;max-width: 100%;overflow: auto;}#sk-container-id-1 input.sk-toggleable__control:checked~label.sk-toggleable__label-arrow:before {content: \"▾\";}#sk-container-id-1 div.sk-estimator input.sk-toggleable__control:checked~label.sk-toggleable__label {background-color: #d4ebff;}#sk-container-id-1 div.sk-label input.sk-toggleable__control:checked~label.sk-toggleable__label {background-color: #d4ebff;}#sk-container-id-1 input.sk-hidden--visually {border: 0;clip: rect(1px 1px 1px 1px);clip: rect(1px, 1px, 1px, 1px);height: 1px;margin: -1px;overflow: hidden;padding: 0;position: absolute;width: 1px;}#sk-container-id-1 div.sk-estimator {font-family: monospace;background-color: #f0f8ff;border: 1px dotted black;border-radius: 0.25em;box-sizing: border-box;margin-bottom: 0.5em;}#sk-container-id-1 div.sk-estimator:hover {background-color: #d4ebff;}#sk-container-id-1 div.sk-parallel-item::after {content: \"\";width: 100%;border-bottom: 1px solid gray;flex-grow: 1;}#sk-container-id-1 div.sk-label:hover label.sk-toggleable__label {background-color: #d4ebff;}#sk-container-id-1 div.sk-serial::before {content: \"\";position: absolute;border-left: 1px solid gray;box-sizing: border-box;top: 0;bottom: 0;left: 50%;z-index: 0;}#sk-container-id-1 div.sk-serial {display: flex;flex-direction: column;align-items: center;background-color: white;padding-right: 0.2em;padding-left: 0.2em;position: relative;}#sk-container-id-1 div.sk-item {position: relative;z-index: 1;}#sk-container-id-1 div.sk-parallel {display: flex;align-items: stretch;justify-content: center;background-color: white;position: relative;}#sk-container-id-1 div.sk-item::before, #sk-container-id-1 div.sk-parallel-item::before {content: \"\";position: absolute;border-left: 1px solid gray;box-sizing: border-box;top: 0;bottom: 0;left: 50%;z-index: -1;}#sk-container-id-1 div.sk-parallel-item {display: flex;flex-direction: column;z-index: 1;position: relative;background-color: white;}#sk-container-id-1 div.sk-parallel-item:first-child::after {align-self: flex-end;width: 50%;}#sk-container-id-1 div.sk-parallel-item:last-child::after {align-self: flex-start;width: 50%;}#sk-container-id-1 div.sk-parallel-item:only-child::after {width: 0;}#sk-container-id-1 div.sk-dashed-wrapped {border: 1px dashed gray;margin: 0 0.4em 0.5em 0.4em;box-sizing: border-box;padding-bottom: 0.4em;background-color: white;}#sk-container-id-1 div.sk-label label {font-family: monospace;font-weight: bold;display: inline-block;line-height: 1.2em;}#sk-container-id-1 div.sk-label-container {text-align: center;}#sk-container-id-1 div.sk-container {/* jupyter's `normalize.less` sets `[hidden] { display: none; }` but bootstrap.min.css set `[hidden] { display: none !important; }` so we also need the `!important` here to be able to override the default hidden behavior on the sphinx rendered scikit-learn.org. See: https://github.com/scikit-learn/scikit-learn/issues/21755 */display: inline-block !important;position: relative;}#sk-container-id-1 div.sk-text-repr-fallback {display: none;}</style><div id=\"sk-container-id-1\" class=\"sk-top-container\"><div class=\"sk-text-repr-fallback\"><pre>DecisionTreeClassifier(max_depth=7, max_leaf_nodes=16, min_samples_leaf=3,\n",
       "                       min_samples_split=4)</pre><b>In a Jupyter environment, please rerun this cell to show the HTML representation or trust the notebook. <br />On GitHub, the HTML representation is unable to render, please try loading this page with nbviewer.org.</b></div><div class=\"sk-container\" hidden><div class=\"sk-item\"><div class=\"sk-estimator sk-toggleable\"><input class=\"sk-toggleable__control sk-hidden--visually\" id=\"sk-estimator-id-1\" type=\"checkbox\" checked><label for=\"sk-estimator-id-1\" class=\"sk-toggleable__label sk-toggleable__label-arrow\">DecisionTreeClassifier</label><div class=\"sk-toggleable__content\"><pre>DecisionTreeClassifier(max_depth=7, max_leaf_nodes=16, min_samples_leaf=3,\n",
       "                       min_samples_split=4)</pre></div></div></div></div></div>"
      ],
      "text/plain": [
       "DecisionTreeClassifier(max_depth=7, max_leaf_nodes=16, min_samples_leaf=3,\n",
       "                       min_samples_split=4)"
      ]
     },
     "execution_count": 32,
     "metadata": {},
     "output_type": "execute_result"
    }
   ],
   "source": [
    "# Train the decision tree model\n",
    "model_dt.fit(X_train, y_train)"
   ]
  },
  {
   "cell_type": "code",
   "execution_count": 33,
   "metadata": {
    "colab": {
     "base_uri": "https://localhost:8080/"
    },
    "id": "2aoDVBl4TNou",
    "outputId": "40bbb06f-52e2-4453-844e-4ff62e46c9ab"
   },
   "outputs": [
    {
     "name": "stdout",
     "output_type": "stream",
     "text": [
      "              precision    recall  f1-score   support\n",
      "\n",
      "         0.0       0.84      0.73      0.78       199\n",
      "         1.0       0.79      0.88      0.83       228\n",
      "\n",
      "    accuracy                           0.81       427\n",
      "   macro avg       0.81      0.80      0.80       427\n",
      "weighted avg       0.81      0.81      0.81       427\n",
      "\n"
     ]
    }
   ],
   "source": [
    "# Calculate some evaluation metrics: precision, recall, f1-score. 'Support' is the number of actual occurrences of the class in the dataset.\n",
    "from sklearn.metrics import classification_report\n",
    "\n",
    "# Make prediction on the original test set (after training on the over-sampled training set).\n",
    "pred_y = model_dt.predict(X_test)\n",
    "\n",
    "print(classification_report(y_test, pred_y))\n",
    "\n",
    "# Note 1: macro avg = (precision_0 + precision_1) / 2\n",
    "# Note 2: weighted avg = (support_0 * precision_0 + support_1 * precision_1) / number_of_samples"
   ]
  },
  {
   "cell_type": "markdown",
   "metadata": {
    "id": "RH0uh0RsLe5E"
   },
   "source": [
    "### Random Forest"
   ]
  },
  {
   "cell_type": "code",
   "execution_count": 34,
   "metadata": {
    "id": "dw_NbCQg3_dR"
   },
   "outputs": [],
   "source": [
    "# Building a RandomForest is similar to building a decision tree, but there is an additional hyper-parameter called n_estimators which is the number of trees in the forest.\n",
    "from sklearn.ensemble import RandomForestClassifier\n",
    "\n",
    "params = {\"criterion\": [\"gini\", \"entropy\"],             # Criterion to evaluate the purity.\n",
    "         \"max_depth\": [7, 9, 11],                           # Maximum depth of the tree\n",
    "         \"min_samples_split\": [8, 12, 16]}                   # Stop splitting condition.\n",
    "\n",
    "grid_search_rf = GridSearchCV(estimator=RandomForestClassifier(n_estimators=10, n_jobs=10), param_grid=params, cv= 5) # Number of trees in the forest is 10\n",
    "\n",
    "# Run the search on training data samples.\n",
    "forest_cv = grid_search_rf.fit(X_train, y_train)     # Train the RandomForest"
   ]
  },
  {
   "cell_type": "code",
   "execution_count": 35,
   "metadata": {
    "colab": {
     "base_uri": "https://localhost:8080/",
     "height": 645
    },
    "id": "mFNq-bfgLrfS",
    "outputId": "ded13f51-5945-4b9f-f099-531d88bc96b2"
   },
   "outputs": [
    {
     "data": {
      "text/html": [
       "<div>\n",
       "<style scoped>\n",
       "    .dataframe tbody tr th:only-of-type {\n",
       "        vertical-align: middle;\n",
       "    }\n",
       "\n",
       "    .dataframe tbody tr th {\n",
       "        vertical-align: top;\n",
       "    }\n",
       "\n",
       "    .dataframe thead th {\n",
       "        text-align: right;\n",
       "    }\n",
       "</style>\n",
       "<table border=\"1\" class=\"dataframe\">\n",
       "  <thead>\n",
       "    <tr style=\"text-align: right;\">\n",
       "      <th></th>\n",
       "      <th>mean_test_score</th>\n",
       "      <th>rank_test_score</th>\n",
       "    </tr>\n",
       "    <tr>\n",
       "      <th>params</th>\n",
       "      <th></th>\n",
       "      <th></th>\n",
       "    </tr>\n",
       "  </thead>\n",
       "  <tbody>\n",
       "    <tr>\n",
       "      <th>{'criterion': 'entropy', 'max_depth': 11, 'min_samples_split': 12}</th>\n",
       "      <td>0.858306</td>\n",
       "      <td>1</td>\n",
       "    </tr>\n",
       "    <tr>\n",
       "      <th>{'criterion': 'gini', 'max_depth': 11, 'min_samples_split': 12}</th>\n",
       "      <td>0.854792</td>\n",
       "      <td>2</td>\n",
       "    </tr>\n",
       "    <tr>\n",
       "      <th>{'criterion': 'entropy', 'max_depth': 11, 'min_samples_split': 8}</th>\n",
       "      <td>0.854211</td>\n",
       "      <td>3</td>\n",
       "    </tr>\n",
       "    <tr>\n",
       "      <th>{'criterion': 'gini', 'max_depth': 11, 'min_samples_split': 8}</th>\n",
       "      <td>0.850121</td>\n",
       "      <td>4</td>\n",
       "    </tr>\n",
       "    <tr>\n",
       "      <th>{'criterion': 'entropy', 'max_depth': 9, 'min_samples_split': 12}</th>\n",
       "      <td>0.849529</td>\n",
       "      <td>5</td>\n",
       "    </tr>\n",
       "    <tr>\n",
       "      <th>{'criterion': 'entropy', 'max_depth': 11, 'min_samples_split': 16}</th>\n",
       "      <td>0.848941</td>\n",
       "      <td>6</td>\n",
       "    </tr>\n",
       "    <tr>\n",
       "      <th>{'criterion': 'gini', 'max_depth': 9, 'min_samples_split': 8}</th>\n",
       "      <td>0.847773</td>\n",
       "      <td>7</td>\n",
       "    </tr>\n",
       "    <tr>\n",
       "      <th>{'criterion': 'entropy', 'max_depth': 9, 'min_samples_split': 8}</th>\n",
       "      <td>0.846595</td>\n",
       "      <td>8</td>\n",
       "    </tr>\n",
       "    <tr>\n",
       "      <th>{'criterion': 'gini', 'max_depth': 11, 'min_samples_split': 16}</th>\n",
       "      <td>0.843673</td>\n",
       "      <td>9</td>\n",
       "    </tr>\n",
       "    <tr>\n",
       "      <th>{'criterion': 'gini', 'max_depth': 9, 'min_samples_split': 12}</th>\n",
       "      <td>0.843669</td>\n",
       "      <td>10</td>\n",
       "    </tr>\n",
       "    <tr>\n",
       "      <th>{'criterion': 'gini', 'max_depth': 9, 'min_samples_split': 16}</th>\n",
       "      <td>0.843668</td>\n",
       "      <td>11</td>\n",
       "    </tr>\n",
       "    <tr>\n",
       "      <th>{'criterion': 'entropy', 'max_depth': 9, 'min_samples_split': 16}</th>\n",
       "      <td>0.838401</td>\n",
       "      <td>12</td>\n",
       "    </tr>\n",
       "    <tr>\n",
       "      <th>{'criterion': 'gini', 'max_depth': 7, 'min_samples_split': 8}</th>\n",
       "      <td>0.836645</td>\n",
       "      <td>13</td>\n",
       "    </tr>\n",
       "    <tr>\n",
       "      <th>{'criterion': 'entropy', 'max_depth': 7, 'min_samples_split': 12}</th>\n",
       "      <td>0.834285</td>\n",
       "      <td>14</td>\n",
       "    </tr>\n",
       "    <tr>\n",
       "      <th>{'criterion': 'gini', 'max_depth': 7, 'min_samples_split': 16}</th>\n",
       "      <td>0.833719</td>\n",
       "      <td>15</td>\n",
       "    </tr>\n",
       "    <tr>\n",
       "      <th>{'criterion': 'entropy', 'max_depth': 7, 'min_samples_split': 8}</th>\n",
       "      <td>0.832548</td>\n",
       "      <td>16</td>\n",
       "    </tr>\n",
       "    <tr>\n",
       "      <th>{'criterion': 'entropy', 'max_depth': 7, 'min_samples_split': 16}</th>\n",
       "      <td>0.828434</td>\n",
       "      <td>17</td>\n",
       "    </tr>\n",
       "    <tr>\n",
       "      <th>{'criterion': 'gini', 'max_depth': 7, 'min_samples_split': 12}</th>\n",
       "      <td>0.827856</td>\n",
       "      <td>18</td>\n",
       "    </tr>\n",
       "  </tbody>\n",
       "</table>\n",
       "</div>"
      ],
      "text/plain": [
       "                                                    mean_test_score  \\\n",
       "params                                                                \n",
       "{'criterion': 'entropy', 'max_depth': 11, 'min_...         0.858306   \n",
       "{'criterion': 'gini', 'max_depth': 11, 'min_sam...         0.854792   \n",
       "{'criterion': 'entropy', 'max_depth': 11, 'min_...         0.854211   \n",
       "{'criterion': 'gini', 'max_depth': 11, 'min_sam...         0.850121   \n",
       "{'criterion': 'entropy', 'max_depth': 9, 'min_s...         0.849529   \n",
       "{'criterion': 'entropy', 'max_depth': 11, 'min_...         0.848941   \n",
       "{'criterion': 'gini', 'max_depth': 9, 'min_samp...         0.847773   \n",
       "{'criterion': 'entropy', 'max_depth': 9, 'min_s...         0.846595   \n",
       "{'criterion': 'gini', 'max_depth': 11, 'min_sam...         0.843673   \n",
       "{'criterion': 'gini', 'max_depth': 9, 'min_samp...         0.843669   \n",
       "{'criterion': 'gini', 'max_depth': 9, 'min_samp...         0.843668   \n",
       "{'criterion': 'entropy', 'max_depth': 9, 'min_s...         0.838401   \n",
       "{'criterion': 'gini', 'max_depth': 7, 'min_samp...         0.836645   \n",
       "{'criterion': 'entropy', 'max_depth': 7, 'min_s...         0.834285   \n",
       "{'criterion': 'gini', 'max_depth': 7, 'min_samp...         0.833719   \n",
       "{'criterion': 'entropy', 'max_depth': 7, 'min_s...         0.832548   \n",
       "{'criterion': 'entropy', 'max_depth': 7, 'min_s...         0.828434   \n",
       "{'criterion': 'gini', 'max_depth': 7, 'min_samp...         0.827856   \n",
       "\n",
       "                                                    rank_test_score  \n",
       "params                                                               \n",
       "{'criterion': 'entropy', 'max_depth': 11, 'min_...                1  \n",
       "{'criterion': 'gini', 'max_depth': 11, 'min_sam...                2  \n",
       "{'criterion': 'entropy', 'max_depth': 11, 'min_...                3  \n",
       "{'criterion': 'gini', 'max_depth': 11, 'min_sam...                4  \n",
       "{'criterion': 'entropy', 'max_depth': 9, 'min_s...                5  \n",
       "{'criterion': 'entropy', 'max_depth': 11, 'min_...                6  \n",
       "{'criterion': 'gini', 'max_depth': 9, 'min_samp...                7  \n",
       "{'criterion': 'entropy', 'max_depth': 9, 'min_s...                8  \n",
       "{'criterion': 'gini', 'max_depth': 11, 'min_sam...                9  \n",
       "{'criterion': 'gini', 'max_depth': 9, 'min_samp...               10  \n",
       "{'criterion': 'gini', 'max_depth': 9, 'min_samp...               11  \n",
       "{'criterion': 'entropy', 'max_depth': 9, 'min_s...               12  \n",
       "{'criterion': 'gini', 'max_depth': 7, 'min_samp...               13  \n",
       "{'criterion': 'entropy', 'max_depth': 7, 'min_s...               14  \n",
       "{'criterion': 'gini', 'max_depth': 7, 'min_samp...               15  \n",
       "{'criterion': 'entropy', 'max_depth': 7, 'min_s...               16  \n",
       "{'criterion': 'entropy', 'max_depth': 7, 'min_s...               17  \n",
       "{'criterion': 'gini', 'max_depth': 7, 'min_samp...               18  "
      ]
     },
     "execution_count": 35,
     "metadata": {},
     "output_type": "execute_result"
    }
   ],
   "source": [
    "# Show the results of each hyperparameter with 5-fold cross validation\n",
    "result = pd.DataFrame(forest_cv.cv_results_)\n",
    "result = result.set_index('params')\n",
    "\n",
    "# Ranking the score of each hyperparameter var_smoothing to choose the best one\n",
    "result[['mean_test_score', 'rank_test_score']].sort_values(by=['rank_test_score'])"
   ]
  },
  {
   "cell_type": "code",
   "execution_count": 36,
   "metadata": {
    "colab": {
     "base_uri": "https://localhost:8080/"
    },
    "id": "hg2Ftm_t5NXo",
    "outputId": "c9f798ad-6d2c-45c3-f751-f10c9afd67d4"
   },
   "outputs": [
    {
     "data": {
      "text/plain": [
       "{'criterion': 'entropy', 'max_depth': 11, 'min_samples_split': 12}"
      ]
     },
     "execution_count": 36,
     "metadata": {},
     "output_type": "execute_result"
    }
   ],
   "source": [
    "# Best set of hyper parameters of the Random Forest\n",
    "grid_search_rf.best_params_"
   ]
  },
  {
   "cell_type": "code",
   "execution_count": 37,
   "metadata": {
    "id": "Dawd86RY5S9A"
   },
   "outputs": [],
   "source": [
    "# Build a Random Forest model pipeline from the best set of hyper-parameters found\n",
    "model_rf = RandomForestClassifier(n_estimators=100, random_state=1, criterion=grid_search_rf.best_params_['criterion'], max_depth=grid_search_rf.best_params_['max_depth'], min_samples_split=grid_search_rf.best_params_['min_samples_split'])     # Initialize the RandomForest"
   ]
  },
  {
   "cell_type": "code",
   "execution_count": 38,
   "metadata": {
    "colab": {
     "base_uri": "https://localhost:8080/"
    },
    "id": "HRNLXMng5Zp4",
    "outputId": "340c40a2-a2ef-413f-d0e1-cf48d706ee9f"
   },
   "outputs": [
    {
     "data": {
      "text/html": [
       "<style>#sk-container-id-2 {color: black;background-color: white;}#sk-container-id-2 pre{padding: 0;}#sk-container-id-2 div.sk-toggleable {background-color: white;}#sk-container-id-2 label.sk-toggleable__label {cursor: pointer;display: block;width: 100%;margin-bottom: 0;padding: 0.3em;box-sizing: border-box;text-align: center;}#sk-container-id-2 label.sk-toggleable__label-arrow:before {content: \"▸\";float: left;margin-right: 0.25em;color: #696969;}#sk-container-id-2 label.sk-toggleable__label-arrow:hover:before {color: black;}#sk-container-id-2 div.sk-estimator:hover label.sk-toggleable__label-arrow:before {color: black;}#sk-container-id-2 div.sk-toggleable__content {max-height: 0;max-width: 0;overflow: hidden;text-align: left;background-color: #f0f8ff;}#sk-container-id-2 div.sk-toggleable__content pre {margin: 0.2em;color: black;border-radius: 0.25em;background-color: #f0f8ff;}#sk-container-id-2 input.sk-toggleable__control:checked~div.sk-toggleable__content {max-height: 200px;max-width: 100%;overflow: auto;}#sk-container-id-2 input.sk-toggleable__control:checked~label.sk-toggleable__label-arrow:before {content: \"▾\";}#sk-container-id-2 div.sk-estimator input.sk-toggleable__control:checked~label.sk-toggleable__label {background-color: #d4ebff;}#sk-container-id-2 div.sk-label input.sk-toggleable__control:checked~label.sk-toggleable__label {background-color: #d4ebff;}#sk-container-id-2 input.sk-hidden--visually {border: 0;clip: rect(1px 1px 1px 1px);clip: rect(1px, 1px, 1px, 1px);height: 1px;margin: -1px;overflow: hidden;padding: 0;position: absolute;width: 1px;}#sk-container-id-2 div.sk-estimator {font-family: monospace;background-color: #f0f8ff;border: 1px dotted black;border-radius: 0.25em;box-sizing: border-box;margin-bottom: 0.5em;}#sk-container-id-2 div.sk-estimator:hover {background-color: #d4ebff;}#sk-container-id-2 div.sk-parallel-item::after {content: \"\";width: 100%;border-bottom: 1px solid gray;flex-grow: 1;}#sk-container-id-2 div.sk-label:hover label.sk-toggleable__label {background-color: #d4ebff;}#sk-container-id-2 div.sk-serial::before {content: \"\";position: absolute;border-left: 1px solid gray;box-sizing: border-box;top: 0;bottom: 0;left: 50%;z-index: 0;}#sk-container-id-2 div.sk-serial {display: flex;flex-direction: column;align-items: center;background-color: white;padding-right: 0.2em;padding-left: 0.2em;position: relative;}#sk-container-id-2 div.sk-item {position: relative;z-index: 1;}#sk-container-id-2 div.sk-parallel {display: flex;align-items: stretch;justify-content: center;background-color: white;position: relative;}#sk-container-id-2 div.sk-item::before, #sk-container-id-2 div.sk-parallel-item::before {content: \"\";position: absolute;border-left: 1px solid gray;box-sizing: border-box;top: 0;bottom: 0;left: 50%;z-index: -1;}#sk-container-id-2 div.sk-parallel-item {display: flex;flex-direction: column;z-index: 1;position: relative;background-color: white;}#sk-container-id-2 div.sk-parallel-item:first-child::after {align-self: flex-end;width: 50%;}#sk-container-id-2 div.sk-parallel-item:last-child::after {align-self: flex-start;width: 50%;}#sk-container-id-2 div.sk-parallel-item:only-child::after {width: 0;}#sk-container-id-2 div.sk-dashed-wrapped {border: 1px dashed gray;margin: 0 0.4em 0.5em 0.4em;box-sizing: border-box;padding-bottom: 0.4em;background-color: white;}#sk-container-id-2 div.sk-label label {font-family: monospace;font-weight: bold;display: inline-block;line-height: 1.2em;}#sk-container-id-2 div.sk-label-container {text-align: center;}#sk-container-id-2 div.sk-container {/* jupyter's `normalize.less` sets `[hidden] { display: none; }` but bootstrap.min.css set `[hidden] { display: none !important; }` so we also need the `!important` here to be able to override the default hidden behavior on the sphinx rendered scikit-learn.org. See: https://github.com/scikit-learn/scikit-learn/issues/21755 */display: inline-block !important;position: relative;}#sk-container-id-2 div.sk-text-repr-fallback {display: none;}</style><div id=\"sk-container-id-2\" class=\"sk-top-container\"><div class=\"sk-text-repr-fallback\"><pre>RandomForestClassifier(criterion=&#x27;entropy&#x27;, max_depth=11, min_samples_split=12,\n",
       "                       random_state=1)</pre><b>In a Jupyter environment, please rerun this cell to show the HTML representation or trust the notebook. <br />On GitHub, the HTML representation is unable to render, please try loading this page with nbviewer.org.</b></div><div class=\"sk-container\" hidden><div class=\"sk-item\"><div class=\"sk-estimator sk-toggleable\"><input class=\"sk-toggleable__control sk-hidden--visually\" id=\"sk-estimator-id-2\" type=\"checkbox\" checked><label for=\"sk-estimator-id-2\" class=\"sk-toggleable__label sk-toggleable__label-arrow\">RandomForestClassifier</label><div class=\"sk-toggleable__content\"><pre>RandomForestClassifier(criterion=&#x27;entropy&#x27;, max_depth=11, min_samples_split=12,\n",
       "                       random_state=1)</pre></div></div></div></div></div>"
      ],
      "text/plain": [
       "RandomForestClassifier(criterion='entropy', max_depth=11, min_samples_split=12,\n",
       "                       random_state=1)"
      ]
     },
     "execution_count": 38,
     "metadata": {},
     "output_type": "execute_result"
    }
   ],
   "source": [
    "# Train the Random Forest model\n",
    "model_rf.fit(X_train, y_train)"
   ]
  },
  {
   "cell_type": "code",
   "execution_count": 39,
   "metadata": {
    "colab": {
     "base_uri": "https://localhost:8080/"
    },
    "id": "m0BC34fz5dwP",
    "outputId": "5acaec35-a5c0-4d50-a685-c5e74014c631"
   },
   "outputs": [
    {
     "name": "stdout",
     "output_type": "stream",
     "text": [
      "              precision    recall  f1-score   support\n",
      "\n",
      "         0.0       0.85      0.86      0.85       199\n",
      "         1.0       0.88      0.87      0.87       228\n",
      "\n",
      "    accuracy                           0.86       427\n",
      "   macro avg       0.86      0.86      0.86       427\n",
      "weighted avg       0.86      0.86      0.86       427\n",
      "\n"
     ]
    }
   ],
   "source": [
    "# Calculate some evaluation metrics: precision, recall, f1-score. 'Support' is the number of actual occurrences of the class in the dataset.\n",
    "from sklearn.metrics import classification_report\n",
    "\n",
    "# Make prediction on the original test set (after training on the over-sampled training set).\n",
    "pred_y = model_rf.predict(X_test)\n",
    "\n",
    "print(classification_report(y_test, pred_y))"
   ]
  },
  {
   "cell_type": "markdown",
   "metadata": {
    "id": "3xSG_c525sSw"
   },
   "source": [
    "## Feature Importance"
   ]
  },
  {
   "cell_type": "markdown",
   "metadata": {
    "id": "HBx3T0PMMlyh"
   },
   "source": [
    "### Gini"
   ]
  },
  {
   "cell_type": "code",
   "execution_count": 40,
   "metadata": {
    "colab": {
     "base_uri": "https://localhost:8080/"
    },
    "id": "pwkQyJHB5u0X",
    "outputId": "ce46236a-2a90-417b-d52d-cdb5f90563ae"
   },
   "outputs": [
    {
     "name": "stdout",
     "output_type": "stream",
     "text": [
      "city_development_index              0.864943\n",
      "education_level                     0.000000\n",
      "experience                          0.052404\n",
      "company_size                        0.018229\n",
      "last_new_job                        0.043088\n",
      "training_hours                      0.000000\n",
      "gender                              0.000000\n",
      "relevent_experience                 0.000000\n",
      "enrolled_university                 0.000000\n",
      "major_discipline_Arts               0.000000\n",
      "major_discipline_Business Degree    0.000000\n",
      "major_discipline_Humanities         0.000000\n",
      "major_discipline_No Major           0.000000\n",
      "major_discipline_Other              0.000000\n",
      "major_discipline_STEM               0.000000\n",
      "company_type_Early Stage Startup    0.000000\n",
      "company_type_Funded Startup         0.000000\n",
      "company_type_NGO                    0.000000\n",
      "company_type_Other                  0.021336\n",
      "company_type_Public Sector          0.000000\n",
      "company_type_Pvt Ltd                0.000000\n",
      "dtype: float64\n"
     ]
    }
   ],
   "source": [
    "# Print the importance level of each feature using gini\n",
    "weights = model_dt.feature_importances_     # Feature importance scores.\n",
    "cols = X.columns                            # Corresponding names of important features.\n",
    "feature_importances = pd.Series(weights, index=cols)     # Generate Series containing importance level\n",
    "print(feature_importances)"
   ]
  },
  {
   "cell_type": "code",
   "execution_count": 41,
   "metadata": {
    "colab": {
     "base_uri": "https://localhost:8080/"
    },
    "id": "k7y3Fwsg6J1Q",
    "outputId": "eb901d8a-6144-4fa3-996f-e54d8cf1ff66"
   },
   "outputs": [
    {
     "data": {
      "text/plain": [
       "city_development_index    0.864943\n",
       "experience                0.052404\n",
       "last_new_job              0.043088\n",
       "company_type_Other        0.021336\n",
       "company_size              0.018229\n",
       "dtype: float64"
      ]
     },
     "execution_count": 41,
     "metadata": {},
     "output_type": "execute_result"
    }
   ],
   "source": [
    "# Five most important features \n",
    "feature_importances.nlargest(5)"
   ]
  },
  {
   "cell_type": "markdown",
   "metadata": {
    "id": "qtpV64-7MtTZ"
   },
   "source": [
    "### Entropy"
   ]
  },
  {
   "cell_type": "code",
   "execution_count": 42,
   "metadata": {
    "colab": {
     "base_uri": "https://localhost:8080/"
    },
    "id": "M4E1s_oeMkyZ",
    "outputId": "56709ba4-965f-4f6d-afa7-cd885f3fc0d3"
   },
   "outputs": [
    {
     "data": {
      "text/html": [
       "<style>#sk-container-id-3 {color: black;background-color: white;}#sk-container-id-3 pre{padding: 0;}#sk-container-id-3 div.sk-toggleable {background-color: white;}#sk-container-id-3 label.sk-toggleable__label {cursor: pointer;display: block;width: 100%;margin-bottom: 0;padding: 0.3em;box-sizing: border-box;text-align: center;}#sk-container-id-3 label.sk-toggleable__label-arrow:before {content: \"▸\";float: left;margin-right: 0.25em;color: #696969;}#sk-container-id-3 label.sk-toggleable__label-arrow:hover:before {color: black;}#sk-container-id-3 div.sk-estimator:hover label.sk-toggleable__label-arrow:before {color: black;}#sk-container-id-3 div.sk-toggleable__content {max-height: 0;max-width: 0;overflow: hidden;text-align: left;background-color: #f0f8ff;}#sk-container-id-3 div.sk-toggleable__content pre {margin: 0.2em;color: black;border-radius: 0.25em;background-color: #f0f8ff;}#sk-container-id-3 input.sk-toggleable__control:checked~div.sk-toggleable__content {max-height: 200px;max-width: 100%;overflow: auto;}#sk-container-id-3 input.sk-toggleable__control:checked~label.sk-toggleable__label-arrow:before {content: \"▾\";}#sk-container-id-3 div.sk-estimator input.sk-toggleable__control:checked~label.sk-toggleable__label {background-color: #d4ebff;}#sk-container-id-3 div.sk-label input.sk-toggleable__control:checked~label.sk-toggleable__label {background-color: #d4ebff;}#sk-container-id-3 input.sk-hidden--visually {border: 0;clip: rect(1px 1px 1px 1px);clip: rect(1px, 1px, 1px, 1px);height: 1px;margin: -1px;overflow: hidden;padding: 0;position: absolute;width: 1px;}#sk-container-id-3 div.sk-estimator {font-family: monospace;background-color: #f0f8ff;border: 1px dotted black;border-radius: 0.25em;box-sizing: border-box;margin-bottom: 0.5em;}#sk-container-id-3 div.sk-estimator:hover {background-color: #d4ebff;}#sk-container-id-3 div.sk-parallel-item::after {content: \"\";width: 100%;border-bottom: 1px solid gray;flex-grow: 1;}#sk-container-id-3 div.sk-label:hover label.sk-toggleable__label {background-color: #d4ebff;}#sk-container-id-3 div.sk-serial::before {content: \"\";position: absolute;border-left: 1px solid gray;box-sizing: border-box;top: 0;bottom: 0;left: 50%;z-index: 0;}#sk-container-id-3 div.sk-serial {display: flex;flex-direction: column;align-items: center;background-color: white;padding-right: 0.2em;padding-left: 0.2em;position: relative;}#sk-container-id-3 div.sk-item {position: relative;z-index: 1;}#sk-container-id-3 div.sk-parallel {display: flex;align-items: stretch;justify-content: center;background-color: white;position: relative;}#sk-container-id-3 div.sk-item::before, #sk-container-id-3 div.sk-parallel-item::before {content: \"\";position: absolute;border-left: 1px solid gray;box-sizing: border-box;top: 0;bottom: 0;left: 50%;z-index: -1;}#sk-container-id-3 div.sk-parallel-item {display: flex;flex-direction: column;z-index: 1;position: relative;background-color: white;}#sk-container-id-3 div.sk-parallel-item:first-child::after {align-self: flex-end;width: 50%;}#sk-container-id-3 div.sk-parallel-item:last-child::after {align-self: flex-start;width: 50%;}#sk-container-id-3 div.sk-parallel-item:only-child::after {width: 0;}#sk-container-id-3 div.sk-dashed-wrapped {border: 1px dashed gray;margin: 0 0.4em 0.5em 0.4em;box-sizing: border-box;padding-bottom: 0.4em;background-color: white;}#sk-container-id-3 div.sk-label label {font-family: monospace;font-weight: bold;display: inline-block;line-height: 1.2em;}#sk-container-id-3 div.sk-label-container {text-align: center;}#sk-container-id-3 div.sk-container {/* jupyter's `normalize.less` sets `[hidden] { display: none; }` but bootstrap.min.css set `[hidden] { display: none !important; }` so we also need the `!important` here to be able to override the default hidden behavior on the sphinx rendered scikit-learn.org. See: https://github.com/scikit-learn/scikit-learn/issues/21755 */display: inline-block !important;position: relative;}#sk-container-id-3 div.sk-text-repr-fallback {display: none;}</style><div id=\"sk-container-id-3\" class=\"sk-top-container\"><div class=\"sk-text-repr-fallback\"><pre>DecisionTreeClassifier(criterion=&#x27;entropy&#x27;, max_depth=7, max_leaf_nodes=16,\n",
       "                       min_samples_leaf=3, min_samples_split=4)</pre><b>In a Jupyter environment, please rerun this cell to show the HTML representation or trust the notebook. <br />On GitHub, the HTML representation is unable to render, please try loading this page with nbviewer.org.</b></div><div class=\"sk-container\" hidden><div class=\"sk-item\"><div class=\"sk-estimator sk-toggleable\"><input class=\"sk-toggleable__control sk-hidden--visually\" id=\"sk-estimator-id-3\" type=\"checkbox\" checked><label for=\"sk-estimator-id-3\" class=\"sk-toggleable__label sk-toggleable__label-arrow\">DecisionTreeClassifier</label><div class=\"sk-toggleable__content\"><pre>DecisionTreeClassifier(criterion=&#x27;entropy&#x27;, max_depth=7, max_leaf_nodes=16,\n",
       "                       min_samples_leaf=3, min_samples_split=4)</pre></div></div></div></div></div>"
      ],
      "text/plain": [
       "DecisionTreeClassifier(criterion='entropy', max_depth=7, max_leaf_nodes=16,\n",
       "                       min_samples_leaf=3, min_samples_split=4)"
      ]
     },
     "execution_count": 42,
     "metadata": {},
     "output_type": "execute_result"
    }
   ],
   "source": [
    "# Build a classification tree based on Entropy\n",
    "model_dt_entropy = DecisionTreeClassifier(criterion='entropy', max_depth=grid_search.best_params_['max_depth'], min_samples_leaf = grid_search.best_params_['min_samples_leaf'], max_leaf_nodes = grid_search.best_params_['max_leaf_nodes'], min_samples_split= grid_search.best_params_['min_samples_split'])\n",
    "model_dt_entropy.fit(X_train, y_train)"
   ]
  },
  {
   "cell_type": "code",
   "execution_count": 43,
   "metadata": {
    "colab": {
     "base_uri": "https://localhost:8080/"
    },
    "id": "9YtlthmaNWPA",
    "outputId": "e80f1bf2-4165-4b23-f47f-8119e28f611f"
   },
   "outputs": [
    {
     "name": "stdout",
     "output_type": "stream",
     "text": [
      "city_development_index              0.864943\n",
      "education_level                     0.000000\n",
      "experience                          0.052404\n",
      "company_size                        0.018229\n",
      "last_new_job                        0.043088\n",
      "training_hours                      0.000000\n",
      "gender                              0.000000\n",
      "relevent_experience                 0.000000\n",
      "enrolled_university                 0.000000\n",
      "major_discipline_Arts               0.000000\n",
      "major_discipline_Business Degree    0.000000\n",
      "major_discipline_Humanities         0.000000\n",
      "major_discipline_No Major           0.000000\n",
      "major_discipline_Other              0.000000\n",
      "major_discipline_STEM               0.000000\n",
      "company_type_Early Stage Startup    0.000000\n",
      "company_type_Funded Startup         0.000000\n",
      "company_type_NGO                    0.000000\n",
      "company_type_Other                  0.021336\n",
      "company_type_Public Sector          0.000000\n",
      "company_type_Pvt Ltd                0.000000\n",
      "dtype: float64\n"
     ]
    }
   ],
   "source": [
    "# Print the importance level of each feature using Entropy\n",
    "weights = model_dt_entropy.feature_importances_     # Feature importance scores.\n",
    "cols = X.columns                            # Corresponding names of important features.\n",
    "feature_importances_entropy = pd.Series(weights, index=cols)     # Generate Series containing importance level\n",
    "print(feature_importances)"
   ]
  },
  {
   "cell_type": "code",
   "execution_count": 44,
   "metadata": {
    "colab": {
     "base_uri": "https://localhost:8080/"
    },
    "id": "GBRDAqEENu_R",
    "outputId": "d27593bd-cca0-4ec8-b677-c30564826e93"
   },
   "outputs": [
    {
     "data": {
      "text/plain": [
       "city_development_index    0.834930\n",
       "experience                0.077682\n",
       "last_new_job              0.056865\n",
       "company_type_Other        0.018345\n",
       "company_size              0.012178\n",
       "dtype: float64"
      ]
     },
     "execution_count": 44,
     "metadata": {},
     "output_type": "execute_result"
    }
   ],
   "source": [
    "# Five most important features \n",
    "feature_importances_entropy.nlargest(5)"
   ]
  },
  {
   "cell_type": "markdown",
   "metadata": {
    "id": "SVFMaw98N6Ww"
   },
   "source": [
    "## Visualize"
   ]
  },
  {
   "cell_type": "markdown",
   "metadata": {
    "id": "mlzCOKu0ODhw"
   },
   "source": [
    "### Classification Tree using gini"
   ]
  },
  {
   "cell_type": "code",
   "execution_count": 45,
   "metadata": {
    "colab": {
     "base_uri": "https://localhost:8080/"
    },
    "id": "Dq979uX76VSA",
    "outputId": "35363b19-aaa4-4c7f-9a50-4c14ef74eee9"
   },
   "outputs": [
    {
     "ename": "FileNotFoundError",
     "evalue": "[WinError 2] The system cannot find the file specified",
     "output_type": "error",
     "traceback": [
      "\u001b[1;31m---------------------------------------------------------------------------\u001b[0m",
      "\u001b[1;31mFileNotFoundError\u001b[0m                         Traceback (most recent call last)",
      "Input \u001b[1;32mIn [45]\u001b[0m, in \u001b[0;36m<cell line: 5>\u001b[1;34m()\u001b[0m\n\u001b[0;32m      3\u001b[0m tree\u001b[38;5;241m.\u001b[39mexport_graphviz(decision_tree\u001b[38;5;241m=\u001b[39mmodel_dt, out_file\u001b[38;5;241m=\u001b[39m\u001b[38;5;124m'\u001b[39m\u001b[38;5;124mclassification-tree.dot\u001b[39m\u001b[38;5;124m'\u001b[39m, feature_names\u001b[38;5;241m=\u001b[39mX\u001b[38;5;241m.\u001b[39mcolumns)     \u001b[38;5;66;03m# Save model as 'classification-tree.dot'\u001b[39;00m\n\u001b[0;32m      4\u001b[0m \u001b[38;5;28;01mfrom\u001b[39;00m \u001b[38;5;21;01msubprocess\u001b[39;00m \u001b[38;5;28;01mimport\u001b[39;00m call\n\u001b[1;32m----> 5\u001b[0m \u001b[43mcall\u001b[49m\u001b[43m(\u001b[49m\u001b[43m[\u001b[49m\u001b[38;5;124;43m'\u001b[39;49m\u001b[38;5;124;43mdot\u001b[39;49m\u001b[38;5;124;43m'\u001b[39;49m\u001b[43m,\u001b[49m\u001b[43m \u001b[49m\u001b[38;5;124;43m'\u001b[39;49m\u001b[38;5;124;43m-Tpng\u001b[39;49m\u001b[38;5;124;43m'\u001b[39;49m\u001b[43m,\u001b[49m\u001b[43m \u001b[49m\u001b[38;5;124;43m'\u001b[39;49m\u001b[38;5;124;43mclassification-tree.dot\u001b[39;49m\u001b[38;5;124;43m'\u001b[39;49m\u001b[43m,\u001b[49m\u001b[43m \u001b[49m\u001b[38;5;124;43m'\u001b[39;49m\u001b[38;5;124;43m-o\u001b[39;49m\u001b[38;5;124;43m'\u001b[39;49m\u001b[43m,\u001b[49m\u001b[43m \u001b[49m\u001b[38;5;124;43m'\u001b[39;49m\u001b[38;5;124;43mclassification-tree.png\u001b[39;49m\u001b[38;5;124;43m'\u001b[39;49m\u001b[43m,\u001b[49m\u001b[43m \u001b[49m\u001b[38;5;124;43m'\u001b[39;49m\u001b[38;5;124;43m-Gdpi=300\u001b[39;49m\u001b[38;5;124;43m'\u001b[39;49m\u001b[43m]\u001b[49m\u001b[43m)\u001b[49m\n",
      "File \u001b[1;32m~\\miniconda3\\lib\\subprocess.py:349\u001b[0m, in \u001b[0;36mcall\u001b[1;34m(timeout, *popenargs, **kwargs)\u001b[0m\n\u001b[0;32m    341\u001b[0m \u001b[38;5;28;01mdef\u001b[39;00m \u001b[38;5;21mcall\u001b[39m(\u001b[38;5;241m*\u001b[39mpopenargs, timeout\u001b[38;5;241m=\u001b[39m\u001b[38;5;28;01mNone\u001b[39;00m, \u001b[38;5;241m*\u001b[39m\u001b[38;5;241m*\u001b[39mkwargs):\n\u001b[0;32m    342\u001b[0m     \u001b[38;5;124;03m\"\"\"Run command with arguments.  Wait for command to complete or\u001b[39;00m\n\u001b[0;32m    343\u001b[0m \u001b[38;5;124;03m    timeout, then return the returncode attribute.\u001b[39;00m\n\u001b[0;32m    344\u001b[0m \n\u001b[1;32m   (...)\u001b[0m\n\u001b[0;32m    347\u001b[0m \u001b[38;5;124;03m    retcode = call([\"ls\", \"-l\"])\u001b[39;00m\n\u001b[0;32m    348\u001b[0m \u001b[38;5;124;03m    \"\"\"\u001b[39;00m\n\u001b[1;32m--> 349\u001b[0m     \u001b[38;5;28;01mwith\u001b[39;00m Popen(\u001b[38;5;241m*\u001b[39mpopenargs, \u001b[38;5;241m*\u001b[39m\u001b[38;5;241m*\u001b[39mkwargs) \u001b[38;5;28;01mas\u001b[39;00m p:\n\u001b[0;32m    350\u001b[0m         \u001b[38;5;28;01mtry\u001b[39;00m:\n\u001b[0;32m    351\u001b[0m             \u001b[38;5;28;01mreturn\u001b[39;00m p\u001b[38;5;241m.\u001b[39mwait(timeout\u001b[38;5;241m=\u001b[39mtimeout)\n",
      "File \u001b[1;32m~\\miniconda3\\lib\\subprocess.py:951\u001b[0m, in \u001b[0;36mPopen.__init__\u001b[1;34m(self, args, bufsize, executable, stdin, stdout, stderr, preexec_fn, close_fds, shell, cwd, env, universal_newlines, startupinfo, creationflags, restore_signals, start_new_session, pass_fds, user, group, extra_groups, encoding, errors, text, umask)\u001b[0m\n\u001b[0;32m    947\u001b[0m         \u001b[38;5;28;01mif\u001b[39;00m \u001b[38;5;28mself\u001b[39m\u001b[38;5;241m.\u001b[39mtext_mode:\n\u001b[0;32m    948\u001b[0m             \u001b[38;5;28mself\u001b[39m\u001b[38;5;241m.\u001b[39mstderr \u001b[38;5;241m=\u001b[39m io\u001b[38;5;241m.\u001b[39mTextIOWrapper(\u001b[38;5;28mself\u001b[39m\u001b[38;5;241m.\u001b[39mstderr,\n\u001b[0;32m    949\u001b[0m                     encoding\u001b[38;5;241m=\u001b[39mencoding, errors\u001b[38;5;241m=\u001b[39merrors)\n\u001b[1;32m--> 951\u001b[0m     \u001b[38;5;28;43mself\u001b[39;49m\u001b[38;5;241;43m.\u001b[39;49m\u001b[43m_execute_child\u001b[49m\u001b[43m(\u001b[49m\u001b[43margs\u001b[49m\u001b[43m,\u001b[49m\u001b[43m \u001b[49m\u001b[43mexecutable\u001b[49m\u001b[43m,\u001b[49m\u001b[43m \u001b[49m\u001b[43mpreexec_fn\u001b[49m\u001b[43m,\u001b[49m\u001b[43m \u001b[49m\u001b[43mclose_fds\u001b[49m\u001b[43m,\u001b[49m\n\u001b[0;32m    952\u001b[0m \u001b[43m                        \u001b[49m\u001b[43mpass_fds\u001b[49m\u001b[43m,\u001b[49m\u001b[43m \u001b[49m\u001b[43mcwd\u001b[49m\u001b[43m,\u001b[49m\u001b[43m \u001b[49m\u001b[43menv\u001b[49m\u001b[43m,\u001b[49m\n\u001b[0;32m    953\u001b[0m \u001b[43m                        \u001b[49m\u001b[43mstartupinfo\u001b[49m\u001b[43m,\u001b[49m\u001b[43m \u001b[49m\u001b[43mcreationflags\u001b[49m\u001b[43m,\u001b[49m\u001b[43m \u001b[49m\u001b[43mshell\u001b[49m\u001b[43m,\u001b[49m\n\u001b[0;32m    954\u001b[0m \u001b[43m                        \u001b[49m\u001b[43mp2cread\u001b[49m\u001b[43m,\u001b[49m\u001b[43m \u001b[49m\u001b[43mp2cwrite\u001b[49m\u001b[43m,\u001b[49m\n\u001b[0;32m    955\u001b[0m \u001b[43m                        \u001b[49m\u001b[43mc2pread\u001b[49m\u001b[43m,\u001b[49m\u001b[43m \u001b[49m\u001b[43mc2pwrite\u001b[49m\u001b[43m,\u001b[49m\n\u001b[0;32m    956\u001b[0m \u001b[43m                        \u001b[49m\u001b[43merrread\u001b[49m\u001b[43m,\u001b[49m\u001b[43m \u001b[49m\u001b[43merrwrite\u001b[49m\u001b[43m,\u001b[49m\n\u001b[0;32m    957\u001b[0m \u001b[43m                        \u001b[49m\u001b[43mrestore_signals\u001b[49m\u001b[43m,\u001b[49m\n\u001b[0;32m    958\u001b[0m \u001b[43m                        \u001b[49m\u001b[43mgid\u001b[49m\u001b[43m,\u001b[49m\u001b[43m \u001b[49m\u001b[43mgids\u001b[49m\u001b[43m,\u001b[49m\u001b[43m \u001b[49m\u001b[43muid\u001b[49m\u001b[43m,\u001b[49m\u001b[43m \u001b[49m\u001b[43mumask\u001b[49m\u001b[43m,\u001b[49m\n\u001b[0;32m    959\u001b[0m \u001b[43m                        \u001b[49m\u001b[43mstart_new_session\u001b[49m\u001b[43m)\u001b[49m\n\u001b[0;32m    960\u001b[0m \u001b[38;5;28;01mexcept\u001b[39;00m:\n\u001b[0;32m    961\u001b[0m     \u001b[38;5;66;03m# Cleanup if the child failed starting.\u001b[39;00m\n\u001b[0;32m    962\u001b[0m     \u001b[38;5;28;01mfor\u001b[39;00m f \u001b[38;5;129;01min\u001b[39;00m \u001b[38;5;28mfilter\u001b[39m(\u001b[38;5;28;01mNone\u001b[39;00m, (\u001b[38;5;28mself\u001b[39m\u001b[38;5;241m.\u001b[39mstdin, \u001b[38;5;28mself\u001b[39m\u001b[38;5;241m.\u001b[39mstdout, \u001b[38;5;28mself\u001b[39m\u001b[38;5;241m.\u001b[39mstderr)):\n",
      "File \u001b[1;32m~\\miniconda3\\lib\\subprocess.py:1420\u001b[0m, in \u001b[0;36mPopen._execute_child\u001b[1;34m(self, args, executable, preexec_fn, close_fds, pass_fds, cwd, env, startupinfo, creationflags, shell, p2cread, p2cwrite, c2pread, c2pwrite, errread, errwrite, unused_restore_signals, unused_gid, unused_gids, unused_uid, unused_umask, unused_start_new_session)\u001b[0m\n\u001b[0;32m   1418\u001b[0m \u001b[38;5;66;03m# Start the process\u001b[39;00m\n\u001b[0;32m   1419\u001b[0m \u001b[38;5;28;01mtry\u001b[39;00m:\n\u001b[1;32m-> 1420\u001b[0m     hp, ht, pid, tid \u001b[38;5;241m=\u001b[39m \u001b[43m_winapi\u001b[49m\u001b[38;5;241;43m.\u001b[39;49m\u001b[43mCreateProcess\u001b[49m\u001b[43m(\u001b[49m\u001b[43mexecutable\u001b[49m\u001b[43m,\u001b[49m\u001b[43m \u001b[49m\u001b[43margs\u001b[49m\u001b[43m,\u001b[49m\n\u001b[0;32m   1421\u001b[0m \u001b[43m                             \u001b[49m\u001b[38;5;66;43;03m# no special security\u001b[39;49;00m\n\u001b[0;32m   1422\u001b[0m \u001b[43m                             \u001b[49m\u001b[38;5;28;43;01mNone\u001b[39;49;00m\u001b[43m,\u001b[49m\u001b[43m \u001b[49m\u001b[38;5;28;43;01mNone\u001b[39;49;00m\u001b[43m,\u001b[49m\n\u001b[0;32m   1423\u001b[0m \u001b[43m                             \u001b[49m\u001b[38;5;28;43mint\u001b[39;49m\u001b[43m(\u001b[49m\u001b[38;5;129;43;01mnot\u001b[39;49;00m\u001b[43m \u001b[49m\u001b[43mclose_fds\u001b[49m\u001b[43m)\u001b[49m\u001b[43m,\u001b[49m\n\u001b[0;32m   1424\u001b[0m \u001b[43m                             \u001b[49m\u001b[43mcreationflags\u001b[49m\u001b[43m,\u001b[49m\n\u001b[0;32m   1425\u001b[0m \u001b[43m                             \u001b[49m\u001b[43menv\u001b[49m\u001b[43m,\u001b[49m\n\u001b[0;32m   1426\u001b[0m \u001b[43m                             \u001b[49m\u001b[43mcwd\u001b[49m\u001b[43m,\u001b[49m\n\u001b[0;32m   1427\u001b[0m \u001b[43m                             \u001b[49m\u001b[43mstartupinfo\u001b[49m\u001b[43m)\u001b[49m\n\u001b[0;32m   1428\u001b[0m \u001b[38;5;28;01mfinally\u001b[39;00m:\n\u001b[0;32m   1429\u001b[0m     \u001b[38;5;66;03m# Child is launched. Close the parent's copy of those pipe\u001b[39;00m\n\u001b[0;32m   1430\u001b[0m     \u001b[38;5;66;03m# handles that only the child should have open.  You need\u001b[39;00m\n\u001b[1;32m   (...)\u001b[0m\n\u001b[0;32m   1433\u001b[0m     \u001b[38;5;66;03m# pipe will not close when the child process exits and the\u001b[39;00m\n\u001b[0;32m   1434\u001b[0m     \u001b[38;5;66;03m# ReadFile will hang.\u001b[39;00m\n\u001b[0;32m   1435\u001b[0m     \u001b[38;5;28mself\u001b[39m\u001b[38;5;241m.\u001b[39m_close_pipe_fds(p2cread, p2cwrite,\n\u001b[0;32m   1436\u001b[0m                          c2pread, c2pwrite,\n\u001b[0;32m   1437\u001b[0m                          errread, errwrite)\n",
      "\u001b[1;31mFileNotFoundError\u001b[0m: [WinError 2] The system cannot find the file specified"
     ]
    }
   ],
   "source": [
    "# Visualize the tree\n",
    "from sklearn import tree\n",
    "tree.export_graphviz(decision_tree=model_dt, out_file='classification-tree.dot', feature_names=X.columns)     # Save model as 'classification-tree.dot'\n",
    "from subprocess import call\n",
    "call(['dot', '-Tpng', 'classification-tree.dot', '-o', 'classification-tree.png', '-Gdpi=300'])        # Convert the model to an image"
   ]
  },
  {
   "cell_type": "code",
   "execution_count": null,
   "metadata": {
    "colab": {
     "base_uri": "https://localhost:8080/",
     "height": 1000
    },
    "id": "IJ7C2H_p6Xvv",
    "outputId": "ed2363a2-d350-4dbd-d5cc-83af3fe208a1"
   },
   "outputs": [],
   "source": [
    "from IPython.display import Image\n",
    "Image(filename = 'classification-tree.png')     # Load and display file 'classification-tree.png'"
   ]
  },
  {
   "cell_type": "markdown",
   "metadata": {
    "id": "XhS8ay2EOn_g"
   },
   "source": [
    "## Classification Tree using entropy"
   ]
  },
  {
   "cell_type": "code",
   "execution_count": null,
   "metadata": {
    "colab": {
     "base_uri": "https://localhost:8080/"
    },
    "id": "8IE9HEXmOcxI",
    "outputId": "1ed7a099-cd38-4403-b939-a30b709d06f7"
   },
   "outputs": [],
   "source": [
    "from sklearn import tree\n",
    "tree.export_graphviz(decision_tree=model_dt_entropy, out_file='classification-tree-entropy.dot', feature_names=X.columns)     # Save model as 'classification-tree-entropy.dot'\n",
    "from subprocess import call\n",
    "call(['dot', '-Tpng', 'classification-tree-entropy.dot', '-o', 'classification-tree-entropy.png', '-Gdpi=300'])        # Convert the model to an image"
   ]
  },
  {
   "cell_type": "code",
   "execution_count": null,
   "metadata": {
    "colab": {
     "base_uri": "https://localhost:8080/",
     "height": 1000
    },
    "id": "Eo_Nad5zO2QA",
    "outputId": "9ba3ca21-f20e-48bb-b06f-94ed60f9dead"
   },
   "outputs": [],
   "source": [
    "from IPython.display import Image\n",
    "Image(filename = 'classification-tree-entropy.png')     # Load and display file 'classification-tree.png'"
   ]
  },
  {
   "cell_type": "markdown",
   "metadata": {
    "id": "49PtqVLv9eJu"
   },
   "source": [
    "### Regression Tree"
   ]
  },
  {
   "cell_type": "code",
   "execution_count": null,
   "metadata": {
    "colab": {
     "base_uri": "https://localhost:8080/"
    },
    "id": "VWkm3zu19dHP",
    "outputId": "c15c3f67-f90f-4e72-bbb9-b8cbe1a43fbf"
   },
   "outputs": [],
   "source": [
    "# Initialize regression tree model\n",
    "model_dt_reg = tree.DecisionTreeRegressor(criterion='squared_error', max_depth=grid_search.best_params_['max_depth'], min_samples_split=grid_search.best_params_['min_samples_split'])\n",
    "model_dt_reg.fit(X_train, y_train)     "
   ]
  },
  {
   "cell_type": "code",
   "execution_count": null,
   "metadata": {
    "colab": {
     "base_uri": "https://localhost:8080/",
     "height": 231
    },
    "id": "jjPWy3i_9mmv",
    "outputId": "14e54296-b32b-4c8b-c806-7bae24e4724e"
   },
   "outputs": [],
   "source": [
    "# Visualize the regression tree model\n",
    "dot_data = tree.export_graphviz(decision_tree=model_dt_reg, out_file='regression-tree.dot', feature_names=X.columns)     # Save model as 'regression-tree.dot'\n",
    "call(['dot', '-Tpng', 'regression-tree.dot', '-o', 'regression-tree.png', '-Gdpi=300'])         # Convert the model to an image\n",
    "\n",
    "Image(filename = 'regression-tree.png')     # Load and display file 'regression-tree.png'\n"
   ]
  },
  {
   "cell_type": "markdown",
   "metadata": {
    "id": "uyePkpkLO-YB"
   },
   "source": [
    "# Try using dataset transforming all categorical features to one-hot encoding features"
   ]
  },
  {
   "cell_type": "code",
   "execution_count": null,
   "metadata": {
    "id": "cE1uv0zjW6yc"
   },
   "outputs": [],
   "source": [
    "data2= df.copy()  "
   ]
  },
  {
   "cell_type": "code",
   "execution_count": null,
   "metadata": {
    "id": "TN_hUKe5hjPQ"
   },
   "outputs": [],
   "source": [
    "data2.replace(['<1', 'never'], 0, inplace = True)\n",
    "data2.replace('>20', 21, inplace = True)\n",
    "data2.replace('>4', 5, inplace = True)\n",
    "\n",
    "data2['experience'] = data['experience'].astype(float)\n",
    "data2['last_new_job'] = data['last_new_job'].astype(float)"
   ]
  },
  {
   "cell_type": "code",
   "execution_count": null,
   "metadata": {
    "colab": {
     "base_uri": "https://localhost:8080/",
     "height": 505
    },
    "id": "y6uDen4JXeI0",
    "outputId": "2bc847e3-1321-45f0-937b-93b80b80ebbe"
   },
   "outputs": [],
   "source": [
    "data2 = pd.get_dummies(data2)\n",
    "data2"
   ]
  },
  {
   "cell_type": "code",
   "execution_count": null,
   "metadata": {
    "id": "Ei-SomcZM-xX"
   },
   "outputs": [],
   "source": [
    "# Drop the column 'target' because it is the data label\n",
    "X = data2.drop(columns=['target'])\n",
    "\n",
    "# Assign data label to to variable 'y'\n",
    "y = data2.target"
   ]
  },
  {
   "cell_type": "code",
   "execution_count": null,
   "metadata": {
    "id": "po8ldAj2VBys"
   },
   "outputs": [],
   "source": [
    "# Train/test split\n",
    "X_train, X_test, y_train, y_test = train_test_split(X.values, y.values, random_state=1, test_size=0.2)"
   ]
  },
  {
   "cell_type": "code",
   "execution_count": null,
   "metadata": {
    "colab": {
     "base_uri": "https://localhost:8080/"
    },
    "id": "93ATd5NzWhOE",
    "outputId": "fbbe2b0b-4add-416a-d887-3790c0aa6461"
   },
   "outputs": [],
   "source": [
    "# Train the decision tree model\n",
    "model_dt.fit(X_train, y_train)"
   ]
  },
  {
   "cell_type": "code",
   "execution_count": null,
   "metadata": {
    "colab": {
     "base_uri": "https://localhost:8080/"
    },
    "id": "0A50FjQrg1JQ",
    "outputId": "5de0f7b3-16ac-44da-b639-4429ca2ee12b"
   },
   "outputs": [],
   "source": [
    "# Calculate some evaluation metrics: precision, recall, f1-score. 'Support' is the number of actual occurrences of the class in the dataset.\n",
    "from sklearn.metrics import classification_report\n",
    "\n",
    "# Make prediction on the original test set (after training on the over-sampled training set).\n",
    "pred_y = model_dt.predict(X_test)\n",
    "\n",
    "print(classification_report(y_test, pred_y))\n",
    "\n",
    "# Note 1: macro avg = (precision_0 + precision_1) / 2\n",
    "# Note 2: weighted avg = (support_0 * precision_0 + support_1 * precision_1) / number_of_samples"
   ]
  }
 ],
 "metadata": {
  "colab": {
   "provenance": []
  },
  "kernelspec": {
   "display_name": "Python 3 (ipykernel)",
   "language": "python",
   "name": "python3"
  },
  "language_info": {
   "codemirror_mode": {
    "name": "ipython",
    "version": 3
   },
   "file_extension": ".py",
   "mimetype": "text/x-python",
   "name": "python",
   "nbconvert_exporter": "python",
   "pygments_lexer": "ipython3",
   "version": "3.9.12"
  }
 },
 "nbformat": 4,
 "nbformat_minor": 1
}
