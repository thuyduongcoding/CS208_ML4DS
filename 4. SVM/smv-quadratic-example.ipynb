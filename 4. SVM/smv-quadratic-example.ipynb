{
 "cells": [
  {
   "cell_type": "markdown",
   "id": "cd8d0bc8-2039-4c1b-8960-a72419243263",
   "metadata": {},
   "source": [
    "# Support Vector Machine (SVM) examples\n",
    "## Hard margin SVM with linear kernel"
   ]
  },
  {
   "cell_type": "code",
   "execution_count": 6,
   "id": "7ee09317-10a1-4407-835b-f804c1d61b0a",
   "metadata": {},
   "outputs": [],
   "source": [
    "# Import the libraries\n",
    "import numpy as np\n",
    "import matplotlib\n",
    "import matplotlib.pyplot as plt"
   ]
  },
  {
   "cell_type": "code",
   "execution_count": 7,
   "id": "e0f99b29-9c14-4e5a-b418-948c0e0da5b0",
   "metadata": {},
   "outputs": [
    {
     "data": {
      "image/png": "[encoded data removed]",
      "text/plain": [
       "<Figure size 432x432 with 1 Axes>"
      ]
     },
     "metadata": {
      "needs_background": "light"
     },
     "output_type": "display_data"
    }
   ],
   "source": [
    "### Data samples\n",
    "\n",
    "# Test 1 samples\n",
    "data_points = np.array([[1.,1.], [2.,2.]])\n",
    "data_labels = np.array([[1., -1.]])\n",
    "\n",
    "# Test 2 samples\n",
    "# data_points = np.array([[1.5,1.5], [2.7,1.7], [1.,1.], [2.,2.]]) # Test 2\n",
    "# data_labels = np.array([[1., -1., 1., -1.]])\n",
    "\n",
    "# Plot the points\n",
    "plt.figure(figsize=(6, 6))\n",
    "plt.scatter(data_points[:, 0], data_points[:, 1], s=200, c=data_labels.ravel(), alpha=0.5, edgecolors=\"black\")\n",
    "plt.xlim(0, 3) # Value range of x-axis \n",
    "plt.ylim(0, 3) # Value range of y-axis\n",
    "plt.show()"
   ]
  },
  {
   "cell_type": "markdown",
   "id": "7a57242c-a052-40c9-bbd2-8445041d30ab",
   "metadata": {},
   "source": [
    "## Solving quadratic program\n",
    "\n",
    "The standard form of convex quadratic program (reference https://pypi.org/project/qpsolvers/) is:\n",
    "\n",
    "\\begin{equation}\n",
    "\\begin{array}{rrclcl}\n",
    "\\displaystyle \\min_{x} & {\\frac{1}{2}x^{T}Px+q^Tx}\\\\\n",
    "\\textrm{such that} & Gx\\leq h\\\\\n",
    "&Ax=b    \\\\\n",
    "&lb\\leq x\\leq ub    \\\\\n",
    "\\end{array}\n",
    "\\end{equation}\n",
    "\n",
    "In case of SVM, the optimization function is:\n",
    "\n",
    "\\begin{equation}\n",
    "\\begin{array}{rrclcl}\n",
    "\\displaystyle \\max_{\\lambda} & \\sum_i{\\lambda_i}-{\\frac{1}{2}\\sum_i\\sum_j\\lambda_i\\lambda_j y_i y_j x^T_i x_j}\\\\\n",
    "\\textrm{such that} & \\lambda_i\\geq 0\\\\\n",
    "&\\sum_i \\lambda_i y_i = 0\\\\\n",
    "\\end{array}\n",
    "\\end{equation}\n",
    "\n",
    "\n",
    "which is equivalent to the standard form of the quadratic programming:\n",
    "\n",
    "\\begin{equation}\n",
    "\\begin{array}{rrclcl}\n",
    "\\displaystyle \\min_{\\lambda} & {-\\frac{1}{2}\\lambda^{T}P\\lambda+q^T\\lambda}\\\\\n",
    "\\textrm{such that} & -\\lambda\\leq 0\\\\\n",
    "&A\\lambda=0    \\\\\n",
    "\\end{array}\n",
    "\\end{equation}\n"
   ]
  },
  {
   "cell_type": "code",
   "execution_count": 8,
   "id": "6ddb3b18-04a5-4c1d-b99b-ac9a6fd2e52f",
   "metadata": {},
   "outputs": [
    {
     "name": "stdout",
     "output_type": "stream",
     "text": [
      "QP solution: lambdas = [1.00000009 1.00000009]\n",
      "Support vectors are points:  [0, 1]\n"
     ]
    }
   ],
   "source": [
    "# !pip install qpsolvers\n",
    "\n",
    "# Load quadratic programming library\n",
    "from qpsolvers import solve_qp\n",
    "\n",
    "# Set up the training samples\n",
    "X = data_points\n",
    "y = data_labels\n",
    "n = X.shape[0] # Number of data samples\n",
    "\n",
    "# Convert the SVM dual form to quadratic programming standard form\n",
    "P = np.dot(y.T,y)*np.dot(X,X.T) # Part of the SVM optimization function\n",
    "q = np.ones((n, 1))*(-1) # Part of the SVM optimization function\n",
    "G = np.eye(n)*(-1) # Constraint: Gx<=h\n",
    "h = np.zeros(n) # Constraint: Gx<=h\n",
    "A = y.reshape(1, -1) # Constraint: Ax=b\n",
    "b = np.zeros(1) # # Constraint: Ax=b\n",
    "\n",
    "# Use Convex Optimization ('cvxopt') to solve the quadratic optimization function\n",
    "lambdas = solve_qp(P, q, G, h, A, b, solver=\"cvxopt\")\n",
    "print(\"QP solution: lambdas =\", lambdas)\n",
    "\n",
    "# Get indices of support vectors whose lambdas are > 1e-3\n",
    "support_vectors = [i for i in range(n) if lambdas[i] > 1e-3]\n",
    "print(\"Support vectors are points: \", support_vectors)"
   ]
  },
  {
   "cell_type": "code",
   "execution_count": 9,
   "id": "a72d1565-77eb-4a2a-9245-9f217f3470d7",
   "metadata": {},
   "outputs": [
    {
     "name": "stdout",
     "output_type": "stream",
     "text": [
      "w =  [[-1.00000009 -1.00000009]]\n",
      "b =  3.000000266552432\n"
     ]
    }
   ],
   "source": [
    "# Then calculate w and b\n",
    "w = np.matmul((lambdas.T*y), X)\n",
    "\n",
    "# b can be calculated by using any support vectors. They result in roughly the same value of b. Hence, just take the average of them. \n",
    "b = np.mean(1/y[0][support_vectors]-np.matmul(w,X[support_vectors].T))\n",
    "\n",
    "print(\"w = \", w)\n",
    "print(\"b = \", b)"
   ]
  },
  {
   "cell_type": "code",
   "execution_count": 10,
   "id": "7ba407fe-262f-452f-bdeb-d7fa7462e6c1",
   "metadata": {},
   "outputs": [
    {
     "data": {
      "image/png": "[encoded data removed]",
      "text/plain": [
       "<Figure size 432x432 with 1 Axes>"
      ]
     },
     "metadata": {
      "needs_background": "light"
     },
     "output_type": "display_data"
    }
   ],
   "source": [
    "# Plot the boundary and the margins\n",
    "\n",
    "# Plot the points\n",
    "plt.figure(figsize=(6, 6))\n",
    "plt.scatter(data_points[:, 0], data_points[:, 1], s=200, c=y.ravel(), alpha=0.5, edgecolors=\"black\")\n",
    "plt.xlim(0, 3) # Value range of x-axis \n",
    "plt.ylim(0, 3) # Value range of y-axis\n",
    "\n",
    "# Plot the lines\n",
    "a = -w[0][0]/w[0][1] # Slope of the boundary. Note that w0*x0+w1*x1+b=0-->x2=-(w0/w1)*x0-b/w0\n",
    "points_x = np.linspace(0, 3) # Points on x-axis\n",
    "points_y = a*points_x - b/w[0][1] # Points of the boundary on the y-axis\n",
    "margin = 1 / np.sqrt(np.sum(w**2)) # 2-side margin width =  M = 2/||w||^2, so one-side margin (half of the 2-side) is M/2 = 1/||w||^2\n",
    "points_y_neg = points_y - np.sqrt(1 + a**2) * margin # Corresponding points on the negative margin. Ref https://en.wikipedia.org/wiki/Distance_between_two_parallel_lines\n",
    "points_y_pos = points_y + np.sqrt(1 + a**2) * margin # Corresponding points on the positive margin.\n",
    "plt.plot(points_x, points_y.reshape(-1), \"b-\") # Plot the boundary\n",
    "plt.plot(points_x, points_y_neg.reshape(-1), \"m--\") # Plot the negative margin\n",
    "plt.plot(points_x, points_y_pos.reshape(-1), \"m--\") # Plot the positive margin\n",
    "plt.show()"
   ]
  },
  {
   "cell_type": "code",
   "execution_count": null,
   "id": "3fb39656-28ff-466c-a3ce-dd0135575144",
   "metadata": {},
   "outputs": [],
   "source": []
  }
 ],
 "metadata": {
  "kernelspec": {
   "display_name": "Python 3 (ipykernel)",
   "language": "python",
   "name": "python3"
  },
  "language_info": {
   "codemirror_mode": {
    "name": "ipython",
    "version": 3
   },
   "file_extension": ".py",
   "mimetype": "text/x-python",
   "name": "python",
   "nbconvert_exporter": "python",
   "pygments_lexer": "ipython3",
   "version": "3.9.12"
  }
 },
 "nbformat": 4,
 "nbformat_minor": 5
}
