{
 "cells": [
  {
   "cell_type": "markdown",
   "metadata": {
    "id": "reXlp2wVTo-I"
   },
   "source": [
    "# Building a Deep Neural Network to solve MNIST classification problem"
   ]
  },
  {
   "cell_type": "markdown",
   "metadata": {
    "id": "fwlEKcyCT6Zt"
   },
   "source": [
    "MNIST dataset (https://www.tensorflow.org/datasets/catalog/mnist) consists of 70,000 black-white images of the size 28x28x1 and in 10 classes which are hand-written digits. There are 60,000 training images and 10,000 test images.\n",
    "\n",
    "Here follows some data samples in the dataset:\n",
    "\n",
    "![alt text](https://storage.googleapis.com/tfds-data/visualization/fig/mnist-3.0.1.png)"
   ]
  },
  {
   "cell_type": "code",
   "execution_count": 83,
   "metadata": {
    "id": "Gh1ZVWaBTUxH"
   },
   "outputs": [],
   "source": [
    "# Import libraries\n",
    "import numpy as np\n",
    "import tensorflow as tf\n",
    "import keras              # Keras is the high-level API of TensorFlow"
   ]
  },
  {
   "cell_type": "code",
   "execution_count": 84,
   "metadata": {
    "colab": {
     "base_uri": "https://localhost:8080/"
    },
    "id": "ChmmXQ3wTgUs",
    "outputId": "5f0f1665-a5e0-44b5-b688-5622cde3c82e"
   },
   "outputs": [
    {
     "name": "stdout",
     "output_type": "stream",
     "text": [
      "Train shape: X_train = (60000, 28, 28), y_train = (60000,)\n",
      "Test shape: X_test = (10000, 28, 28), y_test = (10000,)\n"
     ]
    }
   ],
   "source": [
    "# Load the cifar10 dataset and split train/test\n",
    "(X_train, y_train), (X_test, y_test) = tf.keras.datasets.mnist.load_data()\n",
    "\n",
    "print(\"Train shape: X_train = \" + str(X_train.shape) + \", y_train = \" + str(y_train.shape))\n",
    "print(\"Test shape: X_test = \" + str(X_test.shape) + \", y_test = \" + str(y_test.shape))"
   ]
  },
  {
   "cell_type": "code",
   "execution_count": 85,
   "metadata": {
    "colab": {
     "base_uri": "https://localhost:8080/",
     "height": 513
    },
    "id": "T7K3BNmRUSy1",
    "outputId": "baf32ab0-296c-481d-f911-1957d6b2d235"
   },
   "outputs": [
    {
     "data": {
      "image/png": "[encoded data removed]",
      "text/plain": [
       "<Figure size 432x288 with 1 Axes>"
      ]
     },
     "metadata": {
      "needs_background": "light"
     },
     "output_type": "display_data"
    },
    {
     "data": {
      "image/png": "[encoded data removed]",
      "text/plain": [
       "<Figure size 432x288 with 1 Axes>"
      ]
     },
     "metadata": {
      "needs_background": "light"
     },
     "output_type": "display_data"
    }
   ],
   "source": [
    "# Show some samples in the dataset\n",
    "import matplotlib.pyplot as plt\n",
    "imgplot = plt.imshow(X_train[5])\n",
    "plt.show()\n",
    "imgplot = plt.imshow(X_test[10])\n",
    "plt.show()"
   ]
  },
  {
   "cell_type": "code",
   "execution_count": 86,
   "metadata": {
    "colab": {
     "base_uri": "https://localhost:8080/"
    },
    "id": "619lpoesBSdc",
    "outputId": "36a6cfe0-1d0f-49b4-a2f0-abd65db02f4b"
   },
   "outputs": [
    {
     "name": "stdout",
     "output_type": "stream",
     "text": [
      "Train shape: X_train = (54000, 28, 28), y_train = (54000,)\n",
      "Val shape: X_val = (6000, 28, 28), y_val = (6000,)\n",
      "Test shape: X_test = (10000, 28, 28), y_test = (10000,)\n"
     ]
    }
   ],
   "source": [
    "# Split train/valid from the training set\n",
    "from sklearn.model_selection import train_test_split\n",
    "X_train, X_val, y_train, y_val = train_test_split(X_train, y_train, test_size=0.1, random_state=5)\n",
    "\n",
    "print(\"Train shape: X_train = \" + str(X_train.shape) + \", y_train = \" + str(y_train.shape))\n",
    "print(\"Val shape: X_val = \" + str(X_val.shape) + \", y_val = \" + str(y_val.shape))\n",
    "print(\"Test shape: X_test = \" + str(X_test.shape) + \", y_test = \" + str(y_test.shape))"
   ]
  },
  {
   "cell_type": "code",
   "execution_count": 87,
   "metadata": {
    "colab": {
     "base_uri": "https://localhost:8080/",
     "height": 1000
    },
    "id": "0fFHlNybofZi",
    "outputId": "f64fb067-6f1a-4828-afc4-24743520b2c4"
   },
   "outputs": [
    {
     "name": "stdout",
     "output_type": "stream",
     "text": [
      "Label: 1\n",
      "Pixel values: [[  0   0   0   0   0   0   0   0   0   0   0   0   0   0   0   0   0   0\n",
      "    0   0   0   0   0   0   0   0   0   0]\n",
      " [  0   0   0   0   0   0   0   0   0   0   0   0   0   0   0   0   0   0\n",
      "    0   0   0   0   0   0   0   0   0   0]\n",
      " [  0   0   0   0   0   0   0   0   0   0   0   0   0   0   0   0   0   0\n",
      "    0   0   0   0   0   0   0   0   0   0]\n",
      " [  0   0   0   0   0   0   0   0   0   0   0   0   0   0   0   0   0   0\n",
      "    0   0   0   0   0   0   0   0   0   0]\n",
      " [  0   0   0   0   0   0   0   0   0   0   0   0   0   0   0   0   0   0\n",
      "    0   0   0   0   0   0   0   0   0   0]\n",
      " [  0   0   0   0   0   0   0   0   0   0   0   0 173 253 234  30   0   0\n",
      "    0   0   0   0   0   0   0   0   0   0]\n",
      " [  0   0   0   0   0   0   0   0   0   0   0   0 253 252 253  50   0   0\n",
      "    0   0   0   0   0   0   0   0   0   0]\n",
      " [  0   0   0   0   0   0   0   0   0   0   0 102 254 253 254  50   0   0\n",
      "    0   0   0   0   0   0   0   0   0   0]\n",
      " [  0   0   0   0   0   0   0   0   0   0   0 102 253 252 253  91   0   0\n",
      "    0   0   0   0   0   0   0   0   0   0]\n",
      " [  0   0   0   0   0   0   0   0   0   0   0   0 152 253 254 131   0   0\n",
      "    0   0   0   0   0   0   0   0   0   0]\n",
      " [  0   0   0   0   0   0   0   0   0   0   0   0 152 252 253  91   0   0\n",
      "    0   0   0   0   0   0   0   0   0   0]\n",
      " [  0   0   0   0   0   0   0   0   0   0   0   0 132 253 254 151   0   0\n",
      "    0   0   0   0   0   0   0   0   0   0]\n",
      " [  0   0   0   0   0   0   0   0   0   0   0   0  51 252 253 151   0   0\n",
      "    0   0   0   0   0   0   0   0   0   0]\n",
      " [  0   0   0   0   0   0   0   0   0   0   0   0  51 253 254 213   0   0\n",
      "    0   0   0   0   0   0   0   0   0   0]\n",
      " [  0   0   0   0   0   0   0   0   0   0   0   0  51 252 253 252   0   0\n",
      "    0   0   0   0   0   0   0   0   0   0]\n",
      " [  0   0   0   0   0   0   0   0   0   0   0   0  51 253 254 253   0   0\n",
      "    0   0   0   0   0   0   0   0   0   0]\n",
      " [  0   0   0   0   0   0   0   0   0   0   0   0  31 232 253 252   0   0\n",
      "    0   0   0   0   0   0   0   0   0   0]\n",
      " [  0   0   0   0   0   0   0   0   0   0   0   0   0 203 254 253 102   0\n",
      "    0   0   0   0   0   0   0   0   0   0]\n",
      " [  0   0   0   0   0   0   0   0   0   0   0   0   0 203 253 252 102   0\n",
      "    0   0   0   0   0   0   0   0   0   0]\n",
      " [  0   0   0   0   0   0   0   0   0   0   0   0   0 203 254 253 102   0\n",
      "    0   0   0   0   0   0   0   0   0   0]\n",
      " [  0   0   0   0   0   0   0   0   0   0   0   0   0 122 253 252 102   0\n",
      "    0   0   0   0   0   0   0   0   0   0]\n",
      " [  0   0   0   0   0   0   0   0   0   0   0   0  11 132 255 253 103   0\n",
      "    0   0   0   0   0   0   0   0   0   0]\n",
      " [  0   0   0   0   0   0   0   0   0   0   0   0  51 252 253 252 102   0\n",
      "    0   0   0   0   0   0   0   0   0   0]\n",
      " [  0   0   0   0   0   0   0   0   0   0   0   0  21 203 255 253 103   0\n",
      "    0   0   0   0   0   0   0   0   0   0]\n",
      " [  0   0   0   0   0   0   0   0   0   0   0   0   0  61 253 252  61   0\n",
      "    0   0   0   0   0   0   0   0   0   0]\n",
      " [  0   0   0   0   0   0   0   0   0   0   0   0   0   0   0   0   0   0\n",
      "    0   0   0   0   0   0   0   0   0   0]\n",
      " [  0   0   0   0   0   0   0   0   0   0   0   0   0   0   0   0   0   0\n",
      "    0   0   0   0   0   0   0   0   0   0]\n",
      " [  0   0   0   0   0   0   0   0   0   0   0   0   0   0   0   0   0   0\n",
      "    0   0   0   0   0   0   0   0   0   0]]\n"
     ]
    },
    {
     "data": {
      "image/png": "[encoded data removed]",
      "text/plain": [
       "<Figure size 432x288 with 1 Axes>"
      ]
     },
     "metadata": {
      "needs_background": "light"
     },
     "output_type": "display_data"
    }
   ],
   "source": [
    "# Show label and pixel values of an image\n",
    "print(\"Label:\", y_train[0])\n",
    "print(\"Pixel values:\", X_train[0])\n",
    "\n",
    "# Show the image\n",
    "imgplot = plt.imshow(X_train[0])\n",
    "plt.show()"
   ]
  },
  {
   "cell_type": "code",
   "execution_count": 88,
   "metadata": {
    "id": "A0OY2r0FopQm"
   },
   "outputs": [],
   "source": [
    "# Normalize pixel values\n",
    "X_train_norm, X_val_norm, X_test_norm = X_train/255.0, X_val/255.0, X_test/255.0"
   ]
  },
  {
   "cell_type": "markdown",
   "metadata": {
    "id": "WIt2QhyB1T8G"
   },
   "source": [
    "# Solution by using Logistic Regression"
   ]
  },
  {
   "cell_type": "code",
   "execution_count": 89,
   "metadata": {
    "id": "m08kaBQ91_20"
   },
   "outputs": [],
   "source": [
    "### Convert 3D data tensors (batch, width, height) to 2D data tensors (batch, width * height) for training, validation and testing purpose.\n",
    "# Note: The scikit-learn LogisticRegression requires 2D tensors as input, whereas Tensorflow DNN requires 3D tensors as input.\n",
    "\n",
    "# Get batch size\n",
    "num_train_samples = X_train_norm.shape[0]\n",
    "num_val_samples = X_val_norm.shape[0]\n",
    "num_test_samples = X_test_norm.shape[0]\n",
    "\n",
    "# Get width and height\n",
    "img_width = X_train_norm.shape[1]\n",
    "img_height = X_train_norm.shape[2]\n",
    "\n",
    "# Convert from 3D tensors to 2D tensors\n",
    "X_train_norm_2D = X_train_norm.reshape(num_train_samples, img_width * img_height)\n",
    "X_val_norm_2D = X_val_norm.reshape(num_val_samples, img_width * img_height)\n",
    "X_test_norm_2D = X_test_norm.reshape(num_test_samples, img_width * img_height)"
   ]
  },
  {
   "cell_type": "code",
   "execution_count": 90,
   "metadata": {
    "colab": {
     "base_uri": "https://localhost:8080/"
    },
    "id": "pHyv1p8k1zRY",
    "outputId": "e20192fd-48a7-480c-c928-66f672063d6b"
   },
   "outputs": [
    {
     "name": "stderr",
     "output_type": "stream",
     "text": [
      "/usr/local/lib/python3.7/dist-packages/sklearn/linear_model/_logistic.py:818: ConvergenceWarning: lbfgs failed to converge (status=1):\n",
      "STOP: TOTAL NO. of ITERATIONS REACHED LIMIT.\n",
      "\n",
      "Increase the number of iterations (max_iter) or scale the data as shown in:\n",
      "    https://scikit-learn.org/stable/modules/preprocessing.html\n",
      "Please also refer to the documentation for alternative solver options:\n",
      "    https://scikit-learn.org/stable/modules/linear_model.html#logistic-regression\n",
      "  extra_warning_msg=_LOGISTIC_SOLVER_CONVERGENCE_MSG,\n"
     ]
    },
    {
     "data": {
      "text/plain": [
       "LogisticRegression()"
      ]
     },
     "execution_count": 90,
     "metadata": {},
     "output_type": "execute_result"
    }
   ],
   "source": [
    "# Initialize the Logistic Regression model\n",
    "from sklearn.linear_model import LogisticRegression\n",
    "logistic_model = LogisticRegression(max_iter=100)           # Initialize Logistic Regression model\n",
    "logistic_model.fit(X_train_norm_2D, y_train)                # Train the model\n",
    "\n",
    "# Note: there is a ConvergenceWarning because the training set is too big for Logistic Regression."
   ]
  },
  {
   "cell_type": "code",
   "execution_count": 91,
   "metadata": {
    "colab": {
     "base_uri": "https://localhost:8080/"
    },
    "id": "iWgLLF-SMqRZ",
    "outputId": "78f83350-9305-405e-e361-7f3310094b82"
   },
   "outputs": [
    {
     "data": {
      "text/plain": [
       "array([7, 2, 1, ..., 4, 5, 6], dtype=uint8)"
      ]
     },
     "execution_count": 91,
     "metadata": {},
     "output_type": "execute_result"
    }
   ],
   "source": [
    "# Show prediction results\n",
    "logistic_model.predict(X_test_norm_2D)"
   ]
  },
  {
   "cell_type": "code",
   "execution_count": 92,
   "metadata": {
    "colab": {
     "base_uri": "https://localhost:8080/"
    },
    "id": "35tW_5WWNapQ",
    "outputId": "03241a9a-63b2-4e90-963a-3798b3de8a08"
   },
   "outputs": [
    {
     "name": "stdout",
     "output_type": "stream",
     "text": [
      "Accuracy: 0.9255\n"
     ]
    }
   ],
   "source": [
    "# Evaluation the model accuracy\n",
    "from sklearn.metrics import accuracy_score\n",
    "print(\"Accuracy:\", accuracy_score(y_test, logistic_model.predict(X_test_norm_2D)))"
   ]
  },
  {
   "cell_type": "markdown",
   "metadata": {
    "id": "dlt8V7vFCeIg"
   },
   "source": [
    "# Solution by using a Deep Neural Network"
   ]
  },
  {
   "cell_type": "code",
   "execution_count": 93,
   "metadata": {
    "colab": {
     "base_uri": "https://localhost:8080/"
    },
    "id": "G-h7ZzZN_zgi",
    "outputId": "5ca4f38f-44d3-4b4e-94c7-89126b80d3b2"
   },
   "outputs": [
    {
     "name": "stdout",
     "output_type": "stream",
     "text": [
      "Model: \"sequential_7\"\n",
      "_________________________________________________________________\n",
      " Layer (type)                Output Shape              Param #   \n",
      "=================================================================\n",
      " conv2d_7 (Conv2D)           (None, 28, 28, 32)        320       \n",
      "                                                                 \n",
      " max_pooling2d_6 (MaxPooling  (None, 14, 14, 32)       0         \n",
      " 2D)                                                             \n",
      "                                                                 \n",
      " flatten_7 (Flatten)         (None, 6272)              0         \n",
      "                                                                 \n",
      " dense_14 (Dense)            (None, 100)               627300    \n",
      "                                                                 \n",
      " dense_15 (Dense)            (None, 10)                1010      \n",
      "                                                                 \n",
      "=================================================================\n",
      "Total params: 628,630\n",
      "Trainable params: 628,630\n",
      "Non-trainable params: 0\n",
      "_________________________________________________________________\n"
     ]
    }
   ],
   "source": [
    "# Import libraries\n",
    "from keras.models import Sequential\n",
    "from keras.layers import Conv2D, Dense, MaxPooling2D, Flatten\n",
    "\n",
    "# Initialize dnn_model as an Sequential model.\n",
    "# A Sequential model is appropriate for a plain stack of layers where each layer has exactly one input tensor and one output tensor.\n",
    "dnn_model = Sequential() # Initialize a sequential model.\n",
    "dnn_model.add(Conv2D(filters=32, input_shape=(28, 28, 1), kernel_size=(3,3), activation='relu', padding='same')) # Add 2D Convolutional layer\n",
    "dnn_model.add(MaxPooling2D((2, 2))) # Add Max Pooling layer\n",
    "dnn_model.add(Flatten()) # Flatten the vector to 1D\n",
    "dnn_model.add(Dense(100, activation='relu')) # Add FC layer and Relu activation\n",
    "dnn_model.add(Dense(10, activation='softmax')) # Add FC layer and Softmax activation for classification\n",
    "\n",
    "#Model Summary\n",
    "dnn_model.summary()"
   ]
  },
  {
   "cell_type": "markdown",
   "metadata": {
    "id": "dqSfXCrhyuiG"
   },
   "source": [
    "# Train and validate the model"
   ]
  },
  {
   "cell_type": "code",
   "execution_count": 94,
   "metadata": {
    "colab": {
     "base_uri": "https://localhost:8080/"
    },
    "id": "WqPbRbwXAsLs",
    "outputId": "aeda6308-cdba-4fc5-dea5-adfe19981f55"
   },
   "outputs": [
    {
     "name": "stdout",
     "output_type": "stream",
     "text": [
      "Epoch 1/10\n",
      "53/53 [==============================] - 1s 19ms/step - loss: 0.3860 - accuracy: 0.8801 - val_loss: 0.0998 - val_accuracy: 0.9693\n",
      "Epoch 2/10\n",
      "53/53 [==============================] - 1s 16ms/step - loss: 0.0728 - accuracy: 0.9781 - val_loss: 0.0691 - val_accuracy: 0.9800\n",
      "Epoch 3/10\n",
      "53/53 [==============================] - 1s 15ms/step - loss: 0.0453 - accuracy: 0.9862 - val_loss: 0.0525 - val_accuracy: 0.9853\n",
      "Epoch 4/10\n",
      "53/53 [==============================] - 1s 15ms/step - loss: 0.0311 - accuracy: 0.9908 - val_loss: 0.0491 - val_accuracy: 0.9863\n",
      "Epoch 5/10\n",
      "53/53 [==============================] - 1s 15ms/step - loss: 0.0220 - accuracy: 0.9929 - val_loss: 0.0453 - val_accuracy: 0.9883\n",
      "Epoch 6/10\n",
      "53/53 [==============================] - 1s 15ms/step - loss: 0.0169 - accuracy: 0.9946 - val_loss: 0.0489 - val_accuracy: 0.9870\n",
      "Epoch 7/10\n",
      "53/53 [==============================] - 1s 15ms/step - loss: 0.0129 - accuracy: 0.9959 - val_loss: 0.0483 - val_accuracy: 0.9887\n",
      "Epoch 8/10\n",
      "53/53 [==============================] - 1s 15ms/step - loss: 0.0097 - accuracy: 0.9970 - val_loss: 0.0568 - val_accuracy: 0.9862\n",
      "Epoch 9/10\n",
      "53/53 [==============================] - 1s 15ms/step - loss: 0.0078 - accuracy: 0.9977 - val_loss: 0.0508 - val_accuracy: 0.9877\n",
      "Epoch 10/10\n",
      "53/53 [==============================] - 1s 16ms/step - loss: 0.0053 - accuracy: 0.9984 - val_loss: 0.0546 - val_accuracy: 0.9873\n"
     ]
    }
   ],
   "source": [
    "# Compile the model\n",
    "dnn_model.compile(loss = tf.keras.losses.sparse_categorical_crossentropy, # Define loss function\n",
    "                optimizer= tf.keras.optimizers.Adam(learning_rate=1e-2), metrics=['accuracy']) # Define initial learning rate and metrics.\n",
    "\n",
    "# Train the model. Using Colab for training\n",
    "history = dnn_model.fit(X_train_norm, y_train, # Data feature and data label\n",
    "                    batch_size=1024, # Batch size\n",
    "                    epochs=10, # Number of training epochs\n",
    "                    validation_data=(X_val_norm, y_val)) # Validation set"
   ]
  },
  {
   "cell_type": "markdown",
   "metadata": {
    "id": "GdxPI2KxrXSE"
   },
   "source": [
    "There are three popular losses for a classification problem: binary_crossentropy, categorical_crossentropy and sparse_categorical_crossentropy.\n",
    "* The `binary_crossentropy` is used in binary classification tasks. The loss function is:\n",
    "<center>\n",
    "$J = -ylog(\\hat{y})-(1-y)log(1-\\hat{y})$\n",
    "</center>\n",
    "\n",
    "* The `categorical_crossentropy` requires one-hot encoding label. The loss function is:\n",
    "<center>\n",
    "$J=-\\displaystyle\\sum_{i=1}^{N}y_ilog(\\hat{y}_i)$\n",
    "</center>\n",
    "\n",
    "* The `sparse_categorical_crossentropy` requires integer label. This is called sparse since the label representation requires much less space than one-hot encoding. The sparse_categorical_crossentropy works on integers and these integers must be the class indices, not actual values. This loss computes logarithm only for output index which ground truth indicates to. For instance, when model output is [0.1, 0.3, 0.7] and ground truth is 3 (if indexed from 1) then loss compute only logarithm of 0.7. Therefore, the loss function now is:\n",
    "<center>\n",
    "$J=-log(\\hat{y}_i)$\n",
    "</center>"
   ]
  },
  {
   "cell_type": "code",
   "execution_count": 95,
   "metadata": {
    "colab": {
     "base_uri": "https://localhost:8080/",
     "height": 285
    },
    "id": "4ynctBjeFdid",
    "outputId": "b4f5d152-9b9d-4f11-fdb3-db435efc2667"
   },
   "outputs": [
    {
     "data": {
      "text/plain": [
       "<matplotlib.legend.Legend at 0x7fee950c65d0>"
      ]
     },
     "execution_count": 95,
     "metadata": {},
     "output_type": "execute_result"
    },
    {
     "data": {
      "image/png": "[encoded data removed]",
      "text/plain": [
       "<Figure size 432x288 with 2 Axes>"
      ]
     },
     "metadata": {
      "needs_background": "light"
     },
     "output_type": "display_data"
    }
   ],
   "source": [
    "# Visualize training and validation performance\n",
    "f,ax=plt.subplots(2,1) \n",
    "\n",
    "# Plot training and validation loss\n",
    "ax[0].plot(history.history['loss'], color='b',label='Training Loss')\n",
    "ax[0].plot(history.history['val_loss'],color='r',label='Validation Loss')\n",
    "\n",
    "# Plot training and validation accuracy\n",
    "ax[1].plot(history.history['accuracy'],color='b',label='Training Accuracy')\n",
    "ax[1].plot(history.history['val_accuracy'],color='r',label='Validation Accuracy')\n",
    "\n",
    "plt.legend()"
   ]
  },
  {
   "cell_type": "code",
   "execution_count": 96,
   "metadata": {
    "colab": {
     "base_uri": "https://localhost:8080/"
    },
    "id": "uS0lGOs0Oeav",
    "outputId": "3ae169d0-ede0-4767-f4af-3b89a07655e7"
   },
   "outputs": [
    {
     "name": "stdout",
     "output_type": "stream",
     "text": [
      "313/313 [==============================] - 1s 2ms/step - loss: 0.0599 - accuracy: 0.9844\n",
      "['loss', 'accuracy']\n",
      "Loss and accuracy on the test set: loss = 0.05994874984025955, accuracy = 0.9843999743461609\n"
     ]
    }
   ],
   "source": [
    "# Show the model performance\n",
    "result = dnn_model.evaluate(X_test_norm, y_test) # If unspecified, batch_size will default to 32\n",
    "print(dnn_model.metrics_names) # result[0] is loss, result[1] is accuracy. The metrics are defined in dnn_model.complie(...)\n",
    "print(\"Loss and accuracy on the test set: loss = {}, accuracy = {}\".format(result[0],result[1]))"
   ]
  },
  {
   "cell_type": "code",
   "execution_count": 96,
   "metadata": {
    "id": "nb0gb_IsO9SH"
   },
   "outputs": [],
   "source": []
  }
 ],
 "metadata": {
  "accelerator": "GPU",
  "colab": {
   "collapsed_sections": [],
   "provenance": []
  },
  "kernelspec": {
   "display_name": "Python 3 (ipykernel)",
   "language": "python",
   "name": "python3"
  },
  "language_info": {
   "codemirror_mode": {
    "name": "ipython",
    "version": 3
   },
   "file_extension": ".py",
   "mimetype": "text/x-python",
   "name": "python",
   "nbconvert_exporter": "python",
   "pygments_lexer": "ipython3",
   "version": "3.9.12"
  }
 },
 "nbformat": 4,
 "nbformat_minor": 1
}
