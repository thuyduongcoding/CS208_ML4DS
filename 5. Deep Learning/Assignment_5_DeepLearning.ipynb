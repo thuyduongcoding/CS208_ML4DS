{
 "cells": [
  {
   "cell_type": "markdown",
   "metadata": {
    "id": "Y6DyphAUEBOi"
   },
   "source": [
    "# Assignment 5: Deep Learning {-}\n",
    "\n",
    "This assignment aims at familiarizing you with training and testing a Deep Neural Network (DNN). Here are the BASIC requirements of the assignment:\n",
    "\n",
    "- Load the data.\n",
    "- Process and normalize the images.\n",
    "- Build, train and test the two following Deep Neural Networks:\n",
    " - First network: must at least consist of three (03) Convolutional layers, two (02) Fully Connected layers, two (02) Pooling layers.\n",
    " - Second network: has at most 4M (four millions) parameters (use model.summary() to check). The architecture is of your choice.\n",
    "- Evaluate the model performance on the test set.\n",
    "\n",
    "The dataset you will be working on is cifar10 (https://www.cs.toronto.edu/~kriz/cifar.html) which consists of 60,000 32x32 colour images in 10 classes, with 6,000 images per class. There are 50,000 training images and 10,000 test images. Here follows the ten object classes:\n",
    "* airplane\n",
    "*\tautomobile\n",
    "*\tbird\n",
    "*\tcat\n",
    "*\tdeer\n",
    "*\tdog\n",
    "*\tfrog\n",
    "*\thorse\n",
    "*\tship\n",
    "*\ttruck\n",
    "\n",
    "Here follows some data samples in the dataset:\n",
    "\n",
    "![alt text](https://storage.googleapis.com/kaggle-competitions/kaggle/3649/media/cifar-10.png)\n",
    "\n",
    "### Submission {-}\n",
    "The structure of submission folder should be organized as follows:\n",
    "\n",
    "- ./\\<StudentID>-assignment5-notebook.ipynb: Jupyter notebook containing source code.\n",
    "- ./\\<Test-accuracy>-\\<StudentID>.txt: accuracy of the second network on the test set (for extra credit, see the 'Evaluation' part below). For example if you get 0.8124 accuracy, the name of this file is 08124-2012345.txt. The file content is left empty.\n",
    "\n",
    "The submission folder is named ML4DS-\\<StudentID>-Assignment5 (e.g., ML4DS-2012345-Assigment5) and then compressed with the same name.\n",
    "    \n",
    "### Evaluation {-}\n",
    "Assignment evaluation will be conducted on how you accomplish the assignment requirements. It is a plus if you have modeling steps other than the basic requirements and achieve an excellent model accuracy. In addition, your code should conform to a Python coding convention such as PEP-8.\n",
    "\n",
    "EXTRA CREDIT: Top-3 submissions achieving the highest test accuracy on the second network (of 4M params at most) will be rewarded an extra credit. Please follow the submission format to be eligible for this extra credit.\n",
    "\n",
    "### Deadline {-}\n",
    "Please visit Canvas for details."
   ]
  },
  {
   "cell_type": "code",
   "execution_count": 1,
   "metadata": {
    "id": "o7yiMO-bEBOl"
   },
   "outputs": [],
   "source": [
    "# Import libraries\n",
    "import numpy as np\n",
    "import tensorflow as tf\n",
    "import keras              # Keras is the high-level API of TensorFlow"
   ]
  },
  {
   "cell_type": "code",
   "execution_count": null,
   "metadata": {
    "colab": {
     "base_uri": "https://localhost:8080/"
    },
    "id": "M6_ZhoDnfROl",
    "outputId": "99c03122-8191-4b4f-bbf5-1c55f8821c42"
   },
   "outputs": [
    {
     "name": "stdout",
     "output_type": "stream",
     "text": [
      "Downloading data from https://www.cs.toronto.edu/~kriz/cifar-10-python.tar.gz\n",
      " 22978560/170498071 [===>..........................] - ETA: 10:46"
     ]
    }
   ],
   "source": [
    "# PLEASE DO NOT CHANGE THIS CODE\n",
    "\n",
    "# Load the cifar10 dataset and split train/test\n",
    "(X_train, y_train), (X_test, y_test) = tf.keras.datasets.cifar10.load_data()\n",
    "\n",
    "# Split train/valid from the training set\n",
    "from sklearn.model_selection import train_test_split\n",
    "X_train, X_val, y_train, y_val = train_test_split(X_train, y_train, test_size=0.1, random_state=5)\n",
    "\n",
    "print(\"Train shape: X_train = \" + str(X_train.shape) + \", y_train = \" + str(y_train.shape))\n",
    "print(\"Validation shape: X_val = \" + str(X_val.shape) + \", y_val = \" + str(y_val.shape))\n",
    "print(\"Test shape: X_test = \" + str(X_test.shape) + \", y_test = \" + str(y_test.shape))"
   ]
  },
  {
   "cell_type": "code",
   "execution_count": 13,
   "metadata": {
    "colab": {
     "base_uri": "https://localhost:8080/",
     "height": 515
    },
    "id": "v9EqVmHqfoL9",
    "outputId": "48d96a3b-60ac-44ce-c6be-94e1a8e5bb86"
   },
   "outputs": [
    {
     "data": {
      "image/png": "[encoded data removed]",
      "text/plain": [
       "<Figure size 432x288 with 1 Axes>"
      ]
     },
     "metadata": {
      "needs_background": "light"
     },
     "output_type": "display_data"
    },
    {
     "data": {
      "image/png": "[encoded data removed]",
      "text/plain": [
       "<Figure size 432x288 with 1 Axes>"
      ]
     },
     "metadata": {
      "needs_background": "light"
     },
     "output_type": "display_data"
    }
   ],
   "source": [
    "# Show some samples in the dataset\n",
    "import matplotlib.pyplot as plt\n",
    "imgplot = plt.imshow(X_train[5])\n",
    "plt.show()\n",
    "imgplot = plt.imshow(X_test[10])\n",
    "plt.show()"
   ]
  },
  {
   "cell_type": "code",
   "execution_count": 14,
   "metadata": {
    "id": "DQfcepEOgX3t"
   },
   "outputs": [],
   "source": [
    "# Your code goes here"
   ]
  }
 ],
 "metadata": {
  "accelerator": "GPU",
  "colab": {
   "collapsed_sections": [],
   "provenance": []
  },
  "kernelspec": {
   "display_name": "Python 3 (ipykernel)",
   "language": "python",
   "name": "python3"
  },
  "language_info": {
   "codemirror_mode": {
    "name": "ipython",
    "version": 3
   },
   "file_extension": ".py",
   "mimetype": "text/x-python",
   "name": "python",
   "nbconvert_exporter": "python",
   "pygments_lexer": "ipython3",
   "version": "3.9.12"
  }
 },
 "nbformat": 4,
 "nbformat_minor": 1
}
